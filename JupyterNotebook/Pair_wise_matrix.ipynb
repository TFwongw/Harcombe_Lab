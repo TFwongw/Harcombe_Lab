{
 "cells": [
  {
   "cell_type": "code",
   "execution_count": 60,
   "id": "22977a23",
   "metadata": {},
   "outputs": [],
   "source": [
    "%store -r pw_drug_response_dict"
   ]
  },
  {
   "cell_type": "code",
   "execution_count": 196,
   "id": "a07c6306",
   "metadata": {},
   "outputs": [
    {
     "data": {
      "text/plain": [
       "[0.7541530691168119, 0.07769447061059034, 0.5672807810677499]"
      ]
     },
     "execution_count": 196,
     "metadata": {},
     "output_type": "execute_result"
    }
   ],
   "source": [
    "%store -r list_target_obj_val\n",
    "%store -r pw_drug_response_dict\n",
    "list_target_obj_val"
   ]
  },
  {
   "cell_type": "code",
   "execution_count": 211,
   "id": "87209280",
   "metadata": {},
   "outputs": [
    {
     "data": {
      "text/plain": [
       "True"
      ]
     },
     "execution_count": 211,
     "metadata": {},
     "output_type": "execute_result"
    }
   ],
   "source": [
    "('folA','guaB') in pw_drug_response_dict.keys()"
   ]
  },
  {
   "cell_type": "code",
   "execution_count": 220,
   "id": "d09d0ccf",
   "metadata": {},
   "outputs": [
    {
     "name": "stdout",
     "output_type": "stream",
     "text": [
      "20\n",
      "21\n",
      "22\n",
      "23\n",
      "24\n",
      "25\n"
     ]
    },
    {
     "data": {
      "text/plain": [
       "<Figure size 640x480 with 0 Axes>"
      ]
     },
     "metadata": {},
     "output_type": "display_data"
    }
   ],
   "source": [
    "import seaborn as sns\n",
    "n_pairs = 20\n",
    "import numpy as np\n",
    "# %store -r pw_drug_response_dict\n",
    "n_fig = 20\n",
    "go = False\n",
    "for i, (key, df) in enumerate(pw_drug_response_dict.items()):\n",
    "#     print(i, key)\n",
    "    if i<len(pw_drug_response_dict) and go:\n",
    "#     if i<3:\n",
    "#         print(key)\n",
    "        new_graph = i%n_pairs\n",
    "        if new_graph==0:\n",
    "            fig, axs = plt.subplots(nrows=n_pairs,ncols=3,figsize=(25,8*n_pairs))\n",
    "            cbar_ax = fig.add_axes([.91, .3, .03, .4])\n",
    "\n",
    "        for j, (col, target_obj_val) in enumerate(zip(df.columns, list_target_obj_val)):\n",
    "            ax_loc = [new_graph,j]\n",
    "#             print(new_graph,ax_loc)\n",
    "    #         print(ax_loc)\n",
    "            if df[col][0] is not None:\n",
    "                obj_array = (np.array(df[col])[:-2].astype(float).reshape(5,5)/target_obj_val).round(2)\n",
    "\n",
    "                sns.heatmap(obj_array,ax=axs[ax_loc[0]][ax_loc[1]],cbar=new_graph == 0,\n",
    "                            vmin=0.2, vmax=0.9, annot=True,\n",
    "                            cbar_ax=None if new_graph else cbar_ax)\n",
    "#                 sns.heatmap(obj_array)\n",
    "                if new_graph==0:\n",
    "                    ax=axs[ax_loc[0]][ax_loc[1]].set_title(f'{col}',fontsize = 30)\n",
    "                ax=axs[ax_loc[0]][ax_loc[1]].set_xlabel(f'{key[1]}',fontsize = 20)\n",
    "                ax=axs[ax_loc[0]][ax_loc[1]].set_ylabel(f'{key[0]}',fontsize = 20)\n",
    "                ax=axs[ax_loc[0]][ax_loc[1]].set_xticks(range(5),labels=df[col]['x_ticks'])\n",
    "                ax=axs[ax_loc[0]][ax_loc[1]].set_yticks(range(5),labels=np.flip(df['E0']['y_ticks']))\n",
    "        if new_graph==n_pairs-1 or i==len(pw_drug_response_dict)-1:\n",
    "    #         plt.tight_layout()\n",
    "            plt.savefig(f'./Drug_response_mat/fig_{n_fig}.pdf')\n",
    "            print(n_fig)\n",
    "            n_fig += 1 \n",
    "#             plt.show()\n",
    "            plt.close(\"all\")\n",
    "            plt.close()\n",
    "            plt.cla()\n",
    "            plt.clf()\n",
    "\n",
    "        if i%43 ==0:\n",
    "            gc.collect()\n",
    "    if(key == ('folA', 'guaB')):\n",
    "        go = True\n",
    "#         print(i)\n"
   ]
  },
  {
   "cell_type": "code",
   "execution_count": 221,
   "id": "0ebd123a",
   "metadata": {},
   "outputs": [
    {
     "data": {
      "text/plain": [
       "495"
      ]
     },
     "execution_count": 221,
     "metadata": {},
     "output_type": "execute_result"
    }
   ],
   "source": [
    "i"
   ]
  },
  {
   "cell_type": "code",
   "execution_count": 214,
   "id": "40937ae8",
   "metadata": {},
   "outputs": [
    {
     "data": {
      "text/plain": [
       "14"
      ]
     },
     "execution_count": 214,
     "metadata": {},
     "output_type": "execute_result"
    }
   ],
   "source": [
    "90%19"
   ]
  },
  {
   "cell_type": "code",
   "execution_count": 204,
   "id": "0aeb8401",
   "metadata": {},
   "outputs": [
    {
     "data": {
      "text/plain": [
       "<Figure size 640x480 with 0 Axes>"
      ]
     },
     "metadata": {},
     "output_type": "display_data"
    }
   ],
   "source": [
    "plt.cla()\n",
    "plt.clf()"
   ]
  },
  {
   "cell_type": "code",
   "execution_count": 222,
   "id": "8eef5150",
   "metadata": {},
   "outputs": [
    {
     "data": {
      "text/plain": [
       "1018916"
      ]
     },
     "execution_count": 222,
     "metadata": {},
     "output_type": "execute_result"
    }
   ],
   "source": [
    "import gc\n",
    "gc.collect()"
   ]
  },
  {
   "cell_type": "code",
   "execution_count": 171,
   "id": "a75c4322",
   "metadata": {},
   "outputs": [],
   "source": [
    "# obj_div_df_50percent['E0_div_opt_alpha'].plot().hist()"
   ]
  }
 ],
 "metadata": {
  "kernelspec": {
   "display_name": "Flux",
   "language": "python",
   "name": "flux"
  },
  "language_info": {
   "codemirror_mode": {
    "name": "ipython",
    "version": 3
   },
   "file_extension": ".py",
   "mimetype": "text/x-python",
   "name": "python",
   "nbconvert_exporter": "python",
   "pygments_lexer": "ipython3",
   "version": "3.11.3"
  },
  "toc": {
   "base_numbering": 1,
   "nav_menu": {},
   "number_sections": true,
   "sideBar": true,
   "skip_h1_title": false,
   "title_cell": "Table of Contents",
   "title_sidebar": "Contents",
   "toc_cell": false,
   "toc_position": {},
   "toc_section_display": true,
   "toc_window_display": false
  },
  "varInspector": {
   "cols": {
    "lenName": 16,
    "lenType": 16,
    "lenVar": 40
   },
   "kernels_config": {
    "python": {
     "delete_cmd_postfix": "",
     "delete_cmd_prefix": "del ",
     "library": "var_list.py",
     "varRefreshCmd": "print(var_dic_list())"
    },
    "r": {
     "delete_cmd_postfix": ") ",
     "delete_cmd_prefix": "rm(",
     "library": "var_list.r",
     "varRefreshCmd": "cat(var_dic_list()) "
    }
   },
   "types_to_exclude": [
    "module",
    "function",
    "builtin_function_or_method",
    "instance",
    "_Feature"
   ],
   "window_display": false
  }
 },
 "nbformat": 4,
 "nbformat_minor": 5
}

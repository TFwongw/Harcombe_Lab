{
 "cells": [
  {
   "cell_type": "markdown",
   "id": "c29888f7",
   "metadata": {},
   "source": [
    "# get flux"
   ]
  },
  {
   "cell_type": "code",
   "execution_count": 1,
   "id": "731d0425",
   "metadata": {},
   "outputs": [],
   "source": [
    "import pandas as pd\n",
    "import itertools\n",
    "import cobra\n",
    "from typing import Dict, List\n",
    "from collections import defaultdict\n",
    "\n",
    "E0 = cobra.io.read_sbml_model(\"./models/iML1515_E0.xml\")\n",
    "gene_pathway_df = pd.read_csv('./Data/gene_pathway.csv')\n",
    "desired_cycle = pd.read_csv('./Data/desired_cycle.csv', index_col=0) #flux analysis.ipynb\n",
    "# gr_DG = pd.read_csv('./r/data fitting/standardized_gr_Div_DG_Mult_Aug31.csv', index_col='gene_inhibition')\n",
    "rct_pathway_df = pd.read_csv('./Data/rct_pathway.csv')\n",
    "alpha_table = pd.read_csv('./Data/alpha_table.csv', index_col='Gene_inhibition')\n"
   ]
  },
  {
   "cell_type": "code",
   "execution_count": 32,
   "id": "a287210a",
   "metadata": {},
   "outputs": [],
   "source": [
    "from itertools import chain"
   ]
  },
  {
   "cell_type": "code",
   "execution_count": 9,
   "id": "e9009d99",
   "metadata": {},
   "outputs": [],
   "source": [
    "alpha_table = pd.read_csv('./Data/alpha_table.csv', index_col='Gene_inhibition')\n",
    "p_o = pd.read_csv('./Data/pair_pathway_drug_effect.csv', index_col=0)"
   ]
  },
  {
   "cell_type": "code",
   "execution_count": 11,
   "id": "6a3d2010",
   "metadata": {},
   "outputs": [],
   "source": [
    "def convert_arg_to_list(arg):\n",
    "    if type(arg) is not list and type(arg) is not tuple:\n",
    "        arg = [arg]\n",
    "    return(arg)\n",
    "\n",
    "def get_Biomass_df(files):\n",
    "    return pd.concat(\n",
    "            [pd.read_csv(file, index_col='cycle')\n",
    "             for file in convert_arg_to_list(files)]\n",
    "        ,axis=1)\n",
    "\n",
    "Biomass_df = get_Biomass_df(['./Data/BM_SG1.csv', './Data/BM_DG1.csv'])"
   ]
  },
  {
   "cell_type": "code",
   "execution_count": 12,
   "id": "4885133e",
   "metadata": {},
   "outputs": [],
   "source": [
    "def get_gene_id(model, gene_name):\n",
    "    for i in model.genes:\n",
    "        if(i.name == gene_name):\n",
    "            return(i.id)\n",
    "\n",
    "def get_rcts_list(gcomb_list): \n",
    "    rcts_list = list()\n",
    "    rcts_set = set()\n",
    "    for i, gene in enumerate(gcomb_list):\n",
    "        gene_rcts = [rct.id for rct in E0.genes.get_by_id(get_gene_id(E0, gene)).reactions]\n",
    "        if i > 0:\n",
    "            gene_rcts = list(set(gene_rcts) - rcts_set)\n",
    "        rcts_list.append(gene_rcts)\n",
    "        rcts_set = rcts_set | set(gene_rcts)\n",
    "    return rcts_list\n",
    "\n",
    "def adjust_flux_df(df, gene_combo: list):\n",
    "    if 'Normal' not in gene_combo:\n",
    "#         gene_combo_dict = get_gcomb_alpha_dict(gene_combo) \n",
    "        v1_cols = df.filter(regex='v1').columns\n",
    "        orig_cols = [ele.replace(\"_v1\", '') for ele in df.filter(regex='v1').columns]\n",
    "        \n",
    "        gene_combo_list = gene_combo.split('.')\n",
    "        rcts_list = get_rcts_list(gene_combo_list)\n",
    "        scaled_rcts = list()\n",
    "        for gene, rcts in zip(gene_combo_list, rcts_list):  \n",
    "            rcts = [rct for rct in rcts if rct in orig_cols]\n",
    "            for orig_col in rcts:\n",
    "                alpha = alpha_table.loc[f'{gene}', 'E0']   \n",
    "                v1_col = orig_col + \"_v1\"\n",
    "                df[f'{orig_col}'] = (df[f'{orig_col}'] + df[f'{v1_col}'])/alpha # only forward or backward != 0               \n",
    "                df = df.drop(f'{v1_col}', axis=1) \n",
    "#     print(df.filter(regex='v1').columns)\n",
    "    return df\n",
    "\n",
    "def get_desired_BM(Biomass_df = Biomass_df, regex='Normal_coculture'):\n",
    "    return Biomass_df.filter(regex=regex)"
   ]
  },
  {
   "cell_type": "code",
   "execution_count": 13,
   "id": "09343bc1",
   "metadata": {},
   "outputs": [],
   "source": [
    "# compare_df = compare_df.rename_axis('Reactions').reset_index()\n",
    "\n",
    "def get_row_grmax(desired_BM, genes='Normal'): # currently only E0\n",
    "    desired_cycle = find_down_neighbour(desired_BM)\n",
    "    dfE = analysis_df.loc[genes, 'E0_coculture_flux']\n",
    "#     dfE = remove_Zero_col(pd.read_json(dfE). # no use \n",
    "    dfE = (pd.read_json(dfE). \n",
    "           query(\"cycle in @desired_cycle\").\n",
    "           drop(['x','y','cycle'], axis=1))\n",
    "    dfE.index = [genes]\n",
    "    \n",
    "    return dfE\n",
    "\n",
    "def get_genes_compare(gene_list, Biomass_df, regex): # generate every gene-> subset\n",
    "    desired_BM = get_desired_BM(Biomass_df, regex=regex)\n",
    "    compare_list = list()\n",
    "    for genes in gene_list:\n",
    "\n",
    "        temp_df = get_row_grmax(desired_BM, genes=genes) # for flux only\n",
    "        \"\"\"\n",
    "        If ~ == flux/ not metabo\n",
    "        \"\"\"    \n",
    "        temp_df = adjust_flux_df(temp_df, genes)\n",
    "        compare_list.append(temp_df)\n",
    "        \n",
    "    compare_df = (remove_Zero_col(pd.concat(compare_list)).T. # row to column\n",
    "                  sort_values(by='Normal', key=abs, ascending=False)) # with 0 cell\n",
    "    return compare_df\n",
    "\n",
    "def get_abs_df(df):\n",
    "    return (pd.DataFrame({colname: abs(col) for colname, col in df.items()}).\n",
    "                  rename_axis('Reactions').\n",
    "                  reset_index())"
   ]
  },
  {
   "cell_type": "code",
   "execution_count": 14,
   "id": "130fe273",
   "metadata": {},
   "outputs": [],
   "source": [
    "def supply_line(file):\n",
    "#     file = f'./Data/{file}'\n",
    "    with open(file) as fh:\n",
    "        for line in fh:\n",
    "            yield json.loads(line) \n",
    "            \n",
    "def retrive_specific_culture(file, culture_key):\n",
    "#     culture_key = 'E0_coculture_flux'\n",
    "    supp = supply_line(file)\n",
    "    flux_dict = dict()\n",
    "    for line in supp:    # culture as column <=> keys\n",
    "        culture_dict = line.get(f'{culture_key}')\n",
    "        if culture_dict:\n",
    "            return culture_dict\n",
    "\n",
    "def retrive_specific_keys(file, culture_key, genes_dict: Dict[str, int]):\n",
    "    \n",
    "    def get_flux_dict(culture_dict, genes_dict):\n",
    "        flux_dict, no_grow= dict(), list()\n",
    "        for current_gene_combo, cycle in genes_dict.items():\n",
    "            if cycle < 15:\n",
    "                no_grow.append(current_gene_combo)\n",
    "                flux_dict[current_gene_combo] = pd.DataFrame([], index = [f'{current_gene_combo}'])\n",
    "            else:\n",
    "                desired_js = culture_dict.get(f'{current_gene_combo}')\n",
    "                temp_df = pd.read_json(desired_js).query(\"cycle == @cycle\")\n",
    "                temp_df.index = [current_gene_combo]\n",
    "    #                 return temp_df, current_gene_combo\n",
    "                flux_dict[current_gene_combo] = adjust_flux_df(temp_df, current_gene_combo) # df as \n",
    "#             genes_dict = {current_gene_combo: genes_dict.get(f'{current_gene_combo}') for current_gene_combo in genes_dict}  #subset of gene\n",
    "        if no_grow:\n",
    "            print('Zero growth: ', ', '.join(no_grow))\n",
    "        return pd.concat(flux_dict.values()) # pd.read_json() culture_key -> col pd.read_json()\n",
    "    \n",
    "    if type(file) is dict:\n",
    "        return get_flux_dict(file, genes_dict)\n",
    "    else:\n",
    "        culture_dict = retrive_specific_culture(file, culture_key)\n",
    "        return get_flux_dict(culture_dict, genes_dict) \n",
    "    \n",
    "def query_desired_cycle(cgc_list: list):\n",
    "    return {gcomb: desired_cycle[gcomb] for gcomb in cgc_list}\n",
    "# pwy group with more than 2 element\n",
    "def get_pwypair_gp_GRT2(p_o: dict): # index greater than 2 element\n",
    "    flux_compare_combos_dict = {k:v for k,v in p_o.items() if len(v)>=2}\n",
    "    return flux_compare_combos_dict\n"
   ]
  },
  {
   "cell_type": "code",
   "execution_count": 15,
   "id": "deedcb81",
   "metadata": {},
   "outputs": [],
   "source": [
    "def retrive_specific_keys(file, culture_key, desired_cycle):\n",
    "    def get_flux_dict(culture_dict, desired_cycle):\n",
    "        flux_dict, no_grow= dict(), list()\n",
    "        for current_gene_combo, cycle in desired_cycle.iterrows():\n",
    "            cycle = cycle['cycle']\n",
    "            if cycle < 15:\n",
    "                no_grow.append(current_gene_combo)\n",
    "                flux_dict[current_gene_combo] = pd.DataFrame([], index = [f'{current_gene_combo}'])\n",
    "            else:\n",
    "                desired_js = culture_dict.get(f'{current_gene_combo}')\n",
    "                temp_df = pd.read_json(desired_js).query(\"cycle == @cycle\")\n",
    "                temp_df.index = [current_gene_combo]\n",
    "        #                 return temp_df, current_gene_combo\n",
    "                flux_dict[current_gene_combo] = adjust_flux_df(temp_df, current_gene_combo) # df as \n",
    "        #             genes_dict = {current_gene_combo: genes_dict.get(f'{current_gene_combo}') for current_gene_combo in genes_dict}  #subset of gene\n",
    "        if no_grow:\n",
    "            print('Zero growth: ', ', '.join(no_grow))\n",
    "        return pd.concat(flux_dict.values()) # pd.read_json() culture_key -> col pd.read_json()\n",
    "    \n",
    "    if type(file) is dict:\n",
    "        return get_flux_dict(file, desired_cycle)\n",
    "    else:\n",
    "        culture_dict = retrive_specific_culture(file, culture_key)\n",
    "        return get_flux_dict(culture_dict, desired_cycle) \n",
    "    \n",
    "def remove_Zero_col(df): # extend N differ than 0 \n",
    "    return(df.loc[:, (df !=0).any(axis=0)]) \n",
    "\n",
    "def clean_flux_df(df):\n",
    "    return remove_Zero_col(df.dropna())"
   ]
  },
  {
   "cell_type": "code",
   "execution_count": 16,
   "id": "ed7c0559",
   "metadata": {},
   "outputs": [],
   "source": [
    "SG_cycle = desired_cycle.loc[[ele for ele in desired_cycle.index if len(ele.split('.')) ==1]]\n",
    "DG_cycle = desired_cycle.loc[[ele for ele in desired_cycle.index if len(ele.split('.')) >=2]]\n",
    "Normal_cycle = SG_cycle.loc[['Normal']]\n",
    "Normal_df = retrive_specific_keys('./Data/flanalysis_BM_SG.json', 'E0_coculture_flux', Normal_cycle)"
   ]
  },
  {
   "cell_type": "code",
   "execution_count": 17,
   "id": "ea2f3e19",
   "metadata": {},
   "outputs": [
    {
     "name": "stdout",
     "output_type": "stream",
     "text": [
      "Zero growth:  dadX.eno, dadX.gapA, acnB.purT, acnB.ackA\n"
     ]
    }
   ],
   "source": [
    "culture_dict = retrive_specific_culture('./Data/ccol_DG.json', 'E0_coculture_flux')\n",
    "flux_compare_df = retrive_specific_keys(culture_dict, 'E0_coculture_flux', DG_cycle)\n",
    "flux_compare_df = pd.concat([Normal_df, flux_compare_df])\n",
    "# flux_compare_df.to_csv('./Data/raw_gr_flux.csv')\n",
    "flux_compare_df = clean_flux_df(flux_compare_df)\n",
    "flux_compare_df.index.name = 'DG'"
   ]
  },
  {
   "cell_type": "markdown",
   "id": "05252eb3",
   "metadata": {},
   "source": [
    "SG flux compare"
   ]
  },
  {
   "cell_type": "code",
   "execution_count": 20,
   "id": "7c422bd9",
   "metadata": {},
   "outputs": [
    {
     "name": "stdout",
     "output_type": "stream",
     "text": [
      "Zero growth:  gapA, eno, yrbG\n"
     ]
    }
   ],
   "source": [
    "SG_df = retrive_specific_keys('./Data/flanalysis_BM_SG.json', 'E0_coculture_flux', SG_cycle)\n",
    "# SG_df.to_csv('./Data/raw_SGgr_flux.csv')\n",
    "SG_df = clean_flux_df(SG_df)"
   ]
  },
  {
   "cell_type": "code",
   "execution_count": 21,
   "id": "2c838ca4",
   "metadata": {},
   "outputs": [],
   "source": [
    "exchange_rct = [rct.id for rct in E0.reactions if 'EX_' in rct.id]\n",
    "CAC_rct = rct_pathway_df.query('Pathway==\"Citric Acid Cycle\"').Reaction.unique()"
   ]
  },
  {
   "cell_type": "code",
   "execution_count": 22,
   "id": "5fee9b5a",
   "metadata": {},
   "outputs": [],
   "source": [
    "def subset_cols_flux_df(reactions: list, flux_compare_df=flux_compare_df):\n",
    "    return flux_compare_df[[ele for ele in flux_compare_df.columns if ele in reactions]]\n",
    "exchange_df = subset_cols_flux_df(exchange_rct)\n",
    "CAC_df = subset_cols_flux_df(CAC_rct)"
   ]
  },
  {
   "cell_type": "code",
   "execution_count": 23,
   "id": "8d650133",
   "metadata": {},
   "outputs": [],
   "source": [
    "def subset_cols_flux_df(reactions: list, flux_compare_df=flux_compare_df):\n",
    "    return flux_compare_df[[ele for ele in flux_compare_df.columns \n",
    "                            if ele in reactions]]\n",
    "exchange_df = subset_cols_flux_df(exchange_rct, SG_df)\n",
    "CAC_df = subset_cols_flux_df(CAC_rct, SG_df)"
   ]
  },
  {
   "cell_type": "code",
   "execution_count": 24,
   "id": "19f99901",
   "metadata": {},
   "outputs": [],
   "source": [
    "def get_large_ac_df(exchange_df,ac_threshold=6):\n",
    "    return exchange_df.query('EX_ac_e >@ac_threshold | EX_ac_e< -1*@ac_threshold').index\n",
    "large_ac = get_large_ac_df(exchange_df)"
   ]
  },
  {
   "cell_type": "code",
   "execution_count": 25,
   "id": "30fc5c56",
   "metadata": {},
   "outputs": [
    {
     "data": {
      "text/plain": [
       "Index(['mrdA', 'dapA', 'pgk', 'gltA'], dtype='object')"
      ]
     },
     "execution_count": 25,
     "metadata": {},
     "output_type": "execute_result"
    }
   ],
   "source": [
    "get_large_ac_df(exchange_df, 0.3)"
   ]
  },
  {
   "cell_type": "code",
   "execution_count": 30,
   "id": "675596ec",
   "metadata": {},
   "outputs": [],
   "source": [
    "def get_high_EX_df(nlargest):\n",
    "    DG_list = DG_cycle.index\n",
    "    temp_list = list()\n",
    "    for current_gene in nlargest:\n",
    "        temp_list.append([current_gene, exchange_df.loc[current_gene,'EX_ac_e'], [ele for ele in DG_list if current_gene in ele]])\n",
    "    df = pd.DataFrame.from_records(temp_list,columns=['SG_High_ac_execretion', 'SG_EX_ac_flux', 'DG'])\n",
    "    return df\n",
    "\n",
    "def get_nlargest_flux(Reaction: str, n):\n",
    "    nlargest =  exchange_df[[Reaction]].nlargest(n, columns=Reaction).sort_values(Reaction,ascending=False).index\n",
    "    return get_high_EX_df(nlargest)\n",
    "ac_flux_df = get_nlargest_flux('EX_ac_e', len(SG_cycle.index))\n",
    "DG_ac = [v for v in ac_flux_df.DG.explode().unique() if v==v]\n"
   ]
  },
  {
   "cell_type": "markdown",
   "id": "ddfeeb28",
   "metadata": {},
   "source": [
    "DG_exchange_df = subset_cols_flux_df('EX_ac_e', flux_compare_df).reset_index()"
   ]
  },
  {
   "cell_type": "markdown",
   "id": "ae1e9e3d",
   "metadata": {},
   "source": [
    "gene_pathway_df = pd.read_csv('./Data/gene_pathway.csv')"
   ]
  },
  {
   "cell_type": "markdown",
   "id": "87dc0ffb",
   "metadata": {},
   "source": [
    "(ac_flux_df.explode('DG').merge(DG_exchange_df, on='DG', how='left')\n",
    "                       .merge(p_o[['Drug_comb_effect']].reset_index(), left_on='DG',\n",
    "                              right_on='Gene_inhibition', how='left'))"
   ]
  },
  {
   "cell_type": "markdown",
   "id": "14ef945a",
   "metadata": {},
   "source": [
    "ac_flux_df = (ac_flux_df.explode('DG').merge(DG_exchange_df, on='DG', how='left')\n",
    "                       .merge(p_o[['Drug_comb_effect']].reset_index(), left_on='DG',\n",
    "                              right_on='Gene_inhibition', how='left', right_index=False)\n",
    "                       .merge(gene_pathway_df, left_on='DG',\n",
    "                              right_on='Gene_inhibition', how='left', right_index=False))\n",
    "cols = ac_flux_df\n"
   ]
  },
  {
   "cell_type": "code",
   "execution_count": 36,
   "id": "eb32df34",
   "metadata": {},
   "outputs": [],
   "source": [
    "def get_ac_flux_df():\n",
    "    ac_flux_df = get_nlargest_flux('EX_ac_e', len(SG_cycle.index))\n",
    "    ac_flux_df = (ac_flux_df.explode('DG').merge(DG_exchange_df, on='DG', how='left')\n",
    "                           .merge(p_o[['Drug_comb_effect']].reset_index(), left_on='DG',\n",
    "                                  right_on='Gene_inhibition', how='left')\n",
    "                           .merge(gene_pathway_df[['Gene_inhibition', 'Pathway']], how='left'))\n",
    "    cols = ac_flux_df.columns\n",
    "    ac_flux_df = ac_flux_df[list(chain(*[cols[:2], [cols[-1]], cols[2:-1]]))]\n",
    "\n",
    "    ac_flux_df = get_nlargest_flux('EX_ac_e', len(SG_cycle.index))\n",
    "    sub_gene_pathway_df = (gene_pathway_df[['Gene_inhibition', 'Pathway']]\n",
    "     .groupby('Gene_inhibition', as_index=False)\n",
    "     .agg(Pathway = ('Pathway',lambda x: ' + '.join(x))))\n",
    "\n",
    "    ac_flux_df = (ac_flux_df.explode('DG').merge(DG_exchange_df, on='DG', how='left')\n",
    "                           .merge(p_o[['Drug_comb_effect']].reset_index(), left_on='DG',\n",
    "                                  right_on='Gene_inhibition', how='left')\n",
    "                           .merge(sub_gene_pathway_df, left_on='SG_High_ac_execretion',\n",
    "                                  right_on='Gene_inhibition',how='left'))\n",
    "    cols = ac_flux_df.columns\n",
    "    ac_flux_df = ac_flux_df[list(chain(*[cols[:2], [cols[-1]], cols[2:-2]]))]\n",
    "    ac_flux_df['SG_DG_ac_flux_diff'] = ac_flux_df.SG_EX_ac_flux-ac_flux_df.EX_ac_e\n",
    "    ac_flux_df['Drug_comb_ac_flux_change'] = pd.cut(\n",
    "        ac_flux_df.SG_DG_ac_flux_diff, bins=[-10,0,10],labels=['Drug_comb_increased_ac_excretion',\n",
    "                                                                        'Drug_comb_reduced_ac_excretion'])\n",
    "\n",
    "    ac_flux_df.query('Drug_comb_ac_flux_change == \"Drug_comb_increased_ac_excretion\"')\n",
    "    ac_flux_df.to_csv('ac_flux_compare.csv', index=False)\n",
    "ac_flux_df = get_ac_flux_df()"
   ]
  },
  {
   "cell_type": "code",
   "execution_count": 113,
   "id": "d878386b",
   "metadata": {
    "run_control": {
     "marked": true
    }
   },
   "outputs": [
    {
     "data": {
      "text/plain": [
       "<AxesSubplot:>"
      ]
     },
     "execution_count": 113,
     "metadata": {},
     "output_type": "execute_result"
    },
    {
     "data": {
      "image/png": "[encoded data removed]",
      "text/plain": [
       "<Figure size 640x480 with 1 Axes>"
      ]
     },
     "metadata": {},
     "output_type": "display_data"
    }
   ],
   "source": [
    "exchange_df.EX_ac_e.hist()"
   ]
  }
 ],
 "metadata": {
  "kernelspec": {
   "display_name": "vR",
   "language": "python",
   "name": "vr"
  },
  "language_info": {
   "codemirror_mode": {
    "name": "ipython",
    "version": 3
   },
   "file_extension": ".py",
   "mimetype": "text/x-python",
   "name": "python",
   "nbconvert_exporter": "python",
   "pygments_lexer": "ipython3",
   "version": "3.7.16"
  },
  "toc": {
   "base_numbering": 1,
   "nav_menu": {},
   "number_sections": true,
   "sideBar": true,
   "skip_h1_title": false,
   "title_cell": "Table of Contents",
   "title_sidebar": "Contents",
   "toc_cell": false,
   "toc_position": {},
   "toc_section_display": true,
   "toc_window_display": false
  },
  "varInspector": {
   "cols": {
    "lenName": 16,
    "lenType": 16,
    "lenVar": 40
   },
   "kernels_config": {
    "python": {
     "delete_cmd_postfix": "",
     "delete_cmd_prefix": "del ",
     "library": "var_list.py",
     "varRefreshCmd": "print(var_dic_list())"
    },
    "r": {
     "delete_cmd_postfix": ") ",
     "delete_cmd_prefix": "rm(",
     "library": "var_list.r",
     "varRefreshCmd": "cat(var_dic_list()) "
    }
   },
   "types_to_exclude": [
    "module",
    "function",
    "builtin_function_or_method",
    "instance",
    "_Feature"
   ],
   "window_display": false
  }
 },
 "nbformat": 4,
 "nbformat_minor": 5
}

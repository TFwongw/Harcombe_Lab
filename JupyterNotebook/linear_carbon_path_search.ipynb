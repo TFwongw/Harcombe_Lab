{
 "cells": [
  {
   "cell_type": "markdown",
   "id": "b2f1f70c",
   "metadata": {},
   "source": [
    "# Initialization "
   ]
  },
  {
   "cell_type": "code",
   "execution_count": 3,
   "id": "4c459f83",
   "metadata": {
    "init_cell": true
   },
   "outputs": [],
   "source": [
    "import cobra\n",
    "from cobra.io import load_model\n",
    "import cometspy as c\n",
    "import os\n",
    "import pandas as pd\n",
    "import matplotlib.pyplot as plt\n",
    "import numpy as np\n",
    "import itertools\n",
    "import sys\n",
    "\n",
    "E0 = cobra.io.read_sbml_model(\"./models/iML1515_E0.xml\")\n",
    "S0 = cobra.io.read_sbml_model(\"./models/STM_v1_0_S0.xml\")"
   ]
  },
  {
   "cell_type": "code",
   "execution_count": 4,
   "id": "a656330e",
   "metadata": {
    "init_cell": true
   },
   "outputs": [],
   "source": [
    "# E0 = cobra.io.read_sbml_model(\"./models/iML1515_E0.xml\")\n",
    "lactose_medium = {'EX_ca2_e': 10,\n",
    " 'EX_cl_e': 10,\n",
    " 'EX_cobalt2_e': 10,\n",
    " 'EX_cu2_e': 10,\n",
    " 'EX_fe2_e': 10,\n",
    " 'EX_fe3_e': 10,\n",
    " 'EX_k_e': 10,\n",
    " 'EX_mg2_e': 10,\n",
    " 'EX_mn2_e': 10,\n",
    " 'EX_mobd_e': 10,\n",
    " 'EX_ni2_e': 10,\n",
    " 'EX_o2_e': 10,\n",
    " 'EX_pi_e': 10,\n",
    " 'EX_so4_e': 10,\n",
    " 'EX_zn2_e': 10,\n",
    " 'EX_nh4_e': 10,\n",
    " 'EX_lcts_e': 10}\n",
    "lactose_met_medium = lactose_medium.copy()\n",
    "lactose_met_medium[\"EX_met__L_e\"] = 10 \n",
    "E0.medium = lactose_met_medium \n",
    "E0.obj_style = \"MAX_OBJECTIVE_MIN_TOTAL\" \n",
    "\n",
    "def change_medium(model, metabolite, value): # function for setting medium metabolite value\n",
    "    medium = model.medium\n",
    "    medium[metabolite] = value\n",
    "    model.medium = medium\n",
    "\n",
    "ac_medium = {'EX_ca2_e': 10,\n",
    " 'EX_cl_e': 10,\n",
    " 'EX_cobalt2_e': 10,\n",
    " 'EX_cu2_e': 10,\n",
    " 'EX_fe2_e': 10,\n",
    " 'EX_fe3_e': 10,\n",
    " 'EX_k_e': 10,\n",
    " 'EX_mg2_e': 10,\n",
    " 'EX_mn2_e': 10,\n",
    " 'EX_mobd_e': 10,\n",
    " 'EX_ni2_e': 10,\n",
    " 'EX_o2_e': 10,\n",
    " 'EX_pi_e': 10,\n",
    " 'EX_so4_e': 10,\n",
    " 'EX_zn2_e': 10,\n",
    " 'EX_nh4_e': 10,\n",
    " 'EX_ac_e': 10}\n",
    "S0.medium = ac_medium  \n",
    "S0.obj_style = \"MAX_OBJECTIVE_MIN_TOTAL\" "
   ]
  },
  {
   "cell_type": "code",
   "execution_count": 13,
   "id": "07f26ab0",
   "metadata": {},
   "outputs": [],
   "source": [
    "S0=S0_ac"
   ]
  },
  {
   "cell_type": "code",
   "execution_count": 5,
   "id": "b1fba73f",
   "metadata": {},
   "outputs": [],
   "source": [
    "lactose_met_medium[\"EX_met__L_e\"] = .01\n",
    "E0.medium = lactose_met_medium \n",
    "E0.obj_style = \"MAX_OBJECTIVE_MIN_TOTAL\"  \n",
    "sol=E0.optimize().to_frame()"
   ]
  },
  {
   "cell_type": "code",
   "execution_count": 6,
   "id": "641024ea",
   "metadata": {},
   "outputs": [],
   "source": [
    "def substrate_only(rxn, met):\n",
    "    return rxn.lower_bound>=0 and met in rxn.reactants"
   ]
  },
  {
   "cell_type": "code",
   "execution_count": null,
   "id": "160f24c0",
   "metadata": {},
   "outputs": [],
   "source": [
    "E0.id = 'E0'\n",
    "S0.id = 'S0.ac'"
   ]
  },
  {
   "cell_type": "code",
   "execution_count": 15,
   "id": "573571b4",
   "metadata": {},
   "outputs": [],
   "source": [
    "all_metabolites = {E0.id: E0.metabolites, S0.id: S0.metabolites}"
   ]
  },
  {
   "cell_type": "code",
   "execution_count": 16,
   "id": "8098764a",
   "metadata": {},
   "outputs": [],
   "source": [
    "\n",
    "def get_rm(model, query):\n",
    "    if query in all_metabolites[model.id]:\n",
    "        return model.metabolites.get_by_id(query)\n",
    "    return model.reactions.get_by_id(query)\n",
    "\n",
    "def get_link_rm(model, query, id_only=True, is_sub_only=None):\n",
    "    query = get_rm(model, query)\n",
    "    if type(query) is cobra.Metabolite:\n",
    "        result = query.reactions \n",
    "        if is_sub_only is not None:\n",
    "            result = [rct for rct in result if substrate_only(rct, query)==is_sub_only]\n",
    "    else:\n",
    "        result = query.metabolites\n",
    "    if id_only:\n",
    "        result = [ele.id for ele in result]\n",
    "    return result"
   ]
  },
  {
   "cell_type": "markdown",
   "id": "5908266d",
   "metadata": {},
   "source": [
    "# Path search function "
   ]
  },
  {
   "cell_type": "code",
   "execution_count": 57,
   "id": "f8e601cc",
   "metadata": {},
   "outputs": [],
   "source": [
    "intermediate_metab = ['N7O14P2', 'C10H12N5O', 'C21H26N7O17','C21H25N7O17P3','CO2',\n",
    "                      'C5H8NO4', 'C3H7NO3', # glu                      \n",
    "                      'C23H34N7O17P3S', 'C21H32N7O16P3S' # Acetyl-CoA\n",
    "                     ]\n",
    "def find_shortest_path(model, start, end, rxn_exclude=[]):\n",
    "    def id_only(l):\n",
    "        return [ele.id for ele in l]\n",
    "    \n",
    "    def get_next_metabs(formula):\n",
    "\n",
    "        if formula:\n",
    "            if ('C' in formula) & all(\n",
    "                [inter_med not in formula for inter_med in intermediate_metab]):\n",
    "                return True\n",
    "        return False\n",
    "    end_rct_list = set(get_link_rm(model, end, is_sub_only=False)) - set(rxn_exclude)\n",
    "    start= model.metabolites.get_by_id(start)\n",
    "    end = model.metabolites.get_by_id(end)\n",
    "    possible_path = []\n",
    "    visited_mets = {start.id: True} \n",
    "    visited_rxns_prod = {}\n",
    "    queue = [(start, [], [])]\n",
    "    while queue:\n",
    "        met, path_rxn, path_metab = queue.pop(0)\n",
    "#         if met.id== 'u3aga_c':\n",
    "#             print('fk')\n",
    "#         print(path_metab)\n",
    "        for rxn in met.reactions:\n",
    "        \n",
    "            if rxn.id not in end_rct_list: # already terminate condition - improve !!!Loop\n",
    "                met_is_product = met in rxn.products\n",
    "                if (rxn.id in rxn_exclude) or (rxn.lower_bound>=0 and met_is_product): # want met to be reactant instead of product\n",
    "#                 if (rxn.id in rxn_exclude) or substrate_only(rxn, met)==False: # want met to be reactant instead of product\n",
    "                    continue\n",
    "                if (rxn.id, met.id) not in visited_rxns_prod:\n",
    "                    \n",
    "                    visited_rxns_prod[(rxn.id, met.id)] = True\n",
    "                    metab_list = rxn.reactants if met_is_product else rxn.products\n",
    "                    if metab_list:\n",
    "                        metab_list = [metab for metab in metab_list if get_next_metabs(metab.formula)] #ATP\n",
    "                        if metab_list:\n",
    "\n",
    "                            for next_met in metab_list:\n",
    "                                queue.append((next_met, path_rxn + [rxn], path_metab +[next_met]))\n",
    "\n",
    "            else: \n",
    "                result_path_rxn = path_rxn + [rxn]\n",
    "                path_metab=path_metab + [end] \n",
    "                possible_path.append(list(zip(*[id_only(result_path_rxn),\n",
    "                                  id_only(path_metab)])))\n",
    "    if possible_path:\n",
    "        return possible_path, visited_rxns_prod\n",
    "    else: return 'None', visited_rxns_prod\n",
    "    \n",
    "# def add_met_to_sol(model, metabolite):\n",
    "#     def classify(df):\n",
    "#         rct = get_rm(df.name)\n",
    "#         print(rct)\n",
    "#         if rct.lower_bound>=0: \n",
    "#             if get_rm(metabolite) in rct.products:\n",
    "#                 return 'product'\n",
    "#             else:\n",
    "#                 return 'reactant only'\n",
    "#         return 'reactant & product'\n",
    "#     df = sol.loc[get_link_rm(model, metabolite), ['fluxes']]\n",
    "#     df[metabolite] = df.apply(classify, axis=1)\n",
    "#     return df\n",
    "\n",
    "def get_flux_per_path(sol, paths, threshold = 0.05, override=False): # assume only one path\n",
    "    complete_path = False\n",
    "    df_list = []\n",
    "    exclude_rxn = []\n",
    "    for path in paths:\n",
    "        rct_seq = list(list(zip(*path))[0]) # flux path\n",
    "        df = sol.loc[rct_seq]\n",
    "        \n",
    "        temp_rxn = list(df.query('abs(fluxes)<@threshold').index)\n",
    "        exclude_rxn.append(temp_rxn)\n",
    "        if (not temp_rxn) or override:\n",
    "            print(df)\n",
    "            complete_path = True\n",
    "            df['C-product'] = list(list(zip(*path))[1]) # C-metab path \n",
    "            df_list.append(df)\n",
    "        \n",
    "    return df_list if (complete_path) else set(itertools.chain(*exclude_rxn))"
   ]
  },
  {
   "cell_type": "code",
   "execution_count": 18,
   "id": "161d9f22",
   "metadata": {},
   "outputs": [],
   "source": [
    "# E0.metabolites.\n",
    "path_glc = find_shortest_path(E0,'glc__D_c', 'ac_c')\n",
    "path_ac_gal = find_shortest_path(E0,'gal_c', 'ac_c')"
   ]
  },
  {
   "cell_type": "code",
   "execution_count": 19,
   "id": "0b9026a9",
   "metadata": {},
   "outputs": [],
   "source": [
    "metab_seq = ['ac_c', 'u3aga_c', 'uacgam_c', 'acgam1p_c', 'gam1p_c', 'gam6p_c', 'f6p_c', 'g6p_c', \n",
    "             'g1p_c', 'gal1p_c', 'gal_c']"
   ]
  },
  {
   "cell_type": "markdown",
   "id": "494b885e",
   "metadata": {},
   "source": [
    "# Run here"
   ]
  },
  {
   "cell_type": "code",
   "execution_count": 30,
   "id": "5ec4090b",
   "metadata": {},
   "outputs": [
    {
     "name": "stdout",
     "output_type": "stream",
     "text": [
      "         fluxes  reduced_costs\n",
      "GALKr  3.090749            0.0\n",
      "UGLT   3.090749            0.0\n",
      "PGMT   3.090749            0.0\n",
      "PGI    2.510910            0.0\n",
      "F6PA   5.544994            0.0\n",
      "GAPD   5.502005            0.0\n",
      "PGK   -5.502005           -0.0\n",
      "PGCD   0.098061            0.0\n",
      "PSERT  0.098061            0.0\n",
      "ACOTA -0.019218           -0.0\n",
      "ACOTA -0.019218           -0.0\n",
      "ACODA  0.019218            0.0\n"
     ]
    }
   ],
   "source": [
    "def find_opt_path(model, sol, start, end):\n",
    "    counter = 0\n",
    "    rxn_exclude = []\n",
    "    while counter<15:\n",
    "        counter += 1\n",
    "        result_paths, excluded = find_shortest_path(model, start, end,rxn_exclude=rxn_exclude)\n",
    "        if result_paths == 'None' or not result_paths:\n",
    "            sys.exit('No complete path with threshold')\n",
    "        new_exclude = get_flux_per_path(sol, result_paths, 1e-2)\n",
    "        if type(new_exclude) is set:\n",
    "            rxn_exclude = set(itertools.chain(*[rxn_exclude, new_exclude]))\n",
    "\n",
    "        else:\n",
    "            result_df = new_exclude\n",
    "            counter=1000\n",
    "            return result_df\n",
    "gal_ac = find_opt_path(E0, sol, 'gal_c', 'ac_c')"
   ]
  },
  {
   "cell_type": "code",
   "execution_count": 27,
   "id": "f5c5567e",
   "metadata": {},
   "outputs": [
    {
     "name": "stdout",
     "output_type": "stream",
     "text": [
      "         fluxes  reduced_costs\n",
      "XYLI2  3.090749            0.0\n",
      "HEX7   3.090749            0.0\n",
      "F6PA   5.544994            0.0\n",
      "GAPD   5.502005            0.0\n",
      "PGK   -5.502005           -0.0\n",
      "PGCD   0.098061            0.0\n",
      "PSERT  0.098061            0.0\n",
      "ACOTA -0.019218           -0.0\n",
      "ACOTA -0.019218           -0.0\n",
      "ACODA  0.019218            0.0\n"
     ]
    }
   ],
   "source": [
    "glu_ac = find_opt_path(E0,sol, 'glc__D_c', 'ac_c')"
   ]
  },
  {
   "cell_type": "code",
   "execution_count": 23,
   "id": "2ab418b4",
   "metadata": {},
   "outputs": [
    {
     "data": {
      "text/plain": [
       "[         fluxes  reduced_costs C-product\n",
       " GALKr  3.090749            0.0   gal1p_c\n",
       " UGLT   3.090749            0.0     g1p_c\n",
       " PGMT   3.090749            0.0     g6p_c\n",
       " PGI    2.510910            0.0     f6p_c\n",
       " F6PA   5.544994            0.0     g3p_c\n",
       " GAPD   5.502005            0.0   13dpg_c\n",
       " PGK   -5.502005           -0.0     3pg_c\n",
       " PGCD   0.098061            0.0    3php_c\n",
       " PSERT  0.098061            0.0     akg_c\n",
       " ACOTA -0.019218           -0.0  acg5sa_c\n",
       " ACOTA -0.019218           -0.0   acorn_c\n",
       " ACODA  0.019218            0.0      ac_c]"
      ]
     },
     "execution_count": 23,
     "metadata": {},
     "output_type": "execute_result"
    }
   ],
   "source": [
    "gal_ac"
   ]
  },
  {
   "cell_type": "markdown",
   "id": "71653834",
   "metadata": {},
   "source": [
    "S0"
   ]
  },
  {
   "cell_type": "code",
   "execution_count": 63,
   "id": "dd982c29",
   "metadata": {},
   "outputs": [
    {
     "name": "stdout",
     "output_type": "stream",
     "text": [
      "        fluxes  reduced_costs\n",
      "ACKr  9.150101  -2.527893e-17\n",
      "           fluxes  reduced_costs\n",
      "ACt2rpp  7.747930   3.168801e-18\n",
      "ACt2rpp  7.747930   3.168801e-18\n",
      "ACKr     9.150101  -2.527893e-17\n"
     ]
    }
   ],
   "source": [
    "sol_S0 = S0.optimize().to_frame()\n",
    "glu_ac = find_opt_path(S0,sol_S0,'ac_c', 'atp_c') # carbon source start form ac"
   ]
  }
 ],
 "metadata": {
  "celltoolbar": "Initialization Cell",
  "kernelspec": {
   "display_name": "vR",
   "language": "python",
   "name": "vr"
  },
  "language_info": {
   "codemirror_mode": {
    "name": "ipython",
    "version": 3
   },
   "file_extension": ".py",
   "mimetype": "text/x-python",
   "name": "python",
   "nbconvert_exporter": "python",
   "pygments_lexer": "ipython3",
   "version": "3.11.5"
  },
  "toc": {
   "base_numbering": 1,
   "nav_menu": {},
   "number_sections": true,
   "sideBar": true,
   "skip_h1_title": false,
   "title_cell": "Table of Contents",
   "title_sidebar": "Contents",
   "toc_cell": false,
   "toc_position": {
    "height": "calc(100% - 180px)",
    "left": "10px",
    "top": "150px",
    "width": "165px"
   },
   "toc_section_display": true,
   "toc_window_display": true
  },
  "varInspector": {
   "cols": {
    "lenName": 16,
    "lenType": 16,
    "lenVar": 40
   },
   "kernels_config": {
    "python": {
     "delete_cmd_postfix": "",
     "delete_cmd_prefix": "del ",
     "library": "var_list.py",
     "varRefreshCmd": "print(var_dic_list())"
    },
    "r": {
     "delete_cmd_postfix": ") ",
     "delete_cmd_prefix": "rm(",
     "library": "var_list.r",
     "varRefreshCmd": "cat(var_dic_list()) "
    }
   },
   "oldHeight": 581.825,
   "position": {
    "height": "40px",
    "left": "1155.66px",
    "right": "20px",
    "top": "364px",
    "width": "360px"
   },
   "types_to_exclude": [
    "module",
    "function",
    "builtin_function_or_method",
    "instance",
    "_Feature"
   ],
   "varInspector_section_display": "none",
   "window_display": false
  }
 },
 "nbformat": 4,
 "nbformat_minor": 5
}

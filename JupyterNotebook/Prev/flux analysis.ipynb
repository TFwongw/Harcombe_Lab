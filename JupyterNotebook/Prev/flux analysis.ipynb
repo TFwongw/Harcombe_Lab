{
 "cells": [
  {
   "cell_type": "code",
   "execution_count": 1,
   "id": "statutory-weight",
   "metadata": {},
   "outputs": [],
   "source": [
    "import pandas as pd\n",
    "import cobra\n",
    "import json\n",
    "import itertools\n",
    "import sys\n",
    "\n",
    "# analysis_df = pd.read_json('./Data/flanalysis_BM_SG1.json').set_index('Gene_inhibition')\n",
    "# analysis_DG_df = pd.read_json('./Data/flanalysis_BM_DG1.json').set_index('Gene_inhibition')\n",
    "# analysis_DG_df = pd.read_json('./Data/flanalysis_BM_DG1.json').set_index('Gene_inhibition')\n",
    "# ccol_DG.json\n",
    "E0 = cobra.io.read_sbml_model(\"./models/iML1515_E0.xml\")"
   ]
  },
  {
   "cell_type": "code",
   "execution_count": 184,
   "id": "threaded-arkansas",
   "metadata": {},
   "outputs": [],
   "source": [
    "SG_Biomass = pd.read_csv('./Data/BM_SG1.csv', index_col='cycle')\n",
    "Biomass_df = pd.read_csv('./Data/BM_DG1.csv', index_col='cycle') \n",
    "# Biomass_df\n"
   ]
  },
  {
   "cell_type": "markdown",
   "id": "54d99069",
   "metadata": {},
   "source": [
    "# gr snapshot cycle\n",
    "!-> generate csv for all "
   ]
  },
  {
   "cell_type": "code",
   "execution_count": 187,
   "id": "accurate-constant",
   "metadata": {},
   "outputs": [],
   "source": [
    "log_step=5\n",
    "def get_cycle_max_gr(desired_BM):\n",
    "    max_gr = desired_BM.iloc[-1]/2\n",
    "    bool_growing = ((desired_BM.iloc[-1]-desired_BM.iloc[-5])/desired_BM.iloc[-1]).apply(lambda x: x > 1e-10)\n",
    "    for k, bool_grow in bool_growing.items():\n",
    "        if bool_grow:\n",
    "            max_gr[k] = desired_BM[k].iloc[-6]\n",
    "    return max_gr\n",
    "    \n",
    "def find_upneighbour(df):\n",
    "    max_gr = get_cycle_max_gr(df)\n",
    "    position = list()\n",
    "    \n",
    "    def correct_cycle(cycle):\n",
    "        mod = cycle%log_step\n",
    "#         return cycle if mod==0 else cycle+log_step-mod # round up\n",
    "        return cycle if mod==0 else cycle-mod # round down\n",
    "#   \n",
    "    gr_cycle = dict()\n",
    "    for k, gr_value in max_gr.items():\n",
    "        df_search = df.loc[:,k]\n",
    "        upperneighbour_ind = df_search[df_search >= gr_value].idxmin()\n",
    "#         position.append(upperneighbour_ind)\n",
    "        gr_cycle[k] = correct_cycle(upperneighbour_ind)\n",
    "#     cycle = [df.index[pos] for pos in position]\n",
    "# #         print([df.index[pos] for pos in position])\n",
    "#     cycle = [correct_cycle(cy) for cy in cycle]\n",
    "    return gr_cycle\n",
    "\n",
    "def convert_arg_to_list(arg):\n",
    "    if type(arg) is not list and type(arg) is not tuple:\n",
    "        arg = [arg]\n",
    "    return(arg)\n",
    "\n",
    "def get_desired_cycle(Biomass_df, regex_list=[\"coculture\",'E0']):\n",
    "    for regex in convert_arg_to_list(regex_list):\n",
    "#         print(regex)\n",
    "        Biomass_df = Biomass_df.filter(regex=regex) # prevent overwritten by S0, coculture\n",
    "    \n",
    "    desired_cycle = dict()\n",
    "    \n",
    "    for k,v in find_upneighbour(Biomass_df).items():\n",
    "        key = k.split('_')[1]\n",
    "        if desired_cycle.get(key):\n",
    "            sys.exit(\"Halt, Gene comb keys get overwritten\")\n",
    "        desired_cycle[key]= v\n",
    "    return desired_cycle\n",
    "\n",
    "# filt = list(pd.Series(Biomass_df.columns).str.split('_').apply(lambda x: x[1] in cgc_list))\n",
    "# desired_BM = (Biomass_df\n",
    "# #               .loc[:,Biomass_df.iloc[-1]>2e-8] # filter of genes combo without growth\n",
    "#               .loc[:,filt] # filter of genes combo without growth\n",
    "#               .filter(regex=\"coculture\")\n",
    "#               .filter(regex='E0'))\n",
    "# desired_cycle = find_upneighbour(desired_BM)\n",
    "\n",
    "# desired_cycle = {k.split('_')[1] :v for k,v in desired_cycle.items() if 'E0' in k}\n",
    "# desired_cycle"
   ]
  },
  {
   "cell_type": "code",
   "execution_count": 20,
   "id": "07fbcc87",
   "metadata": {},
   "outputs": [],
   "source": [
    "desired_cycle = get_desired_cycle(Biomass_df, [\"coculture\", 'E0'])"
   ]
  },
  {
   "cell_type": "markdown",
   "id": "cdc9b1e1",
   "metadata": {},
   "source": [
    "# Obtain pathway specific gene_combos"
   ]
  },
  {
   "cell_type": "code",
   "execution_count": 21,
   "id": "0fc23b2b",
   "metadata": {},
   "outputs": [],
   "source": [
    "alpha_table = pd.read_csv('./Data/alpha_table.csv', index_col='Gene_inhibition')\n",
    "gene_pathway_wide = pd.read_csv('./Data/gene_pathway_wide.csv', index_col='Gene_inhibition')\n",
    "gene_comb_pathway_wide = pd.read_csv('./Data/gene_comb_pathway_wide.csv', index_col='Gene_inhibition')\n",
    "gene_combo_pathway =  pd.read_csv('./Data/gene_combo_pathway.csv', index_col='Gene_inhibition')"
   ]
  },
  {
   "cell_type": "code",
   "execution_count": 22,
   "id": "a5913f6b",
   "metadata": {},
   "outputs": [
    {
     "data": {
      "text/html": [
       "<div>\n",
       "<style scoped>\n",
       "    .dataframe tbody tr th:only-of-type {\n",
       "        vertical-align: middle;\n",
       "    }\n",
       "\n",
       "    .dataframe tbody tr th {\n",
       "        vertical-align: top;\n",
       "    }\n",
       "\n",
       "    .dataframe thead th {\n",
       "        text-align: right;\n",
       "    }\n",
       "</style>\n",
       "<table border=\"1\" class=\"dataframe\">\n",
       "  <thead>\n",
       "    <tr style=\"text-align: right;\">\n",
       "      <th></th>\n",
       "      <th>Alternate Carbon Metabolism</th>\n",
       "      <th>Cofactor and Prosthetic Group Biosynthesis</th>\n",
       "      <th>Cell Envelope Biosynthesis</th>\n",
       "      <th>Glycine and Serine Metabolism</th>\n",
       "      <th>Arginine and Proline Metabolism</th>\n",
       "      <th>Pyruvate Metabolism</th>\n",
       "      <th>Tyrosine, Tryptophan, and Phenylalanine Metabolism</th>\n",
       "      <th>Citric Acid Cycle</th>\n",
       "      <th>Purine and Pyrimidine Biosynthesis</th>\n",
       "      <th>Alanine and Aspartate Metabolism</th>\n",
       "      <th>Threonine and Lysine Metabolism</th>\n",
       "      <th>Pentose Phosphate Pathway</th>\n",
       "      <th>Glycolysis/Gluconeogenesis</th>\n",
       "      <th>Glutamate Metabolism</th>\n",
       "      <th>Murein Biosynthesis</th>\n",
       "      <th>Metabolite Repair</th>\n",
       "    </tr>\n",
       "  </thead>\n",
       "  <tbody>\n",
       "    <tr>\n",
       "      <th>DG</th>\n",
       "      <td>dadX.acnB, acnB.thrB, dapF.acnB, acnB.gltA, ac...</td>\n",
       "      <td>dapA.serC, serC.dapD, serC.dapB, aroA.serC, se...</td>\n",
       "      <td>dadX.rffG, murA.mrdA, murA.pyrE, rffG.pyrD, mu...</td>\n",
       "      <td>dapA.serC, serC.dapD, serC.dapB, aroA.serC, se...</td>\n",
       "      <td>aroA.argD</td>\n",
       "      <td>acnB.ackA, acnB.purT</td>\n",
       "      <td>mrdA.aroA, dadX.aroA, aroA.serC, aroA.argD, ar...</td>\n",
       "      <td>gltA.gltD, dadX.acnB, acnB.thrB, dapF.acnB, ac...</td>\n",
       "      <td>dadX.pyrD, dadX.guaB, aroA.guaB, murA.pyrE, rf...</td>\n",
       "      <td>dadX.rffG, dadX.pyrD, dadX.guaB, dadX.acnB, da...</td>\n",
       "      <td>acnB.thrB, dapF.acnB, dapA.serC, serC.dapD, se...</td>\n",
       "      <td>tktA.gnd</td>\n",
       "      <td>dadX.eno, dadX.gapA</td>\n",
       "      <td>gltA.gltD</td>\n",
       "      <td>mrdA.aroA, mrdA.mrcA, mrdA.pheA, dadX.mrcA, mu...</td>\n",
       "      <td>dadX.gapA</td>\n",
       "    </tr>\n",
       "    <tr>\n",
       "      <th>DG_count</th>\n",
       "      <td>6</td>\n",
       "      <td>13</td>\n",
       "      <td>8</td>\n",
       "      <td>5</td>\n",
       "      <td>1</td>\n",
       "      <td>2</td>\n",
       "      <td>13</td>\n",
       "      <td>7</td>\n",
       "      <td>12</td>\n",
       "      <td>10</td>\n",
       "      <td>15</td>\n",
       "      <td>1</td>\n",
       "      <td>2</td>\n",
       "      <td>1</td>\n",
       "      <td>7</td>\n",
       "      <td>1</td>\n",
       "    </tr>\n",
       "  </tbody>\n",
       "</table>\n",
       "</div>"
      ],
      "text/plain": [
       "                                Alternate Carbon Metabolism  \\\n",
       "DG        dadX.acnB, acnB.thrB, dapF.acnB, acnB.gltA, ac...   \n",
       "DG_count                                                  6   \n",
       "\n",
       "                 Cofactor and Prosthetic Group Biosynthesis  \\\n",
       "DG        dapA.serC, serC.dapD, serC.dapB, aroA.serC, se...   \n",
       "DG_count                                                 13   \n",
       "\n",
       "                                 Cell Envelope Biosynthesis  \\\n",
       "DG        dadX.rffG, murA.mrdA, murA.pyrE, rffG.pyrD, mu...   \n",
       "DG_count                                                  8   \n",
       "\n",
       "                              Glycine and Serine Metabolism  \\\n",
       "DG        dapA.serC, serC.dapD, serC.dapB, aroA.serC, se...   \n",
       "DG_count                                                  5   \n",
       "\n",
       "         Arginine and Proline Metabolism   Pyruvate Metabolism  \\\n",
       "DG                             aroA.argD  acnB.ackA, acnB.purT   \n",
       "DG_count                               1                     2   \n",
       "\n",
       "         Tyrosine, Tryptophan, and Phenylalanine Metabolism  \\\n",
       "DG        mrdA.aroA, dadX.aroA, aroA.serC, aroA.argD, ar...   \n",
       "DG_count                                                 13   \n",
       "\n",
       "                                          Citric Acid Cycle  \\\n",
       "DG        gltA.gltD, dadX.acnB, acnB.thrB, dapF.acnB, ac...   \n",
       "DG_count                                                  7   \n",
       "\n",
       "                         Purine and Pyrimidine Biosynthesis  \\\n",
       "DG        dadX.pyrD, dadX.guaB, aroA.guaB, murA.pyrE, rf...   \n",
       "DG_count                                                 12   \n",
       "\n",
       "                           Alanine and Aspartate Metabolism  \\\n",
       "DG        dadX.rffG, dadX.pyrD, dadX.guaB, dadX.acnB, da...   \n",
       "DG_count                                                 10   \n",
       "\n",
       "                            Threonine and Lysine Metabolism  \\\n",
       "DG        acnB.thrB, dapF.acnB, dapA.serC, serC.dapD, se...   \n",
       "DG_count                                                 15   \n",
       "\n",
       "         Pentose Phosphate Pathway Glycolysis/Gluconeogenesis  \\\n",
       "DG                        tktA.gnd        dadX.eno, dadX.gapA   \n",
       "DG_count                         1                          2   \n",
       "\n",
       "         Glutamate Metabolism  \\\n",
       "DG                  gltA.gltD   \n",
       "DG_count                    1   \n",
       "\n",
       "                                        Murein Biosynthesis Metabolite Repair  \n",
       "DG        mrdA.aroA, mrdA.mrcA, mrdA.pheA, dadX.mrcA, mu...         dadX.gapA  \n",
       "DG_count                                                  7                 1  "
      ]
     },
     "execution_count": 22,
     "metadata": {},
     "output_type": "execute_result"
    }
   ],
   "source": [
    "# rework get sum row\n",
    "# ! plus SG genes wilde\n",
    "def remove_Zero_col(df): # extend N differ than 0 \n",
    "    return(df.loc[:, (df !=0).any(axis=0)]) \n",
    "\n",
    "def get_sum_row(gene_comb_pathway_wide):\n",
    "    XG_str = 'DG' if len(gene_comb_pathway_wide.index[0].split('.'))>1 else 'SG'\n",
    "    sum_row = remove_Zero_col(\n",
    "                pd.DataFrame(gene_comb_pathway_wide.sum(), columns=[f'{XG_str}_count']).T)\n",
    "    pwy_ele = dict()\n",
    "    df = remove_Zero_col(gene_comb_pathway_wide)\n",
    "    for col in df:    \n",
    "        pwy_ele[col]  = ', '.join(df.loc[df[f'{col}']==True, f'{col}'].index)\n",
    "    pwy_ele_df = pd.DataFrame(pwy_ele,index=[XG_str])\n",
    "    \n",
    "    return pd.concat([pwy_ele_df, sum_row])\n",
    "\n",
    "# pd.concat([gene_comb_pathway_wide, \n",
    "#            get_sum_row(gene_comb_pathway_wide)]).to_csv('./Data/gene_comb_pathway_wide_sum.csv')\n",
    "get_sum_row(gene_comb_pathway_wide)"
   ]
  },
  {
   "cell_type": "code",
   "execution_count": 23,
   "id": "a49ef38f",
   "metadata": {},
   "outputs": [],
   "source": [
    "pathway_wide_summary = pd.concat([get_sum_row(gene_pathway_wide),get_sum_row(gene_comb_pathway_wide)])\n",
    "# pathway_wide_summary.to_csv('./Data/pathway_wide_summary.csv')"
   ]
  },
  {
   "cell_type": "markdown",
   "id": "9e160300",
   "metadata": {
    "scrolled": true
   },
   "source": [
    "# gene_comb in specific_pwy"
   ]
  },
  {
   "cell_type": "code",
   "execution_count": 25,
   "id": "982fb5bb",
   "metadata": {},
   "outputs": [],
   "source": [
    "gr_DG = pd.read_csv('./r/data fitting/standardized_gr_Div_DG_Mult_Aug31.csv', index_col='gene_inhibition')\n",
    "\n",
    "def get_gene_combo_in_specific_pathway(desired_pathway: str):\n",
    "    pwy_inhib = [k \n",
    "                 for k, pathway in gene_combo_pathway.T.items()\n",
    "                 if desired_pathway in pathway[0]] # value return series] # \n",
    "    return pwy_inhib\n",
    "cof_inhib = get_gene_combo_in_specific_pathway('Cofactor and Prosthetic Group Biosynthesis')\n",
    "cof_DG = gr_DG.loc[cof_inhib]\n",
    "# cof_DG.Predicted_additive_effect_E0_coculture-cof_DG.E0_coculture\n",
    "# sum_row = get_sum_row(gene_comb_pathway_wide)"
   ]
  },
  {
   "cell_type": "markdown",
   "id": "d01f652e",
   "metadata": {},
   "source": [
    "## antagonistic"
   ]
  },
  {
   "cell_type": "code",
   "execution_count": 55,
   "id": "58a81088",
   "metadata": {},
   "outputs": [],
   "source": [
    "def get_col_p_o(gr_df):\n",
    "    col_p_o = gr_df.Predicted_additive_effect_E0_coculture-gr_df.E0_coculture\n",
    "    col_p_o[(gr_df.Predicted_additive_effect_E0_coculture < 1.5e-8) & (gr_df.E0_coculture< 1.5e-8)] = 0\n",
    "    return pd.DataFrame(col_p_o, columns=['P_O'])\n",
    "\n",
    "def get_antagonistic_df(syn_df):\n",
    "    antagonistic_list = syn_df.loc[syn_df['P_O']<0].query(\"P_O<-0.01\").index \n",
    "    # ? func get pwy col\n",
    "    potential_pwy = (gene_combo_pathway\n",
    "                                      .loc[antagonistic_list,'Pathway']\n",
    "                                      .str.split(' \\+ ') # series string need \\+\n",
    "                                      .apply(lambda x: sorted(x))) \n",
    "    return pd.DataFrame(potential_pwy)\n",
    "        \n",
    "syn_df = get_col_p_o(gr_DG)\n",
    "antagonistic_df = get_antagonistic_df(syn_df)"
   ]
  },
  {
   "cell_type": "markdown",
   "id": "07dfe8e7",
   "metadata": {},
   "source": [
    "# p-o for specific pathway "
   ]
  },
  {
   "cell_type": "code",
   "execution_count": 61,
   "id": "a16f92e3",
   "metadata": {},
   "outputs": [],
   "source": [
    "def modify_inner_dict_val(inner_dict):\n",
    "#     print(type(inner_dict), type(inner_dict) is dict)\n",
    "    if type(inner_dict) is dict:\n",
    "        values = np.array(list(inner_dict.values()))\n",
    "    else:\n",
    "        single_val = inner_dict\n",
    "        return single_val if single_val > 0 else 1e5+abs(single_val)         \n",
    "    antagonistic_bool = values<0\n",
    "    values[antagonistic_bool] = 1e5+abs(values[antagonistic_bool])\n",
    "    return values\n",
    "#     return [max(abs(ele) for ele in inner_dict.values())] if absolute else max(inner_dict.values()) "
   ]
  },
  {
   "cell_type": "code",
   "execution_count": 206,
   "id": "68859d13",
   "metadata": {},
   "outputs": [],
   "source": [
    "def get_sub_dict(d: Dict, keys: List[str]):\n",
    "    return {k:v for k, v in d.items() if k in convert_arg_to_list(keys)}"
   ]
  },
  {
   "cell_type": "code",
   "execution_count": 89,
   "id": "afe8ae4d",
   "metadata": {},
   "outputs": [],
   "source": [
    "def get_inner_dict_max_val(inner_dict, absolute = True):\n",
    "    return [max(abs(ele) for ele in inner_dict.values())] if absolute else max(inner_dict.values()) \n",
    "\n",
    "def get_sorted_dict(d, **kwargs):\n",
    "    print(kwargs)\n",
    "    if kwargs:\n",
    "        key = kwargs  \n",
    "    else:\n",
    "#         key = lambda item: modify_inner_dict_val(item[1])\n",
    "        key = lambda item: item[1]\n",
    "    return ({k: v for k, v in sorted(d.items(), \n",
    "#                                              key=lambda item: item[1])})\n",
    "                                             key, reverse=True)})\n",
    "#                                              kwargs, reverse=True)})\n",
    "\n",
    "def get_sorted_dict(d, **kwargs):\n",
    "    return ({k: v for k, v in sorted(d.items(), \n",
    "#                                              key=lambda item: item[1])})\n",
    "                                             reverse=True, **kwargs)})\n",
    "\n",
    "from typing import List\n",
    "def get_p_o(potential_pwy_list: List[str]):\n",
    "    p_o = dict()    \n",
    "    # !? sep get index -> get antagon index directly\n",
    "    for desired_pathway_list in potential_pwy_list:\n",
    "        # cater for pathway > 2 -> nC2 pairwise combination\n",
    "        for desired_pairwise_pathway_list in itertools.combinations(desired_pathway_list,2):\n",
    "            similar_gene_comb = list()\n",
    "\n",
    "            for k, pathway in gene_combo_pathway.T.items():\n",
    "                found = [pathway_n in pathway[0] for pathway_n in desired_pairwise_pathway_list]\n",
    "                if all(found):\n",
    "                    similar_gene_comb.append(k)\n",
    "\n",
    "            sub_dict = dict()\n",
    "            # ？ use group_by?\n",
    "            for gene_comb in similar_gene_comb: \n",
    "    #             sub_dict[gene_comb] = (gr_DG.loc[gene_comb,'Predicted_additive_effect_E0_coculture'] -\n",
    "    #                                     gr_DG.loc[gene_comb,'E0_coculture'])\n",
    "                sub_dict[gene_comb] = syn_df.loc[gene_comb, 'P_O']\n",
    "            if sub_dict != dict():\n",
    "                # ordering within pathway index group\n",
    "                p_o[' + '.join(desired_pairwise_pathway_list)] = get_sorted_dict(sub_dict,\n",
    "                                                                    key=lambda item: modify_inner_dict_val(item[1]))\n",
    "                \n",
    "    p_o = get_sorted_dict(p_o, key=lambda item: max(modify_inner_dict_val(item[1]))) # ordering of pathway index\n",
    "    return p_o\n",
    "\n",
    "# antagonistic_p_o = get_p_o(potential_pwy_list)"
   ]
  },
  {
   "cell_type": "code",
   "execution_count": null,
   "id": "e69e5bc5",
   "metadata": {},
   "outputs": [],
   "source": []
  },
  {
   "cell_type": "code",
   "execution_count": null,
   "id": "48f40c1c",
   "metadata": {},
   "outputs": [],
   "source": [
    "# def get_antagonistic_MI_index(antagonistic_df):\n",
    "#     index = list()\n",
    "#     for desired_pathway_list in antagonistic_df.Pathway:\n",
    "#         for i in itertools.combinations(desired_pathway_list,2):\n",
    "#             index.append(' + '.join(i))\n",
    "#     return index\n",
    "# get_antagonistic_MI_index(antagonistic_df)"
   ]
  },
  {
   "cell_type": "code",
   "execution_count": 66,
   "id": "ba215300",
   "metadata": {},
   "outputs": [],
   "source": [
    "def layer_dict_to_MI_df(p_o):\n",
    "    new_dict = {}\n",
    "    for outerKey, innerDict in p_o.items():\n",
    "        for innerKey, values in innerDict.items():\n",
    "            new_dict[(outerKey, innerKey)] = values\n",
    "\n",
    "    # gr_DG.loc['dapF.acnB','Predicted_additive_effect_E0_coculture'] - gr_DG.loc['dapF.acnB','E0_coculture']\n",
    "    classified_DG = pd.DataFrame(new_dict, index = ['P_O']).T\n",
    "    return classified_DG"
   ]
  },
  {
   "cell_type": "code",
   "execution_count": null,
   "id": "5a7967cf",
   "metadata": {},
   "outputs": [],
   "source": [
    "# classified_DG.to_csv('./Data/compare_ant_pwy.csv')\n",
    "\n",
    "# %store classified_DG\n"
   ]
  },
  {
   "cell_type": "markdown",
   "id": "ea57bded",
   "metadata": {},
   "source": [
    "# gene comb pathway classification"
   ]
  },
  {
   "cell_type": "code",
   "execution_count": 95,
   "id": "c3103e77",
   "metadata": {},
   "outputs": [],
   "source": [
    "def get_antagonistic_MI_index(antagonistic_df):\n",
    "    index = list()\n",
    "    for desired_pathway_list in antagonistic_df.Pathway:\n",
    "        for i in itertools.combinations(desired_pathway_list,2):\n",
    "            index.append(' + '.join(i))\n",
    "    return index\n",
    "\n",
    "antagonistic_index = get_antagonistic_MI_index(antagonistic_df)\n",
    "# antagonistic_index = set([first_index for first_index, _ in MI_antagonistic.index])"
   ]
  },
  {
   "cell_type": "code",
   "execution_count": 69,
   "id": "bd574fa8",
   "metadata": {},
   "outputs": [],
   "source": [
    "# for pathway_pair in itertools.combinations(sorted(gene_pathway_wide.columns),2):\n",
    "pathway_pair_list = list(itertools.combinations(sorted(gene_pathway_wide.columns),2))\n",
    "full_p_o = get_p_o(pathway_pair_list)"
   ]
  },
  {
   "cell_type": "code",
   "execution_count": 96,
   "id": "3575c4bd",
   "metadata": {},
   "outputs": [],
   "source": [
    "synergistic_p_o = {pwy_comb: v for pwy_comb, v in full_p_o.items() \n",
    "                   if pwy_comb not in antagonistic_index}\n",
    "\n",
    "antagonistic_p_o = {pwy_comb: v for pwy_comb, v in full_p_o.items() \n",
    "                   if pwy_comb in antagonistic_index}\n",
    "# index_order = p_o.reset_index().groupby('level_0').max().index\n",
    "MI_antagonistic = layer_dict_to_MI_df(antagonistic_p_o)\n",
    "MI_synergistic = layer_dict_to_MI_df(synergistic_p_o)"
   ]
  },
  {
   "cell_type": "code",
   "execution_count": 379,
   "id": "f6e04f2c",
   "metadata": {},
   "outputs": [
    {
     "name": "stderr",
     "output_type": "stream",
     "text": [
      "D:\\anaconda3\\envs\\vr\\lib\\site-packages\\openpyxl\\workbook\\child.py:99: UserWarning: Title is more than 31 characters. Some applications may not be able to read the file\n",
      "  warnings.warn(\"Title is more than 31 characters. Some applications may not be able to read the file\")\n"
     ]
    }
   ],
   "source": [
    "with pd.ExcelWriter('./Data/pathway_MI_df.xlsx') as writer:  # doctest: +SKIP\n",
    "    MI_antagonistic.to_excel(writer, sheet_name='Antagonistic Pathway Combination')\n",
    "    MI_synergistic.to_excel(writer, sheet_name='Synergistic Pathway Combination')\n",
    "# pd.read_excel('./Data/pathway_MI_df.xlsx', sheet_name='Antagonistic Pathway Combination', index_col=[0,1])\n"
   ]
  },
  {
   "cell_type": "markdown",
   "id": "a4b23a40",
   "metadata": {},
   "source": [
    "# Read json"
   ]
  },
  {
   "cell_type": "code",
   "execution_count": 99,
   "id": "b5b513db",
   "metadata": {},
   "outputs": [],
   "source": [
    "def get_gene_id(model, gene_name):\n",
    "    for i in model.genes:\n",
    "        if(i.name == gene_name):\n",
    "            return(i.id)\n",
    "\n",
    "def get_rcts_list(gcomb_list): \n",
    "    rcts_list = list()\n",
    "    rcts_set = set()\n",
    "    for i, gene in enumerate(gcomb_list):\n",
    "        gene_rcts = [rct.id for rct in E0.genes.get_by_id(get_gene_id(E0, gene)).reactions]\n",
    "        if i > 0:\n",
    "            gene_rcts = list(set(gene_rcts) - rcts_set)\n",
    "        rcts_list.append(gene_rcts)\n",
    "        rcts_set = rcts_set | set(gene_rcts)\n",
    "    return rcts_list\n",
    "\n",
    "def adjust_flux_df(df, gene_combo: list):\n",
    "    if 'Normal' not in gene_combo:\n",
    "#         gene_combo_dict = get_gcomb_alpha_dict(gene_combo) \n",
    "        v1_cols = df.filter(regex='v1').columns\n",
    "        orig_cols = [ele.replace(\"_v1\", '') for ele in df.filter(regex='v1').columns]\n",
    "        \n",
    "        gene_combo_list = gene_combo.split('.')\n",
    "        rcts_list = get_rcts_list(gene_combo_list)\n",
    "        scaled_rcts = list()\n",
    "        for gene, rcts in zip(gene_combo_list, rcts_list):  \n",
    "            rcts = [rct for rct in rcts if rct in orig_cols]\n",
    "            for orig_col in rcts:\n",
    "                alpha = alpha_table.loc[f'{gene}', 'E0']   \n",
    "                v1_col = orig_col + \"_v1\"\n",
    "                df[f'{orig_col}'] = (df[f'{orig_col}'] + df[f'{v1_col}'])/alpha # only forward or backward != 0               \n",
    "                df = df.drop(f'{v1_col}', axis=1) \n",
    "#     print(df.filter(regex='v1').columns)\n",
    "    return df\n",
    "\n",
    "def get_desired_BM(Biomass_df = Biomass_df, regex='Normal_coculture'):\n",
    "    return Biomass_df.filter(regex=regex)"
   ]
  },
  {
   "cell_type": "code",
   "execution_count": 110,
   "id": "55644918",
   "metadata": {},
   "outputs": [],
   "source": [
    "# compare_df = compare_df.rename_axis('Reactions').reset_index()\n",
    "\n",
    "def get_row_grmax(desired_BM, genes='Normal'): # currently only E0\n",
    "    desired_cycle = find_upneighbour(desired_BM)\n",
    "    dfE = analysis_df.loc[genes, 'E0_coculture_flux']\n",
    "#     dfE = remove_Zero_col(pd.read_json(dfE). # no use \n",
    "    dfE = (pd.read_json(dfE). \n",
    "           query(\"cycle in @desired_cycle\").\n",
    "           drop(['x','y','cycle'], axis=1))\n",
    "    dfE.index = [genes]\n",
    "    \n",
    "    return dfE\n",
    "\n",
    "def get_genes_compare(gene_list, Biomass_df, regex): # generate every gene-> subset\n",
    "    desired_BM = get_desired_BM(Biomass_df, regex=regex)\n",
    "    compare_list = list()\n",
    "    for genes in gene_list:\n",
    "\n",
    "        temp_df = get_row_grmax(desired_BM, genes=genes) # for flux only\n",
    "        \"\"\"\n",
    "        If ~ == flux/ not metabo\n",
    "        \"\"\"    \n",
    "        temp_df = adjust_flux_df(temp_df, genes)\n",
    "        compare_list.append(temp_df)\n",
    "        \n",
    "    compare_df = (remove_Zero_col(pd.concat(compare_list)).T. # row to column\n",
    "                  sort_values(by='Normal', key=abs, ascending=False)) # with 0 cell\n",
    "    \n",
    "#     compare_df = (pd.concat([\n",
    "#         get_row_grmax(desired_BM, genes=genes) for genes in gene_list]).\n",
    "#                   T. # row to column\n",
    "#                   sort_values(by='Normal', key=abs, ascending=False)) # with 0 cell\n",
    "    return compare_df\n",
    "# Independent Extra sorted??? \n",
    "# order by flux ordering in Esher\n",
    "\n",
    "# compare_df = get_genes_compare(['folA', 'folP','Normal'], Biomass_df, 'Normal_coculture')\n",
    "\n",
    "def get_abs_df(df):\n",
    "    return (pd.DataFrame({colname: abs(col) for colname, col in df.items()}).\n",
    "                  rename_axis('Reactions').\n",
    "                  reset_index())\n",
    "\n",
    "# compare_abs_df = get_abs_df(compare_df)\n",
    "\n",
    "# create base layer for Normal \n",
    "# Normal_df = compare_abs_df[['Normal', 'Reactions']]\n",
    "\n",
    "# compare_df_long = compare_df.drop('Normal', axis=1).melt(ignore_index=False, \n",
    "#                              var_name='Genes')"
   ]
  },
  {
   "cell_type": "markdown",
   "id": "373454e8",
   "metadata": {},
   "source": [
    "# flux compare"
   ]
  },
  {
   "cell_type": "markdown",
   "id": "95207bb7",
   "metadata": {},
   "source": [
    "## read SG\n"
   ]
  },
  {
   "cell_type": "code",
   "execution_count": 179,
   "id": "220e70c1",
   "metadata": {},
   "outputs": [],
   "source": [
    "SG = retrive_specific_culture('./Data/flanalysis_BM_SG1.json', 'E0_coculture_flux')"
   ]
  },
  {
   "cell_type": "code",
   "execution_count": 199,
   "id": "7fe38849",
   "metadata": {},
   "outputs": [
    {
     "data": {
      "text/plain": [
       "{'Normal': 100}"
      ]
     },
     "execution_count": 199,
     "metadata": {},
     "output_type": "execute_result"
    }
   ],
   "source": [
    "{k:v for k, v in SG_dc.items() if k in convert_arg_to_list('Normal')}"
   ]
  },
  {
   "cell_type": "code",
   "execution_count": 201,
   "id": "f78f2548",
   "metadata": {},
   "outputs": [
    {
     "data": {
      "text/plain": [
       "dict_keys(['dadX.aroA', 'dadX.eno', 'dadX.pheA', 'dadX.acnB', 'aroA.dapF', 'dapF.pheA', 'dapF.acnB', 'dapA.aroA', 'dadX.gapA', 'mrdA.aroA', 'acnB.thrB', 'aroA.argD', 'aroA.dapB', 'aroA.serC', 'mrdA.pheA', 'dapF.dapD', 'serC.dapB', 'serC.dapD', 'acnB.gltA', 'dapA.dapF', 'dapA.serC', 'murA.pyrE', 'serC.dapF', 'aroA.pheA', 'thrC.thrB', 'trpA.aroA', 'dadX.mrdA', 'murA.mrcA', 'murA.mrdA', 'dadX.mrcA', 'folP.folA', 'folP.folC', 'gltA.gltD', 'mrdA.mrcA', 'folC.folA', 'acnB.purT', 'acnB.ackA', 'folA.guaB', 'murA.pyrD', 'rffG.pyrD', 'pyrE.rffG', 'folC.guaB', 'folP.guaB', 'pyrE.pyrD', 'folA.rffG', 'tktA.gnd', 'aroA.guaB', 'dadX.guaB', 'dadX.pyrD', 'dadX.rffG'])"
      ]
     },
     "execution_count": 201,
     "metadata": {},
     "output_type": "execute_result"
    }
   ],
   "source": [
    "culture_dict.keys()"
   ]
  },
  {
   "cell_type": "code",
   "execution_count": 207,
   "id": "dfee265f",
   "metadata": {},
   "outputs": [
    {
     "name": "stdout",
     "output_type": "stream",
     "text": [
      "Zero growth:  \n"
     ]
    }
   ],
   "source": [
    "SG_dc = get_desired_cycle(SG_Biomass, ['E0', 'coculture'])\n",
    "\n",
    "Normal_dict = Normal_dict = get_sub_dict(SG_dc, 'Normal')\n",
    "SG_culture_dict = retrive_specific_culture('./Data/flanalysis_BM_SG.json', 'E0_coculture_flux')\n",
    "Normal_flux = retrive_specific_keys(SG_culture_dict, 'E0_coculture_flux', Normal_dict)"
   ]
  },
  {
   "cell_type": "code",
   "execution_count": null,
   "id": "c22950b0",
   "metadata": {},
   "outputs": [],
   "source": []
  },
  {
   "cell_type": "code",
   "execution_count": 190,
   "id": "315ad7f3",
   "metadata": {},
   "outputs": [
    {
     "data": {
      "text/plain": [
       "100"
      ]
     },
     "execution_count": 190,
     "metadata": {},
     "output_type": "execute_result"
    }
   ],
   "source": [
    "Normal_dict"
   ]
  },
  {
   "cell_type": "code",
   "execution_count": null,
   "id": "1a9c3d85",
   "metadata": {},
   "outputs": [],
   "source": []
  },
  {
   "cell_type": "code",
   "execution_count": 112,
   "id": "1b5e4262",
   "metadata": {},
   "outputs": [],
   "source": [
    "def supply_line(file):\n",
    "#     file = f'./Data/{file}'\n",
    "    with open(file) as fh:\n",
    "        for line in fh:\n",
    "            yield json.loads(line) \n",
    "            \n",
    "def retrive_specific_culture(file, culture_key):\n",
    "#     culture_key = 'E0_coculture_flux'\n",
    "    supp = supply_line(file)\n",
    "    flux_dict = dict()\n",
    "    for line in supp:    # culture as column <=> keys\n",
    "        culture_dict = line.get(f'{culture_key}')\n",
    "        if culture_dict:\n",
    "            return culture_dict\n",
    "\n",
    "culture_dict = retrive_specific_culture('./Data/ccol_DG.json', 'E0_coculture_flux')"
   ]
  },
  {
   "cell_type": "code",
   "execution_count": 202,
   "id": "dc99bf91",
   "metadata": {},
   "outputs": [
    {
     "data": {
      "text/plain": [
       "dict_keys(['dadX.aroA', 'dadX.eno', 'dadX.pheA', 'dadX.acnB', 'aroA.dapF', 'dapF.pheA', 'dapF.acnB', 'dapA.aroA', 'dadX.gapA', 'mrdA.aroA', 'acnB.thrB', 'aroA.argD', 'aroA.dapB', 'aroA.serC', 'mrdA.pheA', 'dapF.dapD', 'serC.dapB', 'serC.dapD', 'acnB.gltA', 'dapA.dapF', 'dapA.serC', 'murA.pyrE', 'serC.dapF', 'aroA.pheA', 'thrC.thrB', 'trpA.aroA', 'dadX.mrdA', 'murA.mrcA', 'murA.mrdA', 'dadX.mrcA', 'folP.folA', 'folP.folC', 'gltA.gltD', 'mrdA.mrcA', 'folC.folA', 'acnB.purT', 'acnB.ackA', 'folA.guaB', 'murA.pyrD', 'rffG.pyrD', 'pyrE.rffG', 'folC.guaB', 'folP.guaB', 'pyrE.pyrD', 'folA.rffG', 'tktA.gnd', 'aroA.guaB', 'dadX.guaB', 'dadX.pyrD', 'dadX.rffG'])"
      ]
     },
     "execution_count": 202,
     "metadata": {},
     "output_type": "execute_result"
    }
   ],
   "source": [
    "culture_dict.keys()"
   ]
  },
  {
   "cell_type": "code",
   "execution_count": 182,
   "id": "ca9b42d7",
   "metadata": {},
   "outputs": [],
   "source": [
    "from typing import Dict"
   ]
  },
  {
   "cell_type": "code",
   "execution_count": 213,
   "id": "88add7e5",
   "metadata": {},
   "outputs": [],
   "source": [
    "def retrive_specific_keys(file, culture_key, genes_dict: Dict[str, int]):\n",
    "    \n",
    "    def get_flux_dict(culture_dict, genes_dict):\n",
    "        flux_dict, no_grow= dict(), list()\n",
    "        for current_gene_combo, cycle in genes_dict.items():\n",
    "            if cycle < 15:\n",
    "                no_grow.append(current_gene_combo)\n",
    "                flux_dict[current_gene_combo] = pd.DataFrame([], index = [f'{current_gene_combo}'])\n",
    "            else:\n",
    "                desired_js = culture_dict.get(f'{current_gene_combo}')\n",
    "                temp_df = pd.read_json(desired_js).query(\"cycle == @cycle\")\n",
    "                temp_df.index = [current_gene_combo]\n",
    "    #                 return temp_df, current_gene_combo\n",
    "                flux_dict[current_gene_combo] = adjust_flux_df(temp_df, current_gene_combo) # df as \n",
    "#             genes_dict = {current_gene_combo: genes_dict.get(f'{current_gene_combo}') for current_gene_combo in genes_dict}  #subset of gene\n",
    "        if no_grow:\n",
    "            print('Zero growth: ', ', '.join(no_grow))\n",
    "        return pd.concat(flux_dict.values()) # pd.read_json() culture_key -> col pd.read_json()\n",
    "    \n",
    "    if type(file) is dict:\n",
    "        return get_flux_dict(file, genes_dict)\n",
    "    else:\n",
    "        culture_dict = retrive_specific_culture(file, culture_key)\n",
    "        return get_flux_dict(culture_dict, genes_dict) "
   ]
  },
  {
   "cell_type": "code",
   "execution_count": 114,
   "id": "75748b24",
   "metadata": {},
   "outputs": [
    {
     "ename": "NameError",
     "evalue": "name 'flux_compare_combos_dict' is not defined",
     "output_type": "error",
     "traceback": [
      "\u001b[1;31m---------------------------------------------------------------------------\u001b[0m",
      "\u001b[1;31mNameError\u001b[0m                                 Traceback (most recent call last)",
      "\u001b[1;32mD:\\Temp\\ipykernel_20664\\3894382700.py\u001b[0m in \u001b[0;36m<module>\u001b[1;34m\u001b[0m\n\u001b[0;32m      9\u001b[0m \u001b[1;31m# def get_cgc_df():\u001b[0m\u001b[1;33m\u001b[0m\u001b[1;33m\u001b[0m\u001b[1;33m\u001b[0m\u001b[0m\n\u001b[0;32m     10\u001b[0m \u001b[1;31m# compare gene combo list\u001b[0m\u001b[1;33m\u001b[0m\u001b[1;33m\u001b[0m\u001b[1;33m\u001b[0m\u001b[0m\n\u001b[1;32m---> 11\u001b[1;33m \u001b[0mcgc_list\u001b[0m \u001b[1;33m=\u001b[0m \u001b[0mlist\u001b[0m\u001b[1;33m(\u001b[0m\u001b[0mset\u001b[0m\u001b[1;33m(\u001b[0m\u001b[0minner_key\u001b[0m \u001b[1;32mfor\u001b[0m \u001b[0mv\u001b[0m \u001b[1;32min\u001b[0m \u001b[0mflux_compare_combos_dict\u001b[0m\u001b[1;33m.\u001b[0m\u001b[0mvalues\u001b[0m\u001b[1;33m(\u001b[0m\u001b[1;33m)\u001b[0m \u001b[1;32mfor\u001b[0m \u001b[0minner_key\u001b[0m \u001b[1;32min\u001b[0m \u001b[0mv\u001b[0m\u001b[1;33m.\u001b[0m\u001b[0mkeys\u001b[0m\u001b[1;33m(\u001b[0m\u001b[1;33m)\u001b[0m\u001b[1;33m)\u001b[0m\u001b[1;33m)\u001b[0m\u001b[1;33m\u001b[0m\u001b[1;33m\u001b[0m\u001b[0m\n\u001b[0m\u001b[0;32m     12\u001b[0m \u001b[0mcgc_dict\u001b[0m \u001b[1;33m=\u001b[0m \u001b[0mquery_desired_cycle\u001b[0m\u001b[1;33m(\u001b[0m\u001b[0mcgc_list\u001b[0m\u001b[1;33m)\u001b[0m \u001b[1;31m# {gcomb: desired_cycle[gcomb] for gcomb in cgc_list}\u001b[0m\u001b[1;33m\u001b[0m\u001b[1;33m\u001b[0m\u001b[0m\n\u001b[0;32m     13\u001b[0m \u001b[1;33m\u001b[0m\u001b[0m\n",
      "\u001b[1;31mNameError\u001b[0m: name 'flux_compare_combos_dict' is not defined"
     ]
    }
   ],
   "source": [
    "# more than 2\n",
    "def query_desired_cycle(cgc_list: list):\n",
    "    return {gcomb: desired_cycle[gcomb] for gcomb in cgc_list}\n",
    "\n",
    "def get_pwypair_gp_GRT2(p_o: dict): # index greater than 2 element\n",
    "    flux_compare_combos_dict = {k:v for k,v in p_o.items() if len(v)>=2}\n",
    "    return flux_compare_combos_dict\n",
    "\n",
    "# def get_cgc_df():\n",
    "# compare gene combo list\n",
    "flux_compare_combos_dict = get_pwypair_gp_GRT2(antagonistic_p_o)\n",
    "cgc_list = list(set(inner_key for v in flux_compare_combos_dict.values() for inner_key in v.keys()))\n",
    "cgc_dict = query_desired_cycle(cgc_list) # {gcomb: desired_cycle[gcomb] for gcomb in cgc_list}\n",
    "\n",
    "# flux_compare_df = retrive_specific_keys('./Data/ccol_DG.json', 'E0_coculture_flux', cgc_dict)# \n",
    "flux_compare_df = retrive_specific_keys(culture_dict, 'E0_coculture_flux', cgc_dict)"
   ]
  },
  {
   "cell_type": "code",
   "execution_count": 165,
   "id": "dc9932ab",
   "metadata": {},
   "outputs": [
    {
     "name": "stdout",
     "output_type": "stream",
     "text": [
      "Zero growth:  acnB.ackA, acnB.purT\n"
     ]
    }
   ],
   "source": [
    "\n",
    "anta_l = query_desired_cycle([ele for ele in \n",
    "                           antagonistic_p_o['Alternate Carbon Metabolism + Citric Acid Cycle'].keys()])\n",
    "df_CM_CAC = retrive_specific_keys(culture_dict, 'E0_coculture_flux', anta_l)"
   ]
  },
  {
   "cell_type": "code",
   "execution_count": 218,
   "id": "81daf76d",
   "metadata": {},
   "outputs": [
    {
     "data": {
      "text/plain": [
       "cycle                             100.000000\n",
       "x                                   1.000000\n",
       "y                                   1.000000\n",
       "SHK3Dr                              0.056977\n",
       "DHORTS                             -0.049454\n",
       "                                     ...    \n",
       "TYRL                                0.000033\n",
       "THZPSN3                             0.000033\n",
       "PAI2T                               0.000067\n",
       "4HTHRK                              0.000000\n",
       "BIOMASS_Ec_iML1515_core_75p37M      0.149500\n",
       "Name: Normal, Length: 462, dtype: float64"
      ]
     },
     "execution_count": 218,
     "metadata": {},
     "output_type": "execute_result"
    }
   ],
   "source": [
    "df.loc['Normal']"
   ]
  },
  {
   "cell_type": "code",
   "execution_count": 225,
   "id": "38b55fd4",
   "metadata": {},
   "outputs": [
    {
     "data": {
      "text/plain": [
       "[True, True, True, True, False]"
      ]
     },
     "execution_count": 225,
     "metadata": {},
     "output_type": "execute_result"
    }
   ],
   "source": [
    "remove_Normal_from_list(df.index)"
   ]
  },
  {
   "cell_type": "code",
   "execution_count": 222,
   "id": "ff49a384",
   "metadata": {},
   "outputs": [
    {
     "ename": "TypeError",
     "evalue": "'builtin_function_or_method' object is not iterable",
     "output_type": "error",
     "traceback": [
      "\u001b[1;31m---------------------------------------------------------------------------\u001b[0m",
      "\u001b[1;31mTypeError\u001b[0m                                 Traceback (most recent call last)",
      "\u001b[1;32mD:\\Temp\\ipykernel_20664\\529152894.py\u001b[0m in \u001b[0;36m<module>\u001b[1;34m\u001b[0m\n\u001b[1;32m----> 1\u001b[1;33m \u001b[1;32mfor\u001b[0m \u001b[0mi\u001b[0m\u001b[1;33m,\u001b[0m \u001b[0mgcomb\u001b[0m \u001b[1;32min\u001b[0m \u001b[0menumerate\u001b[0m\u001b[1;33m(\u001b[0m\u001b[0mitertools\u001b[0m\u001b[1;33m.\u001b[0m\u001b[0mcombinations\u001b[0m\u001b[1;33m(\u001b[0m\u001b[0mremove_Normal_from_list\u001b[0m\u001b[1;33m(\u001b[0m\u001b[0mdf\u001b[0m\u001b[1;33m)\u001b[0m\u001b[1;33m.\u001b[0m\u001b[0mindex\u001b[0m\u001b[1;33m,\u001b[0m \u001b[1;36m2\u001b[0m\u001b[1;33m)\u001b[0m\u001b[1;33m)\u001b[0m\u001b[1;33m:\u001b[0m\u001b[1;33m\u001b[0m\u001b[1;33m\u001b[0m\u001b[0m\n\u001b[0m\u001b[0;32m      2\u001b[0m     \u001b[0mprint\u001b[0m\u001b[1;33m(\u001b[0m\u001b[0mgcomb\u001b[0m\u001b[1;33m)\u001b[0m\u001b[1;33m\u001b[0m\u001b[1;33m\u001b[0m\u001b[0m\n\u001b[0;32m      3\u001b[0m \u001b[1;31m#     col_name = '_'.join(gcomb)\u001b[0m\u001b[1;33m\u001b[0m\u001b[1;33m\u001b[0m\u001b[1;33m\u001b[0m\u001b[0m\n\u001b[0;32m      4\u001b[0m \u001b[1;33m\u001b[0m\u001b[0m\n",
      "\u001b[1;31mTypeError\u001b[0m: 'builtin_function_or_method' object is not iterable"
     ]
    }
   ],
   "source": [
    "for i, gcomb in enumerate(itertools.combinations(remove_Normal_from_list(df.index), 2)):\n",
    "    print(gcomb)\n",
    "#     col_name = '_'.join(gcomb)\n",
    "        "
   ]
  },
  {
   "cell_type": "code",
   "execution_count": null,
   "id": "c12ba184",
   "metadata": {},
   "outputs": [],
   "source": [
    "[ele'Normal' not in ele for ele in l]"
   ]
  },
  {
   "cell_type": "code",
   "execution_count": 233,
   "id": "311732a2",
   "metadata": {},
   "outputs": [],
   "source": [
    "df.loc['Normal'][df.loc['Normal']==0] = .001"
   ]
  },
  {
   "cell_type": "code",
   "execution_count": 234,
   "id": "7d0fa180",
   "metadata": {},
   "outputs": [
    {
     "data": {
      "text/html": [
       "<div>\n",
       "<style scoped>\n",
       "    .dataframe tbody tr th:only-of-type {\n",
       "        vertical-align: middle;\n",
       "    }\n",
       "\n",
       "    .dataframe tbody tr th {\n",
       "        vertical-align: top;\n",
       "    }\n",
       "\n",
       "    .dataframe thead th {\n",
       "        text-align: right;\n",
       "    }\n",
       "</style>\n",
       "<table border=\"1\" class=\"dataframe\">\n",
       "  <thead>\n",
       "    <tr style=\"text-align: right;\">\n",
       "      <th></th>\n",
       "      <th>cycle</th>\n",
       "      <th>x</th>\n",
       "      <th>y</th>\n",
       "      <th>SHK3Dr</th>\n",
       "      <th>DHORTS</th>\n",
       "      <th>OMPDC</th>\n",
       "      <th>G5SD</th>\n",
       "      <th>CS</th>\n",
       "      <th>ICDHyr</th>\n",
       "      <th>PPA</th>\n",
       "      <th>...</th>\n",
       "      <th>PIt2rpp</th>\n",
       "      <th>PAI2I</th>\n",
       "      <th>LCTStpp</th>\n",
       "      <th>FESD1s</th>\n",
       "      <th>4HTHRA</th>\n",
       "      <th>TYRL</th>\n",
       "      <th>THZPSN3</th>\n",
       "      <th>PAI2T</th>\n",
       "      <th>4HTHRK</th>\n",
       "      <th>BIOMASS_Ec_iML1515_core_75p37M</th>\n",
       "    </tr>\n",
       "  </thead>\n",
       "  <tbody>\n",
       "    <tr>\n",
       "      <th>acnB.thrB</th>\n",
       "      <td>240.0</td>\n",
       "      <td>1.0</td>\n",
       "      <td>1.0</td>\n",
       "      <td>0.038585</td>\n",
       "      <td>-0.033490</td>\n",
       "      <td>0.033490</td>\n",
       "      <td>0.022380</td>\n",
       "      <td>3.487197</td>\n",
       "      <td>0.108854</td>\n",
       "      <td>0.595672</td>\n",
       "      <td>...</td>\n",
       "      <td>0.867916</td>\n",
       "      <td>0.000045</td>\n",
       "      <td>2.366817</td>\n",
       "      <td>0.000395</td>\n",
       "      <td>0.000000</td>\n",
       "      <td>0.000023</td>\n",
       "      <td>0.000023</td>\n",
       "      <td>0.000045</td>\n",
       "      <td>0.000000</td>\n",
       "      <td>0.101241</td>\n",
       "    </tr>\n",
       "    <tr>\n",
       "      <th>acnB.gltA</th>\n",
       "      <td>345.0</td>\n",
       "      <td>1.0</td>\n",
       "      <td>1.0</td>\n",
       "      <td>0.007441</td>\n",
       "      <td>-0.006459</td>\n",
       "      <td>0.006459</td>\n",
       "      <td>0.004316</td>\n",
       "      <td>2.071413</td>\n",
       "      <td>0.020993</td>\n",
       "      <td>7.059745</td>\n",
       "      <td>...</td>\n",
       "      <td>4.215463</td>\n",
       "      <td>0.000009</td>\n",
       "      <td>0.827500</td>\n",
       "      <td>0.000000</td>\n",
       "      <td>-0.000013</td>\n",
       "      <td>0.000004</td>\n",
       "      <td>0.000004</td>\n",
       "      <td>0.000009</td>\n",
       "      <td>0.000013</td>\n",
       "      <td>0.019525</td>\n",
       "    </tr>\n",
       "    <tr>\n",
       "      <th>dadX.acnB</th>\n",
       "      <td>240.0</td>\n",
       "      <td>1.0</td>\n",
       "      <td>1.0</td>\n",
       "      <td>0.020740</td>\n",
       "      <td>-0.018002</td>\n",
       "      <td>0.018002</td>\n",
       "      <td>0.012030</td>\n",
       "      <td>1.874457</td>\n",
       "      <td>0.058512</td>\n",
       "      <td>0.182178</td>\n",
       "      <td>...</td>\n",
       "      <td>0.052494</td>\n",
       "      <td>0.000024</td>\n",
       "      <td>1.066058</td>\n",
       "      <td>0.000212</td>\n",
       "      <td>0.000000</td>\n",
       "      <td>0.000012</td>\n",
       "      <td>0.000012</td>\n",
       "      <td>0.000024</td>\n",
       "      <td>0.000000</td>\n",
       "      <td>0.054420</td>\n",
       "    </tr>\n",
       "    <tr>\n",
       "      <th>dapF.acnB</th>\n",
       "      <td>265.0</td>\n",
       "      <td>1.0</td>\n",
       "      <td>1.0</td>\n",
       "      <td>0.019254</td>\n",
       "      <td>-0.016711</td>\n",
       "      <td>0.016711</td>\n",
       "      <td>0.011167</td>\n",
       "      <td>1.740092</td>\n",
       "      <td>0.054317</td>\n",
       "      <td>0.169119</td>\n",
       "      <td>...</td>\n",
       "      <td>0.048731</td>\n",
       "      <td>0.000023</td>\n",
       "      <td>1.070240</td>\n",
       "      <td>0.000197</td>\n",
       "      <td>0.000000</td>\n",
       "      <td>0.000011</td>\n",
       "      <td>0.000011</td>\n",
       "      <td>0.000023</td>\n",
       "      <td>0.000000</td>\n",
       "      <td>0.050519</td>\n",
       "    </tr>\n",
       "    <tr>\n",
       "      <th>Normal</th>\n",
       "      <td>100.0</td>\n",
       "      <td>1.0</td>\n",
       "      <td>1.0</td>\n",
       "      <td>0.056977</td>\n",
       "      <td>-0.049454</td>\n",
       "      <td>0.049454</td>\n",
       "      <td>0.033048</td>\n",
       "      <td>1.675806</td>\n",
       "      <td>1.675806</td>\n",
       "      <td>0.500473</td>\n",
       "      <td>...</td>\n",
       "      <td>0.144209</td>\n",
       "      <td>0.000067</td>\n",
       "      <td>0.579861</td>\n",
       "      <td>0.000584</td>\n",
       "      <td>0.001000</td>\n",
       "      <td>0.000033</td>\n",
       "      <td>0.000033</td>\n",
       "      <td>0.000067</td>\n",
       "      <td>0.001000</td>\n",
       "      <td>0.149500</td>\n",
       "    </tr>\n",
       "  </tbody>\n",
       "</table>\n",
       "<p>5 rows × 462 columns</p>\n",
       "</div>"
      ],
      "text/plain": [
       "           cycle    x    y    SHK3Dr    DHORTS     OMPDC      G5SD        CS  \\\n",
       "acnB.thrB  240.0  1.0  1.0  0.038585 -0.033490  0.033490  0.022380  3.487197   \n",
       "acnB.gltA  345.0  1.0  1.0  0.007441 -0.006459  0.006459  0.004316  2.071413   \n",
       "dadX.acnB  240.0  1.0  1.0  0.020740 -0.018002  0.018002  0.012030  1.874457   \n",
       "dapF.acnB  265.0  1.0  1.0  0.019254 -0.016711  0.016711  0.011167  1.740092   \n",
       "Normal     100.0  1.0  1.0  0.056977 -0.049454  0.049454  0.033048  1.675806   \n",
       "\n",
       "             ICDHyr       PPA  ...   PIt2rpp     PAI2I   LCTStpp    FESD1s  \\\n",
       "acnB.thrB  0.108854  0.595672  ...  0.867916  0.000045  2.366817  0.000395   \n",
       "acnB.gltA  0.020993  7.059745  ...  4.215463  0.000009  0.827500  0.000000   \n",
       "dadX.acnB  0.058512  0.182178  ...  0.052494  0.000024  1.066058  0.000212   \n",
       "dapF.acnB  0.054317  0.169119  ...  0.048731  0.000023  1.070240  0.000197   \n",
       "Normal     1.675806  0.500473  ...  0.144209  0.000067  0.579861  0.000584   \n",
       "\n",
       "             4HTHRA      TYRL   THZPSN3     PAI2T    4HTHRK  \\\n",
       "acnB.thrB  0.000000  0.000023  0.000023  0.000045  0.000000   \n",
       "acnB.gltA -0.000013  0.000004  0.000004  0.000009  0.000013   \n",
       "dadX.acnB  0.000000  0.000012  0.000012  0.000024  0.000000   \n",
       "dapF.acnB  0.000000  0.000011  0.000011  0.000023  0.000000   \n",
       "Normal     0.001000  0.000033  0.000033  0.000067  0.001000   \n",
       "\n",
       "           BIOMASS_Ec_iML1515_core_75p37M  \n",
       "acnB.thrB                        0.101241  \n",
       "acnB.gltA                        0.019525  \n",
       "dadX.acnB                        0.054420  \n",
       "dapF.acnB                        0.050519  \n",
       "Normal                           0.149500  \n",
       "\n",
       "[5 rows x 462 columns]"
      ]
     },
     "execution_count": 234,
     "metadata": {},
     "output_type": "execute_result"
    }
   ],
   "source": [
    "df.head()"
   ]
  },
  {
   "cell_type": "code",
   "execution_count": null,
   "id": "709e8bd9",
   "metadata": {},
   "outputs": [],
   "source": [
    "# filt pwy reaction list"
   ]
  },
  {
   "cell_type": "code",
   "execution_count": 254,
   "id": "44f040bb",
   "metadata": {},
   "outputs": [],
   "source": [
    "def remove_Normal_from_list(l: list):\n",
    "    return [ele for ele in l if 'Normal' not in ele]\n",
    "\n",
    "def add_normal_flux_row(df, Normal_flux):\n",
    "    return pd.concat([df, Normal_flux])\n",
    "\n",
    "def clean_flux_df(df):\n",
    "    return remove_Zero_col(df.dropna())\n",
    "    \n",
    "def get_standardized_plot_df(df):\n",
    "    \n",
    "    df.loc['Normal', df.loc['Normal']==0] = .005\n",
    "#     df = df\n",
    "    def standardize_row(row):\n",
    "        return row/df.loc['Normal']\n",
    "       \n",
    "    df_list = list()\n",
    "    for i, gcomb in enumerate(itertools.combinations(remove_Normal_from_list(df.index), 2)):\n",
    "        col_name = '_'.join(gcomb)\n",
    "        if i == 0:\n",
    "            sort_col = col_name\n",
    "#             ? sort_col -> 'Normal'\n",
    "        df_list.append(\n",
    "            pd.DataFrame(\n",
    "                abs(standardize_row(df.loc[gcomb[0]]-df.loc[gcomb[1]])),\n",
    "#                 abs(df.loc[gcomb[0]]-df.loc[gcomb[1]]),\n",
    "                columns=[f'{col_name}']))\n",
    "\n",
    "    plot_df = (pd.concat(df_list, axis=1)\n",
    "          .drop(['x','y','cycle'])\n",
    "          .sort_values(f'{sort_col}', ascending=True)\n",
    "          .reset_index().rename(columns={'index':'Reaction'}))\n",
    "    return plot_df.loc[:,['Normal' not in ele for ele in plot_df.columns]]\n",
    "    \n",
    "\n",
    "df = clean_flux_df(add_normal_flux_row(df_CM_CAC, Normal_flux))\n",
    "# plot_df_raw = get_standardized_plot_df(df)\n",
    "plot_df = get_standardized_plot_df(df)"
   ]
  },
  {
   "cell_type": "code",
   "execution_count": 256,
   "id": "5479be5d",
   "metadata": {},
   "outputs": [
    {
     "data": {
      "image/png": "[encoded data removed]",
      "text/plain": [
       "<Figure size 640x480 with 1 Axes>"
      ]
     },
     "metadata": {},
     "output_type": "display_data"
    },
    {
     "data": {
      "image/png": "[encoded data removed]",
      "text/plain": [
       "<Figure size 640x480 with 1 Axes>"
      ]
     },
     "metadata": {},
     "output_type": "display_data"
    }
   ],
   "source": [
    "p_raw = plot_df_raw.plot(x='Reaction', ylim=(0,25), title='Abs Flux Diff')\n",
    "p_stand = plot_df.plot(x='Reaction', ylim=(0,40), title='Standardized Flux Diff')"
   ]
  },
  {
   "cell_type": "code",
   "execution_count": 172,
   "id": "942eddbf",
   "metadata": {},
   "outputs": [],
   "source": [
    "df = remove_Zero_col(df_CM_CAC.dropna())\n",
    "\n",
    "df_list = list()\n",
    "for i, gcomb in enumerate(itertools.combinations(remove_Normal_from_list(df.index), 2)):\n",
    "    col_name = '_'.join(gcomb)\n",
    "    if i == 0:\n",
    "        sort_col = col_name\n",
    "    df_list.append(pd.DataFrame(abs(df.loc[gcomb[0]]-df.loc[gcomb[1]]), columns=[f'{col_name}']))\n",
    "\n",
    "plot_df = (pd.concat(df_list, axis=1)\n",
    "      .drop(['x','y','cycle'])\n",
    "      .sort_values(f'{sort_col}', ascending=True)\n",
    "      .reset_index().rename(columns={'index':'Reaction'}))\n",
    "\n",
    "plot_df = plot_df.loc[:,['Normal' not in ele for ele in plot_df.columns]]"
   ]
  },
  {
   "cell_type": "markdown",
   "id": "a12688cf",
   "metadata": {},
   "source": [
    "# flux abs diff -suggested"
   ]
  },
  {
   "cell_type": "code",
   "execution_count": 537,
   "id": "fb54926a",
   "metadata": {},
   "outputs": [],
   "source": [
    "cgc_list2 = antagonistic_p_o['Alternate Carbon Metabolism + Threonine and Lysine Metabolism'].keys()\n",
    "cgc_dict2 = {gcomb: desired_cycle[gcomb] for gcomb in cgc_list2}\n",
    "flux_compare_df = retrive_specific_keys('./Data/ccol_DG.json', 'E0_coculture_flux', cgc_dict2)"
   ]
  },
  {
   "cell_type": "code",
   "execution_count": 447,
   "id": "747ddef2",
   "metadata": {},
   "outputs": [
    {
     "data": {
      "text/html": [
       "<div>\n",
       "<style scoped>\n",
       "    .dataframe tbody tr th:only-of-type {\n",
       "        vertical-align: middle;\n",
       "    }\n",
       "\n",
       "    .dataframe tbody tr th {\n",
       "        vertical-align: top;\n",
       "    }\n",
       "\n",
       "    .dataframe thead th {\n",
       "        text-align: right;\n",
       "    }\n",
       "</style>\n",
       "<table border=\"1\" class=\"dataframe\">\n",
       "  <thead>\n",
       "    <tr style=\"text-align: right;\">\n",
       "      <th></th>\n",
       "      <th>cycle</th>\n",
       "      <th>x</th>\n",
       "      <th>y</th>\n",
       "      <th>SHK3Dr</th>\n",
       "      <th>DHORTS</th>\n",
       "      <th>OMPDC</th>\n",
       "      <th>G5SD</th>\n",
       "      <th>CS</th>\n",
       "      <th>ICDHyr</th>\n",
       "      <th>PPA</th>\n",
       "      <th>...</th>\n",
       "      <th>PYK3</th>\n",
       "      <th>PYK6</th>\n",
       "      <th>PIt2rpp</th>\n",
       "      <th>PAI2I</th>\n",
       "      <th>LCTStpp</th>\n",
       "      <th>FESD1s</th>\n",
       "      <th>TYRL</th>\n",
       "      <th>THZPSN3</th>\n",
       "      <th>PAI2T</th>\n",
       "      <th>BIOMASS_Ec_iML1515_core_75p37M</th>\n",
       "    </tr>\n",
       "  </thead>\n",
       "  <tbody>\n",
       "    <tr>\n",
       "      <th>acnB.thrB</th>\n",
       "      <td>240</td>\n",
       "      <td>1</td>\n",
       "      <td>1</td>\n",
       "      <td>0.038585</td>\n",
       "      <td>-0.033490</td>\n",
       "      <td>0.033490</td>\n",
       "      <td>0.022380</td>\n",
       "      <td>3.487197</td>\n",
       "      <td>0.108854</td>\n",
       "      <td>0.595672</td>\n",
       "      <td>...</td>\n",
       "      <td>0.000000</td>\n",
       "      <td>0.000000</td>\n",
       "      <td>0.867916</td>\n",
       "      <td>0.000045</td>\n",
       "      <td>2.366817</td>\n",
       "      <td>0.000395</td>\n",
       "      <td>0.000023</td>\n",
       "      <td>0.000023</td>\n",
       "      <td>0.000045</td>\n",
       "      <td>0.101241</td>\n",
       "    </tr>\n",
       "    <tr>\n",
       "      <th>dapF.acnB</th>\n",
       "      <td>265</td>\n",
       "      <td>1</td>\n",
       "      <td>1</td>\n",
       "      <td>0.019254</td>\n",
       "      <td>-0.016711</td>\n",
       "      <td>0.016711</td>\n",
       "      <td>0.011167</td>\n",
       "      <td>1.740092</td>\n",
       "      <td>0.054317</td>\n",
       "      <td>0.169119</td>\n",
       "      <td>...</td>\n",
       "      <td>0.032135</td>\n",
       "      <td>0.001322</td>\n",
       "      <td>0.048731</td>\n",
       "      <td>0.000023</td>\n",
       "      <td>1.070240</td>\n",
       "      <td>0.000197</td>\n",
       "      <td>0.000011</td>\n",
       "      <td>0.000011</td>\n",
       "      <td>0.000023</td>\n",
       "      <td>0.050519</td>\n",
       "    </tr>\n",
       "  </tbody>\n",
       "</table>\n",
       "<p>2 rows × 445 columns</p>\n",
       "</div>"
      ],
      "text/plain": [
       "           cycle  x  y    SHK3Dr    DHORTS     OMPDC      G5SD        CS  \\\n",
       "acnB.thrB    240  1  1  0.038585 -0.033490  0.033490  0.022380  3.487197   \n",
       "dapF.acnB    265  1  1  0.019254 -0.016711  0.016711  0.011167  1.740092   \n",
       "\n",
       "             ICDHyr       PPA  ...      PYK3      PYK6   PIt2rpp     PAI2I  \\\n",
       "acnB.thrB  0.108854  0.595672  ...  0.000000  0.000000  0.867916  0.000045   \n",
       "dapF.acnB  0.054317  0.169119  ...  0.032135  0.001322  0.048731  0.000023   \n",
       "\n",
       "            LCTStpp    FESD1s      TYRL   THZPSN3     PAI2T  \\\n",
       "acnB.thrB  2.366817  0.000395  0.000023  0.000023  0.000045   \n",
       "dapF.acnB  1.070240  0.000197  0.000011  0.000011  0.000023   \n",
       "\n",
       "           BIOMASS_Ec_iML1515_core_75p37M  \n",
       "acnB.thrB                        0.101241  \n",
       "dapF.acnB                        0.050519  \n",
       "\n",
       "[2 rows x 445 columns]"
      ]
     },
     "execution_count": 447,
     "metadata": {},
     "output_type": "execute_result"
    }
   ],
   "source": [
    "remove_Zero_col(flux_compare_df)"
   ]
  },
  {
   "cell_type": "code",
   "execution_count": 484,
   "id": "1b9aebf2",
   "metadata": {},
   "outputs": [],
   "source": [
    "# df = remove_Zero_col(flux_compare_df.drop(['x','y','cycle'], axis=1))\n",
    "diff = (pd.DataFrame(abs(df.iloc[0]-df.iloc[1]), columns=['value']).\n",
    "reset_index().rename(columns={'index':'Reaction'}))"
   ]
  },
  {
   "cell_type": "code",
   "execution_count": 470,
   "id": "9a919b4a",
   "metadata": {},
   "outputs": [
    {
     "data": {
      "text/plain": [
       "APRAUR     0.000023\n",
       "TRPAS2     0.002883\n",
       "DB4PS      0.000045\n",
       "ALAR       0.002114\n",
       "RBFK       0.000011\n",
       "             ...   \n",
       "PAI2I      0.000023\n",
       "FESD1s     0.000198\n",
       "TYRL       0.000011\n",
       "THZPSN3    0.000011\n",
       "PAI2T      0.000023\n",
       "Length: 219, dtype: float64"
      ]
     },
     "execution_count": 470,
     "metadata": {},
     "output_type": "execute_result"
    }
   ],
   "source": [
    "from statistics import median\n",
    "m = median(diff.sort_values())\n",
    "diff[diff<m]"
   ]
  },
  {
   "cell_type": "code",
   "execution_count": 486,
   "id": "b4f4dc17",
   "metadata": {},
   "outputs": [
    {
     "data": {
      "text/plain": [
       "<AxesSubplot:xlabel='Reaction'>"
      ]
     },
     "execution_count": 486,
     "metadata": {},
     "output_type": "execute_result"
    },
    {
     "data": {
      "image/png": "[encoded data removed]",
      "text/plain": [
       "<Figure size 640x480 with 1 Axes>"
      ]
     },
     "metadata": {},
     "output_type": "display_data"
    }
   ],
   "source": [
    "diff.sort_values('value').plot(x='Reaction')"
   ]
  },
  {
   "cell_type": "markdown",
   "id": "7ffac049",
   "metadata": {},
   "source": [
    "# Old gr for specific genecomb"
   ]
  },
  {
   "cell_type": "code",
   "execution_count": null,
   "id": "f3236800",
   "metadata": {},
   "outputs": [],
   "source": [
    "\n",
    "def get_row_grmax(desired_BM, genes='Normal'): # currently only E0\n",
    "    desired_cycle = find_upneighbour(desired_BM)\n",
    "    dfE = analysis_df.loc[genes, 'E0_coculture_flux']\n",
    "#     dfE = remove_Zero_col(pd.read_json(dfE). # no use \n",
    "    dfE = (pd.read_json(dfE). \n",
    "           query(\"cycle in @desired_cycle\").\n",
    "           drop(['x','y','cycle'], axis=1))\n",
    "    dfE.index = [genes]\n",
    "    \n",
    "    return dfE\n",
    "\n",
    "def get_genes_compare(gene_list, Biomass_df, regex): # generate every gene-> subset\n",
    "    desired_BM = get_desired_BM(Biomass_df, regex=regex)\n",
    "    compare_list = list()\n",
    "    for genes in gene_list:\n",
    "\n",
    "        temp_df = get_row_grmax(desired_BM, genes=genes) # for flux only\n",
    "        \"\"\"\n",
    "        If ~ == flux/ not metabo\n",
    "        \"\"\"    \n",
    "        temp_df = adjust_flux_df(temp_df, genes)\n",
    "        compare_list.append(temp_df)\n",
    "        \n",
    "    compare_df = (remove_Zero_col(pd.concat(compare_list)).T. # row to column\n",
    "                  sort_values(by='Normal', key=abs, ascending=False)) # with 0 cell\n",
    "    \n",
    "#     compare_df = (pd.concat([\n",
    "#         get_row_grmax(desired_BM, genes=genes) for genes in gene_list]).\n",
    "#                   T. # row to column\n",
    "#                   sort_values(by='Normal', key=abs, ascending=False)) # with 0 cell\n",
    "    return compare_df\n",
    "# Independent Extra sorted??? \n",
    "# order by flux ordering in Esher\n",
    "\n",
    "# compare_df = get_genes_compare(['folA', 'folP','Normal'], Biomass_df, 'Normal_coculture')"
   ]
  },
  {
   "cell_type": "code",
   "execution_count": null,
   "id": "6cc04189",
   "metadata": {},
   "outputs": [],
   "source": [
    "# # create base layer for Normal \n",
    "# Normal_df = compare_abs_df[['Normal', 'Reactions']]\n",
    "\n",
    "# compare_df_long = compare_df.drop('Normal', axis=1).melt(ignore_index=False, \n",
    "#                              var_name='Genes')"
   ]
  },
  {
   "cell_type": "markdown",
   "id": "fdf51a62",
   "metadata": {},
   "source": [
    "# compare df"
   ]
  },
  {
   "cell_type": "code",
   "execution_count": null,
   "id": "9f65d342",
   "metadata": {},
   "outputs": [],
   "source": [
    "\n",
    "# compare_df = get_genes_compare(['folA', 'folP','Normal'], Biomass_df, 'Normal_coculture')\n",
    "\n",
    "def get_abs_df(df):\n",
    "    return (pd.DataFrame({colname: abs(col) for colname, col in df.items()}).\n",
    "                  rename_axis('Reactions').\n",
    "                  reset_index())\n",
    "\n",
    "# compare_abs_df = get_abs_df(compare_df)\n",
    "\n",
    "# create base layer for Normal \n",
    "# Normal_df = compare_abs_df[['Normal', 'Reactions']]\n",
    "\n",
    "# compare_df_long = compare_df.drop('Normal', axis=1).melt(ignore_index=False, \n",
    "#                              var_name='Genes')"
   ]
  },
  {
   "cell_type": "markdown",
   "id": "106081d7",
   "metadata": {},
   "source": [
    "# plot flux dist"
   ]
  },
  {
   "cell_type": "code",
   "execution_count": null,
   "id": "3980832b",
   "metadata": {},
   "outputs": [],
   "source": [
    "from plotnine import ggplot, geom_area, aes\n",
    "# base = ggplot(df.iloc[:30,], aes(x='Reactions', y='Normal',group=1))+geom_area(fill = 'grey',alpha=0.5)\n",
    "base = ggplot(normal_df1.iloc[:30,], aes(x='Reactions', y='Normal',group=1))+geom_area(fill = 'grey',alpha=0.5)\n"
   ]
  },
  {
   "cell_type": "code",
   "execution_count": null,
   "id": "9dee234e",
   "metadata": {},
   "outputs": [],
   "source": [
    "from plotnine.ggplot import *\n",
    "from plotnine import (\n",
    "    ggplot,\n",
    "    aes,\n",
    "    geom_col,\n",
    "    geom_text,\n",
    "    position_dodge,\n",
    "    lims,\n",
    "    theme,\n",
    "    element_text,\n",
    "    element_blank,\n",
    "    element_rect,\n",
    "    element_line,\n",
    ")"
   ]
  },
  {
   "cell_type": "code",
   "execution_count": null,
   "id": "a47bbaac",
   "metadata": {},
   "outputs": [],
   "source": [
    "# p = (ggplot(genes_df, aes(x='Reactions', y='Genes',group=1))+\n",
    "#      geom_area()+\n",
    "#      facet_wrap('Genes'))"
   ]
  },
  {
   "cell_type": "code",
   "execution_count": null,
   "id": "d3687cc8",
   "metadata": {},
   "outputs": [],
   "source": [
    "import plotnine.options as plopt\n",
    "plopt.figure_size = (16,20)\n"
   ]
  },
  {
   "cell_type": "code",
   "execution_count": null,
   "id": "f2d6e0ed",
   "metadata": {},
   "outputs": [],
   "source": [
    "(base+\n",
    "     geom_area(mapping=aes(x='Reactions', y='value',group=1), data=genes_df1,\n",
    "               fill='red', alpha = 0.3, show_legend= True)+\n",
    "     facet_wrap('Genes')+\n",
    "     theme(axis_text_x=element_text(angle=90)\n",
    "))"
   ]
  },
  {
   "cell_type": "code",
   "execution_count": null,
   "id": "26954f3a",
   "metadata": {},
   "outputs": [],
   "source": [
    "(ggplot(genes_df1, aes(x='Reactions', y='value',group=1))+\n",
    "     geom_area(fill='red')+\n",
    "     facet_wrap('Genes')+\n",
    "     theme(axis_text_x=element_text(angle=60)))"
   ]
  },
  {
   "cell_type": "code",
   "execution_count": null,
   "id": "252e08f1",
   "metadata": {},
   "outputs": [],
   "source": []
  },
  {
   "cell_type": "code",
   "execution_count": null,
   "id": "76153362",
   "metadata": {},
   "outputs": [],
   "source": [
    "(base+ geom_area(aes(x='Reactions', y='folA'), fill='red') + \n",
    "    theme(axis_text_x=element_text(angle=60)))　\n",
    " "
   ]
  },
  {
   "cell_type": "code",
   "execution_count": null,
   "id": "0bc39db5",
   "metadata": {},
   "outputs": [],
   "source": [
    "from plotnine import *"
   ]
  },
  {
   "cell_type": "code",
   "execution_count": null,
   "id": "2cbd3dfe",
   "metadata": {},
   "outputs": [],
   "source": [
    "\n",
    "compare_df_long = compare_df_long.rename_axis('Reactions').reset_index()\n"
   ]
  },
  {
   "cell_type": "code",
   "execution_count": null,
   "id": "36a67806",
   "metadata": {},
   "outputs": [],
   "source": []
  },
  {
   "cell_type": "code",
   "execution_count": null,
   "id": "d7a5048b",
   "metadata": {},
   "outputs": [],
   "source": []
  },
  {
   "cell_type": "code",
   "execution_count": null,
   "id": "63d67992",
   "metadata": {},
   "outputs": [],
   "source": [
    "# compare_df_long = compare_df_long.rename_axis('Reactions').reset_index()\n",
    "compare_df_long.value = compare_df_long.value.abs()"
   ]
  },
  {
   "cell_type": "code",
   "execution_count": null,
   "id": "eae1f56f",
   "metadata": {},
   "outputs": [],
   "source": [
    "compare_df_long.columns"
   ]
  },
  {
   "cell_type": "code",
   "execution_count": null,
   "id": "9e878a62",
   "metadata": {},
   "outputs": [],
   "source": [
    "import seaborn as sns\n",
    "g = sns.FacetGrid(compare_df_long, col='Genes')\n",
    "g.map(sns.lineplot,'Reactions', 'value')"
   ]
  },
  {
   "cell_type": "code",
   "execution_count": null,
   "id": "41510dd0",
   "metadata": {},
   "outputs": [],
   "source": []
  },
  {
   "cell_type": "code",
   "execution_count": null,
   "id": "9f46eb4f",
   "metadata": {},
   "outputs": [],
   "source": []
  },
  {
   "cell_type": "code",
   "execution_count": null,
   "id": "27069ab9",
   "metadata": {},
   "outputs": [],
   "source": [
    "Normal_df = compare_abs_df[['Normal']]\n",
    "\n",
    "Normal_df = Normal_df.rename_axis('Reactions').reset_index()"
   ]
  },
  {
   "cell_type": "code",
   "execution_count": null,
   "id": "07c37fec",
   "metadata": {},
   "outputs": [],
   "source": [
    "from plotnine import *\n",
    "ggplot(survs_df, aes(x='weight', y='hindfoot_length')) + geom_point()\n",
    "\n"
   ]
  },
  {
   "cell_type": "code",
   "execution_count": null,
   "id": "6537896a",
   "metadata": {},
   "outputs": [],
   "source": [
    "# n=50\n",
    "compare_df_long = compare_df.melt(ignore_index=False, var_name='Genes')\n",
    "compare_df_long = compare_df_long.rename_axis('Flux').reset_index()\n",
    "compare_df_long.value = compare_df_long.value.abs()"
   ]
  },
  {
   "cell_type": "code",
   "execution_count": null,
   "id": "fe07b7f3",
   "metadata": {},
   "outputs": [],
   "source": [
    "so.Plot(compare_df_long, 'Flux', 'value', color = 'Genes').add(so.Area(alpha=.5))\n"
   ]
  },
  {
   "cell_type": "code",
   "execution_count": null,
   "id": "812d482e",
   "metadata": {},
   "outputs": [],
   "source": [
    "import seaborn.objects as so\n",
    "so.Plot(compare_df_long, 'Flux', 'value', color = 'Genes').add(so.Area(alpha=.5))\n"
   ]
  },
  {
   "cell_type": "code",
   "execution_count": null,
   "id": "05caddb0",
   "metadata": {},
   "outputs": [],
   "source": [
    "Normal_df"
   ]
  },
  {
   "cell_type": "code",
   "execution_count": null,
   "id": "b67fad47",
   "metadata": {},
   "outputs": [],
   "source": [
    "so.Plot(Normal_df, 'Reactions', 'Normal').add(so.Area(alpha=.5))\n"
   ]
  },
  {
   "cell_type": "code",
   "execution_count": null,
   "id": "d7546b07",
   "metadata": {},
   "outputs": [],
   "source": [
    "compare_abs_df"
   ]
  },
  {
   "cell_type": "code",
   "execution_count": null,
   "id": "c18d5f00",
   "metadata": {},
   "outputs": [],
   "source": [
    "plt.fill_between(compare_abs_df.Reactions, compare_abs_df.Normal)"
   ]
  },
  {
   "cell_type": "code",
   "execution_count": null,
   "id": "2bbb891e",
   "metadata": {},
   "outputs": [],
   "source": [
    "fig, ax = plt.subplots(figsize=(8, 8))\n",
    "# Plot lines\n",
    "ax.plot(time, income, color=\"green\")\n",
    "ax.plot(time, expenses, color=\"red\")\n",
    "\n",
    "# Fill area when income > expenses with green\n",
    "ax.fill_between(\n",
    "    time, income, expenses, where=(income > expenses), \n",
    "    interpolate=True, color=\"green\", alpha=0.25, \n",
    "    label=\"Positive\"\n",
    ")\n",
    "\n",
    "# Fill area when income <= expenses with red\n",
    "ax.fill_between(\n",
    "    time, income, expenses, where=(income <= expenses), \n",
    "    interpolate=True, color=\"red\", alpha=0.25,\n",
    "    label=\"Negative\")"
   ]
  },
  {
   "cell_type": "code",
   "execution_count": null,
   "id": "086b6082",
   "metadata": {},
   "outputs": [],
   "source": [
    "\n",
    "\n",
    "\n"
   ]
  },
  {
   "cell_type": "code",
   "execution_count": null,
   "id": "cd997399",
   "metadata": {},
   "outputs": [],
   "source": [
    "import matplotlib.pyplot as plt\n",
    "plt.fill_between(compare_abs_df.Reactions, compare_abs_df.folA)"
   ]
  },
  {
   "cell_type": "code",
   "execution_count": null,
   "id": "ae0320d8",
   "metadata": {},
   "outputs": [],
   "source": [
    "geom_area(aes(x='Reactions', y='Normal'))"
   ]
  },
  {
   "cell_type": "code",
   "execution_count": null,
   "id": "f16a8e1a",
   "metadata": {},
   "outputs": [],
   "source": [
    "compare_abs_df['Normal'].plot()"
   ]
  },
  {
   "cell_type": "code",
   "execution_count": null,
   "id": "1978ac7e",
   "metadata": {},
   "outputs": [],
   "source": [
    "compare_abs_df = (pd.DataFrame({colname: abs(col) for colname, col in compare_df.items()}).\n",
    "                  rename_axis('Reactions').\n",
    "                  reset_index())"
   ]
  },
  {
   "cell_type": "code",
   "execution_count": null,
   "id": "afaf2d2e",
   "metadata": {},
   "outputs": [],
   "source": [
    "ggplot(Normal_df, aes(x='Reactions', y='Normal',group=1))+geom_path()"
   ]
  },
  {
   "cell_type": "code",
   "execution_count": null,
   "id": "06229408",
   "metadata": {},
   "outputs": [],
   "source": [
    "ggplot(compare_abs_df, aes(x='Reactions', y='Normal',group=1))+geom_line()"
   ]
  },
  {
   "cell_type": "code",
   "execution_count": null,
   "id": "91a102c8",
   "metadata": {},
   "outputs": [],
   "source": [
    "# get_row_grmax(desired_BM, genes=genes)\n",
    "desired_BM = get_desired_BM(Biomass_df, regex=regex)\n",
    "\n",
    "temp_df = get_row_grmax(desired_BM, genes=genes) # for flux only\n",
    "df = temp_df\n",
    "if genes != 'Normal':\n",
    "    v1_cols = df.filter(regex='v1').columns\n",
    "    for gene in convert_arg_to_list(genes):\n",
    "        rcts = list()\n",
    "        for rct in E0.genes.get_by_id(get_gene_id(E0, genes)).reactions:\n",
    "            rcts.append(rct.id)\n",
    "\n",
    "        for v1_col in (set(v1_cols) & set(rcts)): # associated with gene/ find from gene\n",
    "            original_col = v1_col.replace(\"_v1\", '')\n",
    "            df[f'{original_col}'] = df[f'{original_col}'] + df[f'{v1_col}']/alpha_table.loc[f'{gene}', 'E0']\n",
    "            df.drop(f'{v1_col}', axis=1)\n",
    "            v1_cols.drop(f'{v1_col}')"
   ]
  },
  {
   "cell_type": "code",
   "execution_count": null,
   "id": "8f6582e5",
   "metadata": {},
   "outputs": [],
   "source": [
    "if genes != 'Normal':\n",
    "    v1_cols = df.filter(regex='v1').columns\n",
    "    for gene in convert_arg_to_list(genes):\n",
    "        rcts = list()\n",
    "        for rct in E0.genes.get_by_id(get_gene_id(E0, genes)).reactions:\n",
    "            rcts.append(rct.id)\n",
    "\n",
    "        for v1_col in (set(v1_cols) and set(rcts)): # associated with gene/ find from gene\n",
    "            original_col = v1_col.replace(\"_v1\", '')\n",
    "            df[f'{original_col}'] = df[f'{original_col}'] + df[f'{v1_col}']/alpha_table.loc[f'{gene}', 'E0']\n",
    "            df.drop(f'{v1_col}', axis=1)\n",
    "            v1_cols.drop(f'{v1_col}')"
   ]
  },
  {
   "cell_type": "code",
   "execution_count": null,
   "id": "b36fc0f9",
   "metadata": {},
   "outputs": [],
   "source": [
    "from matplotlib import cm\n",
    "compare_df"
   ]
  },
  {
   "cell_type": "code",
   "execution_count": null,
   "id": "faf337f4",
   "metadata": {},
   "outputs": [],
   "source": [
    "from joypy import joyplot\n",
    "joyplot(compare_df, by = 'Genes', column = 'value', color = 'Orange', fade = True)"
   ]
  },
  {
   "cell_type": "code",
   "execution_count": null,
   "id": "9ff2f1b4",
   "metadata": {},
   "outputs": [],
   "source": [
    "compare_df"
   ]
  },
  {
   "cell_type": "code",
   "execution_count": null,
   "id": "1472b7f0",
   "metadata": {},
   "outputs": [],
   "source": []
  },
  {
   "cell_type": "code",
   "execution_count": null,
   "id": "af915d91",
   "metadata": {},
   "outputs": [],
   "source": [
    "%load_ext rpy2.ipython\n",
    "\n",
    "%R"
   ]
  },
  {
   "cell_type": "code",
   "execution_count": null,
   "id": "8d543873",
   "metadata": {},
   "outputs": [],
   "source": []
  },
  {
   "cell_type": "code",
   "execution_count": null,
   "id": "bfdd1710",
   "metadata": {},
   "outputs": [],
   "source": []
  },
  {
   "cell_type": "code",
   "execution_count": null,
   "id": "11ab7272",
   "metadata": {},
   "outputs": [],
   "source": []
  },
  {
   "cell_type": "code",
   "execution_count": null,
   "id": "d61d05e4",
   "metadata": {},
   "outputs": [],
   "source": []
  },
  {
   "cell_type": "code",
   "execution_count": null,
   "id": "35b4c2fe",
   "metadata": {},
   "outputs": [],
   "source": [
    "dfE"
   ]
  },
  {
   "cell_type": "code",
   "execution_count": null,
   "id": "b38fd2e3",
   "metadata": {},
   "outputs": [],
   "source": []
  },
  {
   "cell_type": "code",
   "execution_count": null,
   "id": "37234c52",
   "metadata": {},
   "outputs": [],
   "source": [
    "!pip install yapf"
   ]
  },
  {
   "cell_type": "code",
   "execution_count": null,
   "id": "c096c6be",
   "metadata": {},
   "outputs": [],
   "source": [
    "# desired_cycle = find_upneighbour(desired_BM)\n",
    "# dfE = remove_Zero_col(pd.read_json(dfE).\n",
    "#                       query(\"cycle in @desired_cycle\").\n",
    "#                       drop(['x','y','cycle'], axis=1))"
   ]
  },
  {
   "cell_type": "code",
   "execution_count": null,
   "id": "539b587c",
   "metadata": {},
   "outputs": [],
   "source": [
    "ggplot"
   ]
  },
  {
   "cell_type": "code",
   "execution_count": null,
   "id": "excited-walker",
   "metadata": {},
   "outputs": [],
   "source": [
    "from plotnine import (\n",
    "    ggplot,\n",
    "    aes,\n",
    "    geom_col,\n",
    "    geom_text,\n",
    "    position_dodge,\n",
    "    lims,\n",
    "    theme,\n",
    "    element_text,\n",
    "    element_blank,\n",
    "    element_rect,\n",
    "    element_line,\n",
    ")\n",
    "\n",
    "\n",
    "(ggplot(df, aes(x='variable', y='value', fill='category'))\n",
    " + geom_col()\n",
    ")\n",
    "\n",
    "\n"
   ]
  },
  {
   "cell_type": "code",
   "execution_count": null,
   "id": "advised-smile",
   "metadata": {},
   "outputs": [],
   "source": []
  },
  {
   "cell_type": "code",
   "execution_count": null,
   "id": "speaking-radio",
   "metadata": {},
   "outputs": [],
   "source": [
    "dfE.index = ['Normal']\n",
    "a = dfE.T.sort_values(by='b', key=abs)\n",
    "\n",
    "a.iloc[:,:10].hist()"
   ]
  },
  {
   "cell_type": "code",
   "execution_count": null,
   "id": "metropolitan-virus",
   "metadata": {},
   "outputs": [],
   "source": [
    "# -> merge df\n",
    "sorted_flux = dfE.to_dict('records')\n",
    "a"
   ]
  },
  {
   "cell_type": "code",
   "execution_count": null,
   "id": "productive-playing",
   "metadata": {},
   "outputs": [],
   "source": [
    "dict(sorted(a.items(), key=lambda item: item[1]))"
   ]
  },
  {
   "cell_type": "code",
   "execution_count": null,
   "id": "contrary-hanging",
   "metadata": {},
   "outputs": [],
   "source": [
    "import cobra\n",
    "S0 = cobra.io.read_sbml_model(\"./models/STM_v1_0_S0.xml\")\n"
   ]
  },
  {
   "cell_type": "code",
   "execution_count": null,
   "id": "discrete-bryan",
   "metadata": {},
   "outputs": [],
   "source": [
    "S0.reactions.BIOMASS_Ec_iAF1260_core_59p81M"
   ]
  },
  {
   "cell_type": "code",
   "execution_count": null,
   "id": "falling-hearts",
   "metadata": {},
   "outputs": [],
   "source": []
  },
  {
   "cell_type": "code",
   "execution_count": null,
   "id": "perceived-following",
   "metadata": {},
   "outputs": [],
   "source": []
  },
  {
   "cell_type": "code",
   "execution_count": null,
   "id": "worldwide-facing",
   "metadata": {},
   "outputs": [],
   "source": [
    "df.BIOMASS_Ec_iML1515_core_75p37M.plot()"
   ]
  },
  {
   "cell_type": "code",
   "execution_count": null,
   "id": "surface-trance",
   "metadata": {},
   "outputs": [],
   "source": [
    "dfS = remove_Zero_col(pd.read_json(\n",
    "    N2.loc['Normal', 'S0_ac_coculture_flux']))\n",
    "dfS"
   ]
  },
  {
   "cell_type": "code",
   "execution_count": null,
   "id": "upset-reliance",
   "metadata": {},
   "outputs": [],
   "source": [
    "print(dfS.columns[dfS.columns.filter(reg)])"
   ]
  },
  {
   "cell_type": "code",
   "execution_count": null,
   "id": "packed-battle",
   "metadata": {},
   "outputs": [],
   "source": [
    "dfS.filter(regex='B').columns"
   ]
  },
  {
   "cell_type": "code",
   "execution_count": null,
   "id": "dying-consequence",
   "metadata": {},
   "outputs": [],
   "source": []
  },
  {
   "cell_type": "code",
   "execution_count": null,
   "id": "biblical-passenger",
   "metadata": {},
   "outputs": [],
   "source": []
  },
  {
   "cell_type": "code",
   "execution_count": null,
   "id": "fancy-appreciation",
   "metadata": {},
   "outputs": [],
   "source": [
    "E_f = dfE.BIOMASS_Ec_iML1515_core_75p37M\n",
    "S_f = dfS.BIOMASS_iRR1083_metals"
   ]
  },
  {
   "cell_type": "code",
   "execution_count": null,
   "id": "together-therapist",
   "metadata": {},
   "outputs": [],
   "source": [
    "dfS = N2.loc['Normal', 'S0_ac_coculture_flux']\n"
   ]
  },
  {
   "cell_type": "code",
   "execution_count": null,
   "id": "guided-controversy",
   "metadata": {},
   "outputs": [],
   "source": [
    "# growth phase is when 2 start growing"
   ]
  },
  {
   "cell_type": "code",
   "execution_count": null,
   "id": "tender-animation",
   "metadata": {},
   "outputs": [],
   "source": []
  },
  {
   "cell_type": "code",
   "execution_count": null,
   "id": "executive-banking",
   "metadata": {},
   "outputs": [],
   "source": [
    "pd.concat([E_f, S_f], axis=1).plot()"
   ]
  },
  {
   "cell_type": "code",
   "execution_count": null,
   "id": "middle-rebound",
   "metadata": {},
   "outputs": [],
   "source": []
  },
  {
   "cell_type": "code",
   "execution_count": null,
   "id": "stupid-recommendation",
   "metadata": {},
   "outputs": [],
   "source": []
  },
  {
   "cell_type": "code",
   "execution_count": null,
   "id": "satellite-consideration",
   "metadata": {},
   "outputs": [],
   "source": []
  },
  {
   "cell_type": "code",
   "execution_count": null,
   "id": "located-rally",
   "metadata": {},
   "outputs": [],
   "source": []
  }
 ],
 "metadata": {
  "kernelspec": {
   "display_name": "vR",
   "language": "python",
   "name": "vr"
  },
  "language_info": {
   "codemirror_mode": {
    "name": "ipython",
    "version": 3
   },
   "file_extension": ".py",
   "mimetype": "text/x-python",
   "name": "python",
   "nbconvert_exporter": "python",
   "pygments_lexer": "ipython3",
   "version": "3.7.16"
  },
  "toc": {
   "base_numbering": 1,
   "nav_menu": {},
   "number_sections": true,
   "sideBar": true,
   "skip_h1_title": false,
   "title_cell": "Table of Contents",
   "title_sidebar": "Contents",
   "toc_cell": false,
   "toc_position": {
    "height": "calc(100% - 180px)",
    "left": "10px",
    "top": "150px",
    "width": "204.8px"
   },
   "toc_section_display": true,
   "toc_window_display": true
  },
  "varInspector": {
   "cols": {
    "lenName": 16,
    "lenType": 16,
    "lenVar": 40
   },
   "kernels_config": {
    "python": {
     "delete_cmd_postfix": "",
     "delete_cmd_prefix": "del ",
     "library": "var_list.py",
     "varRefreshCmd": "print(var_dic_list())"
    },
    "r": {
     "delete_cmd_postfix": ") ",
     "delete_cmd_prefix": "rm(",
     "library": "var_list.r",
     "varRefreshCmd": "cat(var_dic_list()) "
    }
   },
   "position": {
    "height": "498.844px",
    "left": "1550px",
    "right": "20px",
    "top": "120px",
    "width": "350px"
   },
   "types_to_exclude": [
    "module",
    "function",
    "builtin_function_or_method",
    "instance",
    "_Feature"
   ],
   "window_display": false
  }
 },
 "nbformat": 4,
 "nbformat_minor": 5
}

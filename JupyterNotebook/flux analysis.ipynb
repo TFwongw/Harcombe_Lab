{
 "cells": [
  {
   "cell_type": "code",
   "execution_count": 1,
   "id": "statutory-weight",
   "metadata": {},
   "outputs": [],
   "source": [
    "import pandas as pd\n",
    "import cobra\n",
    "# analysis_df = pd.read_json('./Data/flanalysis_BM_SG1.json').set_index('Gene_inhibition')\n",
    "# analysis_DG_df = pd.read_json('./Data/flanalysis_BM_DG1.json').set_index('Gene_inhibition')\n",
    "# E0 = cobra.io.read_sbml_model(\"./models/iML1515_E0.xml\")"
   ]
  },
  {
   "cell_type": "code",
   "execution_count": 2,
   "id": "threaded-arkansas",
   "metadata": {},
   "outputs": [],
   "source": [
    "Biomass_df = pd.read_csv('./Data/BM_SG1.csv').set_index('cycle')\n",
    "# Biomass_df"
   ]
  },
  {
   "cell_type": "code",
   "execution_count": 4,
   "id": "accurate-constant",
   "metadata": {},
   "outputs": [],
   "source": [
    "log_step=5\n",
    "def get_cycle_maxgr(df):\n",
    "    return df.iloc[-1]/2\n",
    "    \n",
    "def find_upneighbour(df):\n",
    "    values = get_cycle_maxgr(df)\n",
    "    position = list()\n",
    "    \n",
    "    def correct_cycle(cycle):\n",
    "        mod = cycle%log_step\n",
    "        return cycle if mod==0 else cycle+log_step-mod\n",
    "    \n",
    "    for i, value in enumerate(values):\n",
    "        df_search = df.iloc[:,i]\n",
    "        upperneighbour_ind = df_search[df_search >= value].idxmin()\n",
    "        position.append(upperneighbour_ind)\n",
    "        cycle = [df.index[pos] for pos in position]\n",
    "        cycle = [correct_cycle(cy) for cy in cycle]\n",
    "    return cycle\n",
    "\n",
    "desired_BM = Biomass_df.filter(regex=\"Normal_coculture\")\n",
    "desired_cycle = find_upneighbour(desired_BM)"
   ]
  },
  {
   "cell_type": "code",
   "execution_count": 125,
   "id": "de48ace1",
   "metadata": {},
   "outputs": [],
   "source": [
    "alpha_table = pd.read_csv('./Data/alpha_table.csv', index_col='Gene_inhibition')"
   ]
  },
  {
   "cell_type": "code",
   "execution_count": 6,
   "id": "5a77bafd",
   "metadata": {},
   "outputs": [],
   "source": [
    "genes = 'folA'"
   ]
  },
  {
   "cell_type": "code",
   "execution_count": 7,
   "id": "b5b513db",
   "metadata": {},
   "outputs": [],
   "source": [
    "def get_gene_id(model, gene_name):\n",
    "    for i in model.genes:\n",
    "        if(i.name == gene_name):\n",
    "            return(i.id)\n",
    "\n",
    "def convert_arg_to_list(arg):\n",
    "    if type(arg) is not list and type(arg) is not tuple:\n",
    "        arg = [arg]\n",
    "    return(arg)"
   ]
  },
  {
   "cell_type": "code",
   "execution_count": 8,
   "id": "f7f049df",
   "metadata": {},
   "outputs": [],
   "source": [
    "# query alpha, combine back ~\n",
    "\"\"\"\n",
    "add S0\n",
    "!! 2 genes coding for same reaciton not yet included\n",
    "? only need sort by alpha?\n",
    "? query alpha table  -> list of alphas\n",
    "\"\"\"\n",
    "\n",
    "def adjust_flux_df(df):\n",
    "    if genes != 'Normal':\n",
    "        v1_cols = df.filter(regex='v1').columns\n",
    "        for gene in convert_arg_to_list(genes):\n",
    "            rcts = list()\n",
    "            for rct in E0.genes.get_by_id(get_gene_id(E0, genes)).reactions:\n",
    "                rcts.append(rct.id)\n",
    "\n",
    "            for v1_col in (set(v1_cols) and set(rcts)): # associated with gene/ find from gene\n",
    "                original_col = v1_col.replace(\"_v1\", '')\n",
    "                df[f'{original_col}'] = df[f'{original_col}'] + df[f'{v1_col}']/alpha_table.loc[f'{gene}', 'E0']\n",
    "                df.drop(v1_col)\n",
    "                v1_cols.drop(f'{v1_col}')\n",
    "    return None"
   ]
  },
  {
   "cell_type": "code",
   "execution_count": 62,
   "id": "ignored-mystery",
   "metadata": {},
   "outputs": [],
   "source": [
    "def remove_Zero_col(df): # extend N differ than 0 \n",
    "    return(df.loc[:, (df !=0).any(axis=0)]) \n",
    "\n",
    "def adjust_flux_df(df, genes):\n",
    "    if genes != 'Normal':\n",
    "        v1_cols = df.filter(regex='v1').columns\n",
    "        orig_cols = [ele.replace(\"_v1\", '') for ele in df.filter(regex='v1').columns]\n",
    "        for gene in convert_arg_to_list(genes):\n",
    "            rcts = list()\n",
    "            for rct in E0.genes.get_by_id(get_gene_id(E0, genes)).reactions:\n",
    "                rcts.append(rct.id)\n",
    "\n",
    "            for original_col in (set(orig_cols) & set(rcts)): # associated with gene/ find from gene\n",
    "                v1_col = original_col + \"_v1\"\n",
    "                df[f'{original_col}'] = df[f'{original_col}'] + df[f'{v1_col}']/alpha_table.loc[f'{gene}', 'E0']\n",
    "                df = df.drop(f'{v1_col}', axis=1)\n",
    "                v1_cols.drop(f'{v1_col}')\n",
    "#     print(df.filter(regex='v1').columns)\n",
    "    return df\n",
    "\n",
    "def get_desired_BM(Biomass_df = Biomass_df, regex='Normal_coculture'):\n",
    "    return Biomass_df.filter(regex=regex)\n",
    "\n",
    "def get_row_grmax(desired_BM, genes='Normal'): # currently only E0\n",
    "    desired_cycle = find_upneighbour(desired_BM)\n",
    "    dfE = analysis_df.loc[genes, 'E0_coculture_flux']\n",
    "#     dfE = remove_Zero_col(pd.read_json(dfE). # no use \n",
    "    dfE = (pd.read_json(dfE). \n",
    "           query(\"cycle in @desired_cycle\").\n",
    "           drop(['x','y','cycle'], axis=1))\n",
    "    dfE.index = [genes]\n",
    "    \n",
    "    return dfE\n",
    "\n",
    "def get_genes_compare(gene_list, Biomass_df, regex): # generate every gene-> subset\n",
    "    desired_BM = get_desired_BM(Biomass_df, regex=regex)\n",
    "    compare_list = list()\n",
    "    for genes in gene_list:\n",
    "\n",
    "        temp_df = get_row_grmax(desired_BM, genes=genes) # for flux only\n",
    "        \"\"\"\n",
    "        If ~ == flux/ not metabo\n",
    "        \"\"\"    \n",
    "        temp_df = adjust_flux_df(temp_df, genes)\n",
    "        compare_list.append(temp_df)\n",
    "        \n",
    "    compare_df = (remove_Zero_col(pd.concat(compare_list)).T. # row to column\n",
    "                  sort_values(by='Normal', key=abs, ascending=False)) # with 0 cell\n",
    "    \n",
    "#     compare_df = (pd.concat([\n",
    "#         get_row_grmax(desired_BM, genes=genes) for genes in gene_list]).\n",
    "#                   T. # row to column\n",
    "#                   sort_values(by='Normal', key=abs, ascending=False)) # with 0 cell\n",
    "    return compare_df\n",
    "# Independent Extra sorted??? \n",
    "# order by flux ordering in Esher\n",
    "\n",
    "\n",
    "compare_df = get_genes_compare(['folA', 'folP','Normal'], Biomass_df, 'Normal_coculture')"
   ]
  },
  {
   "cell_type": "code",
   "execution_count": 67,
   "id": "55644918",
   "metadata": {},
   "outputs": [],
   "source": [
    "# compare_df = compare_df.rename_axis('Reactions').reset_index()\n",
    "def get_abs_df(df):\n",
    "    return (pd.DataFrame({colname: abs(col) for colname, col in df.items()}).\n",
    "                  rename_axis('Reactions').\n",
    "                  reset_index())\n",
    "\n",
    "\n",
    "compare_abs_df = get_abs_df(compare_df)"
   ]
  },
  {
   "cell_type": "code",
   "execution_count": 64,
   "id": "9901bb64",
   "metadata": {},
   "outputs": [],
   "source": [
    "# create base layer for Normal \n",
    "Normal_df = compare_abs_df[['Normal', 'Reactions']]"
   ]
  },
  {
   "cell_type": "code",
   "execution_count": 65,
   "id": "90b78f72",
   "metadata": {},
   "outputs": [],
   "source": [
    "compare_df_long = compare_df.drop('Normal', axis=1).melt(ignore_index=False, \n",
    "                             var_name='Genes')"
   ]
  },
  {
   "cell_type": "code",
   "execution_count": 66,
   "id": "24991bdc",
   "metadata": {},
   "outputs": [
    {
     "data": {
      "text/html": [
       "<div>\n",
       "<style scoped>\n",
       "    .dataframe tbody tr th:only-of-type {\n",
       "        vertical-align: middle;\n",
       "    }\n",
       "\n",
       "    .dataframe tbody tr th {\n",
       "        vertical-align: top;\n",
       "    }\n",
       "\n",
       "    .dataframe thead th {\n",
       "        text-align: right;\n",
       "    }\n",
       "</style>\n",
       "<table border=\"1\" class=\"dataframe\">\n",
       "  <thead>\n",
       "    <tr style=\"text-align: right;\">\n",
       "      <th></th>\n",
       "      <th>Genes</th>\n",
       "      <th>value</th>\n",
       "    </tr>\n",
       "  </thead>\n",
       "  <tbody>\n",
       "    <tr>\n",
       "      <th>ATPS4rpp</th>\n",
       "      <td>folA</td>\n",
       "      <td>7.488875e+00</td>\n",
       "    </tr>\n",
       "    <tr>\n",
       "      <th>CYTBO3_4pp</th>\n",
       "      <td>folA</td>\n",
       "      <td>4.687602e+00</td>\n",
       "    </tr>\n",
       "    <tr>\n",
       "      <th>NADH16pp</th>\n",
       "      <td>folA</td>\n",
       "      <td>3.929040e+00</td>\n",
       "    </tr>\n",
       "    <tr>\n",
       "      <th>H2Otpp</th>\n",
       "      <td>folA</td>\n",
       "      <td>-3.251874e+00</td>\n",
       "    </tr>\n",
       "    <tr>\n",
       "      <th>EX_h2o_e</th>\n",
       "      <td>folA</td>\n",
       "      <td>2.940251e+00</td>\n",
       "    </tr>\n",
       "    <tr>\n",
       "      <th>...</th>\n",
       "      <td>...</td>\n",
       "      <td>...</td>\n",
       "    </tr>\n",
       "    <tr>\n",
       "      <th>NADTRHD</th>\n",
       "      <td>folP</td>\n",
       "      <td>5.838282e-01</td>\n",
       "    </tr>\n",
       "    <tr>\n",
       "      <th>RPE</th>\n",
       "      <td>folP</td>\n",
       "      <td>-5.589000e-07</td>\n",
       "    </tr>\n",
       "    <tr>\n",
       "      <th>GLYCLTt4pp</th>\n",
       "      <td>folP</td>\n",
       "      <td>0.000000e+00</td>\n",
       "    </tr>\n",
       "    <tr>\n",
       "      <th>ASPO3</th>\n",
       "      <td>folP</td>\n",
       "      <td>0.000000e+00</td>\n",
       "    </tr>\n",
       "    <tr>\n",
       "      <th>GLYCL</th>\n",
       "      <td>folP</td>\n",
       "      <td>2.403000e-07</td>\n",
       "    </tr>\n",
       "  </tbody>\n",
       "</table>\n",
       "<p>870 rows × 2 columns</p>\n",
       "</div>"
      ],
      "text/plain": [
       "           Genes         value\n",
       "ATPS4rpp    folA  7.488875e+00\n",
       "CYTBO3_4pp  folA  4.687602e+00\n",
       "NADH16pp    folA  3.929040e+00\n",
       "H2Otpp      folA -3.251874e+00\n",
       "EX_h2o_e    folA  2.940251e+00\n",
       "...          ...           ...\n",
       "NADTRHD     folP  5.838282e-01\n",
       "RPE         folP -5.589000e-07\n",
       "GLYCLTt4pp  folP  0.000000e+00\n",
       "ASPO3       folP  0.000000e+00\n",
       "GLYCL       folP  2.403000e-07\n",
       "\n",
       "[870 rows x 2 columns]"
      ]
     },
     "execution_count": 66,
     "metadata": {},
     "output_type": "execute_result"
    }
   ],
   "source": [
    "compare_df_long"
   ]
  },
  {
   "cell_type": "code",
   "execution_count": null,
   "id": "4d090682",
   "metadata": {},
   "outputs": [],
   "source": [
    "key = ('dadX.rffG',\n",
    "'dadX.pyrD',\n",
    "'dadX.guaB')\n",
    "v = "
   ]
  },
  {
   "cell_type": "code",
   "execution_count": null,
   "id": "644a5b91",
   "metadata": {},
   "outputs": [],
   "source": []
  },
  {
   "cell_type": "code",
   "execution_count": 165,
   "id": "05f812a0",
   "metadata": {},
   "outputs": [
    {
     "data": {
      "text/html": [
       "<div>\n",
       "<style scoped>\n",
       "    .dataframe tbody tr th:only-of-type {\n",
       "        vertical-align: middle;\n",
       "    }\n",
       "\n",
       "    .dataframe tbody tr th {\n",
       "        vertical-align: top;\n",
       "    }\n",
       "\n",
       "    .dataframe thead th {\n",
       "        text-align: right;\n",
       "    }\n",
       "</style>\n",
       "<table border=\"1\" class=\"dataframe\">\n",
       "  <thead>\n",
       "    <tr style=\"text-align: right;\">\n",
       "      <th></th>\n",
       "      <th>coculture_media</th>\n",
       "      <th>E0_coculture_flux</th>\n",
       "      <th>S0_ac_coculture_flux</th>\n",
       "      <th>E0_monoculture_media</th>\n",
       "      <th>E0_monoculture_flux</th>\n",
       "      <th>S0_ac_monoculture_media</th>\n",
       "      <th>S0_ac_monoculture_flux</th>\n",
       "    </tr>\n",
       "    <tr>\n",
       "      <th>Gene_inhibition</th>\n",
       "      <th></th>\n",
       "      <th></th>\n",
       "      <th></th>\n",
       "      <th></th>\n",
       "      <th></th>\n",
       "      <th></th>\n",
       "      <th></th>\n",
       "    </tr>\n",
       "  </thead>\n",
       "  <tbody>\n",
       "    <tr>\n",
       "      <th>dadX.aroA</th>\n",
       "      <td>{\"metabolite\":{\"0\":\"ca2_e\",\"1\":\"cl_e\",\"2\":\"cob...</td>\n",
       "      <td>{\"cycle\":{\"0\":5,\"2\":10,\"4\":15,\"6\":20,\"8\":25,\"1...</td>\n",
       "      <td>{\"cycle\":{\"1\":5,\"3\":10,\"5\":15,\"7\":20,\"9\":25,\"1...</td>\n",
       "      <td>{\"metabolite\":{\"0\":\"ca2_e\",\"1\":\"cl_e\",\"2\":\"cob...</td>\n",
       "      <td>{\"cycle\":{\"0\":5,\"1\":10,\"2\":15,\"3\":20,\"4\":25,\"5...</td>\n",
       "      <td>{\"metabolite\":{\"0\":\"ac_e\",\"1\":\"ca2_e\",\"2\":\"cl_...</td>\n",
       "      <td>{\"cycle\":{\"0\":5,\"1\":10,\"2\":15,\"3\":20,\"4\":25,\"5...</td>\n",
       "    </tr>\n",
       "    <tr>\n",
       "      <th>dadX.eno</th>\n",
       "      <td>{\"metabolite\":{\"0\":\"ca2_e\",\"1\":\"cl_e\",\"2\":\"cob...</td>\n",
       "      <td>{\"cycle\":{\"0\":5,\"2\":10,\"4\":15,\"6\":20,\"8\":25,\"1...</td>\n",
       "      <td>{\"cycle\":{\"1\":5,\"3\":10,\"5\":15,\"7\":20,\"9\":25,\"1...</td>\n",
       "      <td>{\"metabolite\":{\"0\":\"ca2_e\",\"1\":\"cl_e\",\"2\":\"cob...</td>\n",
       "      <td>{\"cycle\":{\"0\":5,\"1\":10,\"2\":15,\"3\":20,\"4\":25,\"5...</td>\n",
       "      <td>{\"metabolite\":{\"0\":\"ac_e\",\"1\":\"ca2_e\",\"2\":\"cl_...</td>\n",
       "      <td>{\"cycle\":{\"0\":5,\"1\":10,\"2\":15,\"3\":20,\"4\":25,\"5...</td>\n",
       "    </tr>\n",
       "    <tr>\n",
       "      <th>dadX.pheA</th>\n",
       "      <td>{\"metabolite\":{\"0\":\"ca2_e\",\"1\":\"cl_e\",\"2\":\"cob...</td>\n",
       "      <td>{\"cycle\":{\"0\":5,\"2\":10,\"4\":15,\"6\":20,\"8\":25,\"1...</td>\n",
       "      <td>{\"cycle\":{\"1\":5,\"3\":10,\"5\":15,\"7\":20,\"9\":25,\"1...</td>\n",
       "      <td>{\"metabolite\":{\"0\":\"ca2_e\",\"1\":\"cl_e\",\"2\":\"cob...</td>\n",
       "      <td>{\"cycle\":{\"0\":5,\"1\":10,\"2\":15,\"3\":20,\"4\":25,\"5...</td>\n",
       "      <td>{\"metabolite\":{\"0\":\"ac_e\",\"1\":\"ca2_e\",\"2\":\"cl_...</td>\n",
       "      <td>{\"cycle\":{\"0\":5,\"1\":10,\"2\":15,\"3\":20,\"4\":25,\"5...</td>\n",
       "    </tr>\n",
       "    <tr>\n",
       "      <th>dadX.acnB</th>\n",
       "      <td>{\"metabolite\":{\"0\":\"ca2_e\",\"1\":\"cl_e\",\"2\":\"cob...</td>\n",
       "      <td>{\"cycle\":{\"0\":5,\"2\":10,\"4\":15,\"6\":20,\"8\":25,\"1...</td>\n",
       "      <td>{\"cycle\":{\"1\":5,\"3\":10,\"5\":15,\"7\":20,\"9\":25,\"1...</td>\n",
       "      <td>{\"metabolite\":{\"0\":\"ca2_e\",\"1\":\"cl_e\",\"2\":\"cob...</td>\n",
       "      <td>{\"cycle\":{\"0\":5,\"1\":10,\"2\":15,\"3\":20,\"4\":25,\"5...</td>\n",
       "      <td>{\"metabolite\":{\"0\":\"ac_e\",\"1\":\"ca2_e\",\"2\":\"cl_...</td>\n",
       "      <td>{\"cycle\":{\"0\":5,\"1\":10,\"2\":15,\"3\":20,\"4\":25,\"5...</td>\n",
       "    </tr>\n",
       "    <tr>\n",
       "      <th>aroA.dapF</th>\n",
       "      <td>{\"metabolite\":{\"0\":\"ca2_e\",\"1\":\"cl_e\",\"2\":\"cob...</td>\n",
       "      <td>{\"cycle\":{\"0\":5,\"2\":10,\"4\":15,\"6\":20,\"8\":25,\"1...</td>\n",
       "      <td>{\"cycle\":{\"1\":5,\"3\":10,\"5\":15,\"7\":20,\"9\":25,\"1...</td>\n",
       "      <td>{\"metabolite\":{\"0\":\"ca2_e\",\"1\":\"cl_e\",\"2\":\"cob...</td>\n",
       "      <td>{\"cycle\":{\"0\":5,\"1\":10,\"2\":15,\"3\":20,\"4\":25,\"5...</td>\n",
       "      <td>{\"metabolite\":{\"0\":\"ac_e\",\"1\":\"ca2_e\",\"2\":\"cl_...</td>\n",
       "      <td>{\"cycle\":{\"0\":5,\"1\":10,\"2\":15,\"3\":20,\"4\":25,\"5...</td>\n",
       "    </tr>\n",
       "  </tbody>\n",
       "</table>\n",
       "</div>"
      ],
      "text/plain": [
       "                                                   coculture_media  \\\n",
       "Gene_inhibition                                                      \n",
       "dadX.aroA        {\"metabolite\":{\"0\":\"ca2_e\",\"1\":\"cl_e\",\"2\":\"cob...   \n",
       "dadX.eno         {\"metabolite\":{\"0\":\"ca2_e\",\"1\":\"cl_e\",\"2\":\"cob...   \n",
       "dadX.pheA        {\"metabolite\":{\"0\":\"ca2_e\",\"1\":\"cl_e\",\"2\":\"cob...   \n",
       "dadX.acnB        {\"metabolite\":{\"0\":\"ca2_e\",\"1\":\"cl_e\",\"2\":\"cob...   \n",
       "aroA.dapF        {\"metabolite\":{\"0\":\"ca2_e\",\"1\":\"cl_e\",\"2\":\"cob...   \n",
       "\n",
       "                                                 E0_coculture_flux  \\\n",
       "Gene_inhibition                                                      \n",
       "dadX.aroA        {\"cycle\":{\"0\":5,\"2\":10,\"4\":15,\"6\":20,\"8\":25,\"1...   \n",
       "dadX.eno         {\"cycle\":{\"0\":5,\"2\":10,\"4\":15,\"6\":20,\"8\":25,\"1...   \n",
       "dadX.pheA        {\"cycle\":{\"0\":5,\"2\":10,\"4\":15,\"6\":20,\"8\":25,\"1...   \n",
       "dadX.acnB        {\"cycle\":{\"0\":5,\"2\":10,\"4\":15,\"6\":20,\"8\":25,\"1...   \n",
       "aroA.dapF        {\"cycle\":{\"0\":5,\"2\":10,\"4\":15,\"6\":20,\"8\":25,\"1...   \n",
       "\n",
       "                                              S0_ac_coculture_flux  \\\n",
       "Gene_inhibition                                                      \n",
       "dadX.aroA        {\"cycle\":{\"1\":5,\"3\":10,\"5\":15,\"7\":20,\"9\":25,\"1...   \n",
       "dadX.eno         {\"cycle\":{\"1\":5,\"3\":10,\"5\":15,\"7\":20,\"9\":25,\"1...   \n",
       "dadX.pheA        {\"cycle\":{\"1\":5,\"3\":10,\"5\":15,\"7\":20,\"9\":25,\"1...   \n",
       "dadX.acnB        {\"cycle\":{\"1\":5,\"3\":10,\"5\":15,\"7\":20,\"9\":25,\"1...   \n",
       "aroA.dapF        {\"cycle\":{\"1\":5,\"3\":10,\"5\":15,\"7\":20,\"9\":25,\"1...   \n",
       "\n",
       "                                              E0_monoculture_media  \\\n",
       "Gene_inhibition                                                      \n",
       "dadX.aroA        {\"metabolite\":{\"0\":\"ca2_e\",\"1\":\"cl_e\",\"2\":\"cob...   \n",
       "dadX.eno         {\"metabolite\":{\"0\":\"ca2_e\",\"1\":\"cl_e\",\"2\":\"cob...   \n",
       "dadX.pheA        {\"metabolite\":{\"0\":\"ca2_e\",\"1\":\"cl_e\",\"2\":\"cob...   \n",
       "dadX.acnB        {\"metabolite\":{\"0\":\"ca2_e\",\"1\":\"cl_e\",\"2\":\"cob...   \n",
       "aroA.dapF        {\"metabolite\":{\"0\":\"ca2_e\",\"1\":\"cl_e\",\"2\":\"cob...   \n",
       "\n",
       "                                               E0_monoculture_flux  \\\n",
       "Gene_inhibition                                                      \n",
       "dadX.aroA        {\"cycle\":{\"0\":5,\"1\":10,\"2\":15,\"3\":20,\"4\":25,\"5...   \n",
       "dadX.eno         {\"cycle\":{\"0\":5,\"1\":10,\"2\":15,\"3\":20,\"4\":25,\"5...   \n",
       "dadX.pheA        {\"cycle\":{\"0\":5,\"1\":10,\"2\":15,\"3\":20,\"4\":25,\"5...   \n",
       "dadX.acnB        {\"cycle\":{\"0\":5,\"1\":10,\"2\":15,\"3\":20,\"4\":25,\"5...   \n",
       "aroA.dapF        {\"cycle\":{\"0\":5,\"1\":10,\"2\":15,\"3\":20,\"4\":25,\"5...   \n",
       "\n",
       "                                           S0_ac_monoculture_media  \\\n",
       "Gene_inhibition                                                      \n",
       "dadX.aroA        {\"metabolite\":{\"0\":\"ac_e\",\"1\":\"ca2_e\",\"2\":\"cl_...   \n",
       "dadX.eno         {\"metabolite\":{\"0\":\"ac_e\",\"1\":\"ca2_e\",\"2\":\"cl_...   \n",
       "dadX.pheA        {\"metabolite\":{\"0\":\"ac_e\",\"1\":\"ca2_e\",\"2\":\"cl_...   \n",
       "dadX.acnB        {\"metabolite\":{\"0\":\"ac_e\",\"1\":\"ca2_e\",\"2\":\"cl_...   \n",
       "aroA.dapF        {\"metabolite\":{\"0\":\"ac_e\",\"1\":\"ca2_e\",\"2\":\"cl_...   \n",
       "\n",
       "                                            S0_ac_monoculture_flux  \n",
       "Gene_inhibition                                                     \n",
       "dadX.aroA        {\"cycle\":{\"0\":5,\"1\":10,\"2\":15,\"3\":20,\"4\":25,\"5...  \n",
       "dadX.eno         {\"cycle\":{\"0\":5,\"1\":10,\"2\":15,\"3\":20,\"4\":25,\"5...  \n",
       "dadX.pheA        {\"cycle\":{\"0\":5,\"1\":10,\"2\":15,\"3\":20,\"4\":25,\"5...  \n",
       "dadX.acnB        {\"cycle\":{\"0\":5,\"1\":10,\"2\":15,\"3\":20,\"4\":25,\"5...  \n",
       "aroA.dapF        {\"cycle\":{\"0\":5,\"1\":10,\"2\":15,\"3\":20,\"4\":25,\"5...  "
      ]
     },
     "execution_count": 165,
     "metadata": {},
     "output_type": "execute_result"
    }
   ],
   "source": [
    "analysis_df.head()"
   ]
  },
  {
   "cell_type": "code",
   "execution_count": null,
   "id": "a1278e00",
   "metadata": {},
   "outputs": [],
   "source": [
    "json.loads('./Data/Ori_DG.json',object_pairs_hook=pairs)  \n"
   ]
  },
  {
   "cell_type": "code",
   "execution_count": 166,
   "id": "234886f0",
   "metadata": {},
   "outputs": [
    {
     "ename": "TypeError",
     "evalue": "'str' object is not callable",
     "output_type": "error",
     "traceback": [
      "\u001b[1;31m---------------------------------------------------------------------------\u001b[0m",
      "\u001b[1;31mTypeError\u001b[0m                                 Traceback (most recent call last)",
      "\u001b[1;32mD:\\Temp\\ipykernel_7720\\3164685002.py\u001b[0m in \u001b[0;36m<module>\u001b[1;34m\u001b[0m\n\u001b[0;32m      1\u001b[0m \u001b[0mdata\u001b[0m \u001b[1;33m=\u001b[0m \u001b[1;34m'{\"foo\": \"bar\", \"foo\": \"baz\"}'\u001b[0m\u001b[1;33m\u001b[0m\u001b[1;33m\u001b[0m\u001b[0m\n\u001b[1;32m----> 2\u001b[1;33m \u001b[0mjson\u001b[0m\u001b[1;33m.\u001b[0m\u001b[0mloads\u001b[0m\u001b[1;33m(\u001b[0m\u001b[0mdata\u001b[0m\u001b[1;33m,\u001b[0m \u001b[0mobject_hook\u001b[0m\u001b[1;33m=\u001b[0m\u001b[1;34m'foo'\u001b[0m\u001b[1;33m)\u001b[0m\u001b[1;33m\u001b[0m\u001b[1;33m\u001b[0m\u001b[0m\n\u001b[0m",
      "\u001b[1;32mD:\\anaconda3\\envs\\vr\\lib\\json\\__init__.py\u001b[0m in \u001b[0;36mloads\u001b[1;34m(s, encoding, cls, object_hook, parse_float, parse_int, parse_constant, object_pairs_hook, **kw)\u001b[0m\n\u001b[0;32m    359\u001b[0m     \u001b[1;32mif\u001b[0m \u001b[0mparse_constant\u001b[0m \u001b[1;32mis\u001b[0m \u001b[1;32mnot\u001b[0m \u001b[1;32mNone\u001b[0m\u001b[1;33m:\u001b[0m\u001b[1;33m\u001b[0m\u001b[1;33m\u001b[0m\u001b[0m\n\u001b[0;32m    360\u001b[0m         \u001b[0mkw\u001b[0m\u001b[1;33m[\u001b[0m\u001b[1;34m'parse_constant'\u001b[0m\u001b[1;33m]\u001b[0m \u001b[1;33m=\u001b[0m \u001b[0mparse_constant\u001b[0m\u001b[1;33m\u001b[0m\u001b[1;33m\u001b[0m\u001b[0m\n\u001b[1;32m--> 361\u001b[1;33m     \u001b[1;32mreturn\u001b[0m \u001b[0mcls\u001b[0m\u001b[1;33m(\u001b[0m\u001b[1;33m**\u001b[0m\u001b[0mkw\u001b[0m\u001b[1;33m)\u001b[0m\u001b[1;33m.\u001b[0m\u001b[0mdecode\u001b[0m\u001b[1;33m(\u001b[0m\u001b[0ms\u001b[0m\u001b[1;33m)\u001b[0m\u001b[1;33m\u001b[0m\u001b[1;33m\u001b[0m\u001b[0m\n\u001b[0m",
      "\u001b[1;32mD:\\anaconda3\\envs\\vr\\lib\\json\\decoder.py\u001b[0m in \u001b[0;36mdecode\u001b[1;34m(self, s, _w)\u001b[0m\n\u001b[0;32m    335\u001b[0m \u001b[1;33m\u001b[0m\u001b[0m\n\u001b[0;32m    336\u001b[0m         \"\"\"\n\u001b[1;32m--> 337\u001b[1;33m         \u001b[0mobj\u001b[0m\u001b[1;33m,\u001b[0m \u001b[0mend\u001b[0m \u001b[1;33m=\u001b[0m \u001b[0mself\u001b[0m\u001b[1;33m.\u001b[0m\u001b[0mraw_decode\u001b[0m\u001b[1;33m(\u001b[0m\u001b[0ms\u001b[0m\u001b[1;33m,\u001b[0m \u001b[0midx\u001b[0m\u001b[1;33m=\u001b[0m\u001b[0m_w\u001b[0m\u001b[1;33m(\u001b[0m\u001b[0ms\u001b[0m\u001b[1;33m,\u001b[0m \u001b[1;36m0\u001b[0m\u001b[1;33m)\u001b[0m\u001b[1;33m.\u001b[0m\u001b[0mend\u001b[0m\u001b[1;33m(\u001b[0m\u001b[1;33m)\u001b[0m\u001b[1;33m)\u001b[0m\u001b[1;33m\u001b[0m\u001b[1;33m\u001b[0m\u001b[0m\n\u001b[0m\u001b[0;32m    338\u001b[0m         \u001b[0mend\u001b[0m \u001b[1;33m=\u001b[0m \u001b[0m_w\u001b[0m\u001b[1;33m(\u001b[0m\u001b[0ms\u001b[0m\u001b[1;33m,\u001b[0m \u001b[0mend\u001b[0m\u001b[1;33m)\u001b[0m\u001b[1;33m.\u001b[0m\u001b[0mend\u001b[0m\u001b[1;33m(\u001b[0m\u001b[1;33m)\u001b[0m\u001b[1;33m\u001b[0m\u001b[1;33m\u001b[0m\u001b[0m\n\u001b[0;32m    339\u001b[0m         \u001b[1;32mif\u001b[0m \u001b[0mend\u001b[0m \u001b[1;33m!=\u001b[0m \u001b[0mlen\u001b[0m\u001b[1;33m(\u001b[0m\u001b[0ms\u001b[0m\u001b[1;33m)\u001b[0m\u001b[1;33m:\u001b[0m\u001b[1;33m\u001b[0m\u001b[1;33m\u001b[0m\u001b[0m\n",
      "\u001b[1;32mD:\\anaconda3\\envs\\vr\\lib\\json\\decoder.py\u001b[0m in \u001b[0;36mraw_decode\u001b[1;34m(self, s, idx)\u001b[0m\n\u001b[0;32m    351\u001b[0m         \"\"\"\n\u001b[0;32m    352\u001b[0m         \u001b[1;32mtry\u001b[0m\u001b[1;33m:\u001b[0m\u001b[1;33m\u001b[0m\u001b[1;33m\u001b[0m\u001b[0m\n\u001b[1;32m--> 353\u001b[1;33m             \u001b[0mobj\u001b[0m\u001b[1;33m,\u001b[0m \u001b[0mend\u001b[0m \u001b[1;33m=\u001b[0m \u001b[0mself\u001b[0m\u001b[1;33m.\u001b[0m\u001b[0mscan_once\u001b[0m\u001b[1;33m(\u001b[0m\u001b[0ms\u001b[0m\u001b[1;33m,\u001b[0m \u001b[0midx\u001b[0m\u001b[1;33m)\u001b[0m\u001b[1;33m\u001b[0m\u001b[1;33m\u001b[0m\u001b[0m\n\u001b[0m\u001b[0;32m    354\u001b[0m         \u001b[1;32mexcept\u001b[0m \u001b[0mStopIteration\u001b[0m \u001b[1;32mas\u001b[0m \u001b[0merr\u001b[0m\u001b[1;33m:\u001b[0m\u001b[1;33m\u001b[0m\u001b[1;33m\u001b[0m\u001b[0m\n\u001b[0;32m    355\u001b[0m             \u001b[1;32mraise\u001b[0m \u001b[0mJSONDecodeError\u001b[0m\u001b[1;33m(\u001b[0m\u001b[1;34m\"Expecting value\"\u001b[0m\u001b[1;33m,\u001b[0m \u001b[0ms\u001b[0m\u001b[1;33m,\u001b[0m \u001b[0merr\u001b[0m\u001b[1;33m.\u001b[0m\u001b[0mvalue\u001b[0m\u001b[1;33m)\u001b[0m \u001b[1;32mfrom\u001b[0m \u001b[1;32mNone\u001b[0m\u001b[1;33m\u001b[0m\u001b[1;33m\u001b[0m\u001b[0m\n",
      "\u001b[1;31mTypeError\u001b[0m: 'str' object is not callable"
     ]
    }
   ],
   "source": [
    "data = '{\"foo\": \"bar\", \"foo\": \"baz\"}'\n",
    "json.loads(data, object_hook=)"
   ]
  },
  {
   "cell_type": "code",
   "execution_count": 176,
   "id": "2367c6e0",
   "metadata": {},
   "outputs": [],
   "source": [
    "j='''{ \"hosts\":  {\n",
    "             \"example1.lab.com\" : [\"mysql\", \"apache\"],\n",
    "             \"example2.lab.com\" : [\"sqlite\", \"nmap\"],\n",
    "             \"example3.lab.com\" : [\"vim\", \"bind9\"]\n",
    "             }\n",
    "}'''\n",
    "specific_keys='example2'\n",
    "\n",
    "specific_keys='example2'\n",
    "\n",
    "found=False\n",
    "\n",
    "def explore_js(js_object, index_keys, col_key): # index key-drug inhibition & col_key-culture column\n",
    "    found_list=dict()\n",
    "    specific_keys = index_keys if index_keys is not None else col_key # find this key\n",
    "    for key,di in json.loads(js_object).items():    # items on Py 3k\n",
    "        for k,v in di.items():\n",
    "#             if k.startswith(index_keys):\n",
    "            if k in specific_keys:\n",
    "                # unpack to dataframe-> for outer layer\n",
    "\n",
    "                found_list.update({k : explore_js(v, None, col_key)}) # search for col value\n",
    "                specific_keys.drop(k)\n",
    "                \n",
    "                if not specific_keys:\n",
    "                    found=True\n",
    "                    break\n",
    "        if found:\n",
    "            break \n",
    "    \n",
    "    return found_list # base case"
   ]
  },
  {
   "cell_type": "code",
   "execution_count": null,
   "id": "b22c3c6e",
   "metadata": {},
   "outputs": [],
   "source": []
  },
  {
   "cell_type": "code",
   "execution_count": 180,
   "id": "79110aa3",
   "metadata": {},
   "outputs": [],
   "source": [
    "\n",
    "def explore_js(js_object, index_keys, col_key): # index key-drug inhibition & col_key-culture column\n",
    "    found_dict=dict()\n",
    "    for key,di in json.loads(js_object).items():    # items on Py 3k\n",
    "        if key in index_keys:\n",
    "            for k,v in di.items():\n",
    "    #             if k.startswith(index_keys):\n",
    "                if k in col_key:\n",
    "                    # unpack to dataframe-> for outer layer\n",
    "\n",
    "                    found_dict.update({key: {k : v}}) # search for col value\n",
    "                    col_key.drop(k)\n",
    "\n",
    "                    if not col_key: \n",
    "                        break\n",
    "        if not index_keys:\n",
    "            break \n",
    "    \n",
    "    return found_dict # base case"
   ]
  },
  {
   "cell_type": "code",
   "execution_count": null,
   "id": "26e6c133",
   "metadata": {},
   "outputs": [],
   "source": []
  },
  {
   "cell_type": "code",
   "execution_count": 178,
   "id": "236449e5",
   "metadata": {},
   "outputs": [],
   "source": [
    "index_keys=['dadX.rffG']\n",
    "col_key = 'E0_coculture_flux'"
   ]
  },
  {
   "cell_type": "code",
   "execution_count": 188,
   "id": "6f76ea0f",
   "metadata": {},
   "outputs": [],
   "source": [
    "with open('./Data/Ori_DG.json') as json_data:\n",
    "    for line in json_data:\n",
    "        json.loads(line)\n",
    "#         print(key)"
   ]
  },
  {
   "cell_type": "code",
   "execution_count": 204,
   "id": "a7579d52",
   "metadata": {},
   "outputs": [
    {
     "data": {
      "text/html": [
       "<div>\n",
       "<style scoped>\n",
       "    .dataframe tbody tr th:only-of-type {\n",
       "        vertical-align: middle;\n",
       "    }\n",
       "\n",
       "    .dataframe tbody tr th {\n",
       "        vertical-align: top;\n",
       "    }\n",
       "\n",
       "    .dataframe thead th {\n",
       "        text-align: right;\n",
       "    }\n",
       "</style>\n",
       "<table border=\"1\" class=\"dataframe\">\n",
       "  <thead>\n",
       "    <tr style=\"text-align: right;\">\n",
       "      <th></th>\n",
       "      <th>hosts</th>\n",
       "    </tr>\n",
       "  </thead>\n",
       "  <tbody>\n",
       "    <tr>\n",
       "      <th>example1.lab.com</th>\n",
       "      <td>[mysql, apache]</td>\n",
       "    </tr>\n",
       "    <tr>\n",
       "      <th>example2.lab.com</th>\n",
       "      <td>[sqlite, nmap]</td>\n",
       "    </tr>\n",
       "    <tr>\n",
       "      <th>example3.lab.com</th>\n",
       "      <td>[vim, bind9]</td>\n",
       "    </tr>\n",
       "  </tbody>\n",
       "</table>\n",
       "</div>"
      ],
      "text/plain": [
       "                            hosts\n",
       "example1.lab.com  [mysql, apache]\n",
       "example2.lab.com   [sqlite, nmap]\n",
       "example3.lab.com     [vim, bind9]"
      ]
     },
     "execution_count": 204,
     "metadata": {},
     "output_type": "execute_result"
    }
   ],
   "source": [
    "pd.read_json(j)"
   ]
  },
  {
   "cell_type": "code",
   "execution_count": 231,
   "id": "7eec2217",
   "metadata": {},
   "outputs": [
    {
     "data": {
      "text/html": [
       "<div>\n",
       "<style scoped>\n",
       "    .dataframe tbody tr th:only-of-type {\n",
       "        vertical-align: middle;\n",
       "    }\n",
       "\n",
       "    .dataframe tbody tr th {\n",
       "        vertical-align: top;\n",
       "    }\n",
       "\n",
       "    .dataframe thead th {\n",
       "        text-align: right;\n",
       "    }\n",
       "</style>\n",
       "<table border=\"1\" class=\"dataframe\">\n",
       "  <thead>\n",
       "    <tr style=\"text-align: right;\">\n",
       "      <th></th>\n",
       "      <th>hosts</th>\n",
       "    </tr>\n",
       "  </thead>\n",
       "  <tbody>\n",
       "    <tr>\n",
       "      <th>example1.lab.com</th>\n",
       "      <td>[mysql, apache]</td>\n",
       "    </tr>\n",
       "    <tr>\n",
       "      <th>example2.lab.com</th>\n",
       "      <td>[sqlite, nmap]</td>\n",
       "    </tr>\n",
       "    <tr>\n",
       "      <th>example3.lab.com</th>\n",
       "      <td>[vim, bind9]</td>\n",
       "    </tr>\n",
       "  </tbody>\n",
       "</table>\n",
       "</div>"
      ],
      "text/plain": [
       "                            hosts\n",
       "example1.lab.com  [mysql, apache]\n",
       "example2.lab.com   [sqlite, nmap]\n",
       "example3.lab.com     [vim, bind9]"
      ]
     },
     "execution_count": 231,
     "metadata": {},
     "output_type": "execute_result"
    }
   ],
   "source": [
    "pd.read_json(j, orient='index').to_json('j.json', orient='index')\n",
    "pd.read_json('j.json')"
   ]
  },
  {
   "cell_type": "code",
   "execution_count": 225,
   "id": "6b76528d",
   "metadata": {},
   "outputs": [
    {
     "data": {
      "text/plain": [
       "dict"
      ]
     },
     "execution_count": 225,
     "metadata": {},
     "output_type": "execute_result"
    }
   ],
   "source": [
    "type({})"
   ]
  },
  {
   "cell_type": "code",
   "execution_count": 236,
   "id": "6349639c",
   "metadata": {},
   "outputs": [],
   "source": [
    "sup = supply_line('j.json')\n",
    "for k in sup:\n",
    "    a=k\n",
    "#     key, val, v = k\n",
    "#     print(pd.DataFrame(k))\n",
    "#     print(vars(k))"
   ]
  },
  {
   "cell_type": "code",
   "execution_count": 253,
   "id": "b6828653",
   "metadata": {},
   "outputs": [
    {
     "data": {
      "text/plain": [
       "True"
      ]
     },
     "execution_count": 253,
     "metadata": {},
     "output_type": "execute_result"
    }
   ],
   "source": [
    "a.get('k') is None\n"
   ]
  },
  {
   "cell_type": "code",
   "execution_count": 234,
   "id": "1a8a275b",
   "metadata": {},
   "outputs": [],
   "source": [
    "analysis_df.to_json('./Data/ccol_DG.json')"
   ]
  },
  {
   "cell_type": "code",
   "execution_count": 257,
   "id": "88add7e5",
   "metadata": {},
   "outputs": [],
   "source": [
    "# try item\n",
    "def retrive_specific_keys(file_name, culture_key, genes_dict):\n",
    "    def supply_line(file_name):\n",
    "#     file_name = f'./Data/{file_name}'\n",
    "        with open(file_name) as fh:\n",
    "            for line in fh:\n",
    "                yield json.loads(line)\n",
    "\n",
    "    supp = supply_line(f'{file_name}')\n",
    "    for line in supp:    # culture as column\n",
    "        genes_dict = line.get(f'{culture_key}')\n",
    "        if not genes_dict:\n",
    "            genes_dict = {current_gene: genes_dict.get(f'{current_gene}') for current_gene in genes_dict}  #subset of gene\n",
    "    return {culture_key: genes_dict} # pd.read_json() culture_key -> col pd.read_json()"
   ]
  },
  {
   "cell_type": "code",
   "execution_count": 258,
   "id": "f30bcca7",
   "metadata": {},
   "outputs": [],
   "source": [
    "genes_culture_dict = retrive_specific_keys('./Data/ccol_DG.json', 'E0_coculture_flux', ['dadX.rffG'])\n"
   ]
  },
  {
   "cell_type": "code",
   "execution_count": null,
   "id": "f499f62c",
   "metadata": {},
   "outputs": [],
   "source": [
    "gene"
   ]
  },
  {
   "cell_type": "code",
   "execution_count": null,
   "id": "0a04323a",
   "metadata": {},
   "outputs": [],
   "source": [
    "def unpack_specific_keys(*args):\n",
    "    genes_culture_dict = retrive_specific_keys(args)\n",
    "    "
   ]
  },
  {
   "cell_type": "code",
   "execution_count": 193,
   "id": "2f332378",
   "metadata": {},
   "outputs": [
    {
     "ename": "ValueError",
     "evalue": "too many values to unpack (expected 2)",
     "output_type": "error",
     "traceback": [
      "\u001b[1;31m---------------------------------------------------------------------------\u001b[0m",
      "\u001b[1;31mValueError\u001b[0m                                Traceback (most recent call last)",
      "\u001b[1;32mD:\\Temp\\ipykernel_7720\\708334297.py\u001b[0m in \u001b[0;36m<module>\u001b[1;34m\u001b[0m\n\u001b[0;32m      4\u001b[0m     \u001b[1;31m# just as you would do with a list but here the file is streamed\u001b[0m\u001b[1;33m\u001b[0m\u001b[1;33m\u001b[0m\u001b[1;33m\u001b[0m\u001b[0m\n\u001b[0;32m      5\u001b[0m     \u001b[1;32mfor\u001b[0m \u001b[0mjsonline\u001b[0m \u001b[1;32min\u001b[0m \u001b[0miterator_over_lines\u001b[0m\u001b[1;33m:\u001b[0m\u001b[1;33m\u001b[0m\u001b[1;33m\u001b[0m\u001b[0m\n\u001b[1;32m----> 6\u001b[1;33m         \u001b[1;32mfor\u001b[0m \u001b[0mkey\u001b[0m\u001b[1;33m,\u001b[0m\u001b[0mdi\u001b[0m \u001b[1;32min\u001b[0m \u001b[0mjsonline\u001b[0m\u001b[1;33m:\u001b[0m    \u001b[1;31m# items on Py 3k\u001b[0m\u001b[1;33m\u001b[0m\u001b[1;33m\u001b[0m\u001b[0m\n\u001b[0m\u001b[0;32m      7\u001b[0m             \u001b[0mprint\u001b[0m\u001b[1;33m(\u001b[0m\u001b[0mkey\u001b[0m\u001b[1;33m)\u001b[0m\u001b[1;33m\u001b[0m\u001b[1;33m\u001b[0m\u001b[0m\n",
      "\u001b[1;31mValueError\u001b[0m: too many values to unpack (expected 2)"
     ]
    }
   ],
   "source": [
    "with open('./Data/Ori_SG.json') as json_data:\n",
    "#     for line in json_data:\n",
    "    iterator_over_lines = map(json.loads, json_data)\n",
    "    # just as you would do with a list but here the file is streamed\n",
    "    for jsonline in iterator_over_lines:\n",
    "        for key,di in jsonline:    # items on Py 3k\n",
    "            print(key)"
   ]
  },
  {
   "cell_type": "code",
   "execution_count": 182,
   "id": "8291c51e",
   "metadata": {},
   "outputs": [
    {
     "ename": "JSONDecodeError",
     "evalue": "Expecting value: line 1 column 1 (char 0)",
     "output_type": "error",
     "traceback": [
      "\u001b[1;31m---------------------------------------------------------------------------\u001b[0m",
      "\u001b[1;31mJSONDecodeError\u001b[0m                           Traceback (most recent call last)",
      "\u001b[1;32mD:\\Temp\\ipykernel_7720\\501409932.py\u001b[0m in \u001b[0;36m<module>\u001b[1;34m\u001b[0m\n\u001b[0;32m      1\u001b[0m \u001b[0mfound_dict\u001b[0m\u001b[1;33m=\u001b[0m\u001b[0mdict\u001b[0m\u001b[1;33m(\u001b[0m\u001b[1;33m)\u001b[0m\u001b[1;33m\u001b[0m\u001b[1;33m\u001b[0m\u001b[0m\n\u001b[1;32m----> 2\u001b[1;33m \u001b[1;32mfor\u001b[0m \u001b[0mkey\u001b[0m\u001b[1;33m,\u001b[0m\u001b[0mdi\u001b[0m \u001b[1;32min\u001b[0m \u001b[0mjson\u001b[0m\u001b[1;33m.\u001b[0m\u001b[0mloads\u001b[0m\u001b[1;33m(\u001b[0m\u001b[1;34m'./Data/Ori_DG.json'\u001b[0m\u001b[1;33m)\u001b[0m\u001b[1;33m.\u001b[0m\u001b[0mitems\u001b[0m\u001b[1;33m(\u001b[0m\u001b[1;33m)\u001b[0m\u001b[1;33m:\u001b[0m    \u001b[1;31m# items on Py 3k\u001b[0m\u001b[1;33m\u001b[0m\u001b[1;33m\u001b[0m\u001b[0m\n\u001b[0m\u001b[0;32m      3\u001b[0m     \u001b[1;32mif\u001b[0m \u001b[0mkey\u001b[0m \u001b[1;32min\u001b[0m \u001b[0mindex_keys\u001b[0m\u001b[1;33m:\u001b[0m\u001b[1;33m\u001b[0m\u001b[1;33m\u001b[0m\u001b[0m\n\u001b[0;32m      4\u001b[0m         \u001b[1;32mfor\u001b[0m \u001b[0mk\u001b[0m\u001b[1;33m,\u001b[0m\u001b[0mv\u001b[0m \u001b[1;32min\u001b[0m \u001b[0mdi\u001b[0m\u001b[1;33m.\u001b[0m\u001b[0mitems\u001b[0m\u001b[1;33m(\u001b[0m\u001b[1;33m)\u001b[0m\u001b[1;33m:\u001b[0m\u001b[1;33m\u001b[0m\u001b[1;33m\u001b[0m\u001b[0m\n\u001b[0;32m      5\u001b[0m \u001b[1;31m#             if k.startswith(index_keys):\u001b[0m\u001b[1;33m\u001b[0m\u001b[1;33m\u001b[0m\u001b[1;33m\u001b[0m\u001b[0m\n",
      "\u001b[1;32mD:\\anaconda3\\envs\\vr\\lib\\json\\__init__.py\u001b[0m in \u001b[0;36mloads\u001b[1;34m(s, encoding, cls, object_hook, parse_float, parse_int, parse_constant, object_pairs_hook, **kw)\u001b[0m\n\u001b[0;32m    346\u001b[0m             \u001b[0mparse_int\u001b[0m \u001b[1;32mis\u001b[0m \u001b[1;32mNone\u001b[0m \u001b[1;32mand\u001b[0m \u001b[0mparse_float\u001b[0m \u001b[1;32mis\u001b[0m \u001b[1;32mNone\u001b[0m \u001b[1;32mand\u001b[0m\u001b[1;33m\u001b[0m\u001b[1;33m\u001b[0m\u001b[0m\n\u001b[0;32m    347\u001b[0m             parse_constant is None and object_pairs_hook is None and not kw):\n\u001b[1;32m--> 348\u001b[1;33m         \u001b[1;32mreturn\u001b[0m \u001b[0m_default_decoder\u001b[0m\u001b[1;33m.\u001b[0m\u001b[0mdecode\u001b[0m\u001b[1;33m(\u001b[0m\u001b[0ms\u001b[0m\u001b[1;33m)\u001b[0m\u001b[1;33m\u001b[0m\u001b[1;33m\u001b[0m\u001b[0m\n\u001b[0m\u001b[0;32m    349\u001b[0m     \u001b[1;32mif\u001b[0m \u001b[0mcls\u001b[0m \u001b[1;32mis\u001b[0m \u001b[1;32mNone\u001b[0m\u001b[1;33m:\u001b[0m\u001b[1;33m\u001b[0m\u001b[1;33m\u001b[0m\u001b[0m\n\u001b[0;32m    350\u001b[0m         \u001b[0mcls\u001b[0m \u001b[1;33m=\u001b[0m \u001b[0mJSONDecoder\u001b[0m\u001b[1;33m\u001b[0m\u001b[1;33m\u001b[0m\u001b[0m\n",
      "\u001b[1;32mD:\\anaconda3\\envs\\vr\\lib\\json\\decoder.py\u001b[0m in \u001b[0;36mdecode\u001b[1;34m(self, s, _w)\u001b[0m\n\u001b[0;32m    335\u001b[0m \u001b[1;33m\u001b[0m\u001b[0m\n\u001b[0;32m    336\u001b[0m         \"\"\"\n\u001b[1;32m--> 337\u001b[1;33m         \u001b[0mobj\u001b[0m\u001b[1;33m,\u001b[0m \u001b[0mend\u001b[0m \u001b[1;33m=\u001b[0m \u001b[0mself\u001b[0m\u001b[1;33m.\u001b[0m\u001b[0mraw_decode\u001b[0m\u001b[1;33m(\u001b[0m\u001b[0ms\u001b[0m\u001b[1;33m,\u001b[0m \u001b[0midx\u001b[0m\u001b[1;33m=\u001b[0m\u001b[0m_w\u001b[0m\u001b[1;33m(\u001b[0m\u001b[0ms\u001b[0m\u001b[1;33m,\u001b[0m \u001b[1;36m0\u001b[0m\u001b[1;33m)\u001b[0m\u001b[1;33m.\u001b[0m\u001b[0mend\u001b[0m\u001b[1;33m(\u001b[0m\u001b[1;33m)\u001b[0m\u001b[1;33m)\u001b[0m\u001b[1;33m\u001b[0m\u001b[1;33m\u001b[0m\u001b[0m\n\u001b[0m\u001b[0;32m    338\u001b[0m         \u001b[0mend\u001b[0m \u001b[1;33m=\u001b[0m \u001b[0m_w\u001b[0m\u001b[1;33m(\u001b[0m\u001b[0ms\u001b[0m\u001b[1;33m,\u001b[0m \u001b[0mend\u001b[0m\u001b[1;33m)\u001b[0m\u001b[1;33m.\u001b[0m\u001b[0mend\u001b[0m\u001b[1;33m(\u001b[0m\u001b[1;33m)\u001b[0m\u001b[1;33m\u001b[0m\u001b[1;33m\u001b[0m\u001b[0m\n\u001b[0;32m    339\u001b[0m         \u001b[1;32mif\u001b[0m \u001b[0mend\u001b[0m \u001b[1;33m!=\u001b[0m \u001b[0mlen\u001b[0m\u001b[1;33m(\u001b[0m\u001b[0ms\u001b[0m\u001b[1;33m)\u001b[0m\u001b[1;33m:\u001b[0m\u001b[1;33m\u001b[0m\u001b[1;33m\u001b[0m\u001b[0m\n",
      "\u001b[1;32mD:\\anaconda3\\envs\\vr\\lib\\json\\decoder.py\u001b[0m in \u001b[0;36mraw_decode\u001b[1;34m(self, s, idx)\u001b[0m\n\u001b[0;32m    353\u001b[0m             \u001b[0mobj\u001b[0m\u001b[1;33m,\u001b[0m \u001b[0mend\u001b[0m \u001b[1;33m=\u001b[0m \u001b[0mself\u001b[0m\u001b[1;33m.\u001b[0m\u001b[0mscan_once\u001b[0m\u001b[1;33m(\u001b[0m\u001b[0ms\u001b[0m\u001b[1;33m,\u001b[0m \u001b[0midx\u001b[0m\u001b[1;33m)\u001b[0m\u001b[1;33m\u001b[0m\u001b[1;33m\u001b[0m\u001b[0m\n\u001b[0;32m    354\u001b[0m         \u001b[1;32mexcept\u001b[0m \u001b[0mStopIteration\u001b[0m \u001b[1;32mas\u001b[0m \u001b[0merr\u001b[0m\u001b[1;33m:\u001b[0m\u001b[1;33m\u001b[0m\u001b[1;33m\u001b[0m\u001b[0m\n\u001b[1;32m--> 355\u001b[1;33m             \u001b[1;32mraise\u001b[0m \u001b[0mJSONDecodeError\u001b[0m\u001b[1;33m(\u001b[0m\u001b[1;34m\"Expecting value\"\u001b[0m\u001b[1;33m,\u001b[0m \u001b[0ms\u001b[0m\u001b[1;33m,\u001b[0m \u001b[0merr\u001b[0m\u001b[1;33m.\u001b[0m\u001b[0mvalue\u001b[0m\u001b[1;33m)\u001b[0m \u001b[1;32mfrom\u001b[0m \u001b[1;32mNone\u001b[0m\u001b[1;33m\u001b[0m\u001b[1;33m\u001b[0m\u001b[0m\n\u001b[0m\u001b[0;32m    356\u001b[0m         \u001b[1;32mreturn\u001b[0m \u001b[0mobj\u001b[0m\u001b[1;33m,\u001b[0m \u001b[0mend\u001b[0m\u001b[1;33m\u001b[0m\u001b[1;33m\u001b[0m\u001b[0m\n",
      "\u001b[1;31mJSONDecodeError\u001b[0m: Expecting value: line 1 column 1 (char 0)"
     ]
    }
   ],
   "source": [
    "# proceed\n",
    "found_dict=dict()\n",
    "\n",
    "with open('./Data/Ori_DG.json') as json_data:\n",
    "    for line in json_data:\n",
    "        \n",
    "    for key,di in json.loads('./Data/Ori_DG.json').items():    # items on Py 3k\n",
    "        if key in index_keys:\n",
    "            for k,v in di.items():\n",
    "    #             if k.startswith(index_keys):\n",
    "                if k in col_key:\n",
    "                    # unpack to dataframe-> for outer layer\n",
    "\n",
    "                    found_dict.update({key: {k : v}}) # search for col value\n",
    "                    col_key.drop(k)\n",
    "\n",
    "                    if not col_key: \n",
    "                        break\n",
    "        if not index_keys:\n",
    "            break "
   ]
  },
  {
   "cell_type": "code",
   "execution_count": 181,
   "id": "c6aaec96",
   "metadata": {},
   "outputs": [
    {
     "ename": "JSONDecodeError",
     "evalue": "Expecting value: line 1 column 1 (char 0)",
     "output_type": "error",
     "traceback": [
      "\u001b[1;31m---------------------------------------------------------------------------\u001b[0m",
      "\u001b[1;31mJSONDecodeError\u001b[0m                           Traceback (most recent call last)",
      "\u001b[1;32mD:\\Temp\\ipykernel_7720\\2583795118.py\u001b[0m in \u001b[0;36m<module>\u001b[1;34m\u001b[0m\n\u001b[1;32m----> 1\u001b[1;33m \u001b[0ma\u001b[0m \u001b[1;33m=\u001b[0m \u001b[0mexplore_js\u001b[0m\u001b[1;33m(\u001b[0m\u001b[1;34m'./Data/flanalysis_BM_DG1.json'\u001b[0m\u001b[1;33m,\u001b[0m \u001b[0mindex_keys\u001b[0m\u001b[1;33m,\u001b[0m \u001b[0mcol_key\u001b[0m\u001b[1;33m)\u001b[0m\u001b[1;33m\u001b[0m\u001b[1;33m\u001b[0m\u001b[0m\n\u001b[0m",
      "\u001b[1;32mD:\\Temp\\ipykernel_7720\\2551282774.py\u001b[0m in \u001b[0;36mexplore_js\u001b[1;34m(js_object, index_keys, col_key)\u001b[0m\n\u001b[0;32m      1\u001b[0m \u001b[1;32mdef\u001b[0m \u001b[0mexplore_js\u001b[0m\u001b[1;33m(\u001b[0m\u001b[0mjs_object\u001b[0m\u001b[1;33m,\u001b[0m \u001b[0mindex_keys\u001b[0m\u001b[1;33m,\u001b[0m \u001b[0mcol_key\u001b[0m\u001b[1;33m)\u001b[0m\u001b[1;33m:\u001b[0m \u001b[1;31m# index key-drug inhibition & col_key-culture column\u001b[0m\u001b[1;33m\u001b[0m\u001b[1;33m\u001b[0m\u001b[0m\n\u001b[0;32m      2\u001b[0m     \u001b[0mfound_dict\u001b[0m\u001b[1;33m=\u001b[0m\u001b[0mdict\u001b[0m\u001b[1;33m(\u001b[0m\u001b[1;33m)\u001b[0m\u001b[1;33m\u001b[0m\u001b[1;33m\u001b[0m\u001b[0m\n\u001b[1;32m----> 3\u001b[1;33m     \u001b[1;32mfor\u001b[0m \u001b[0mkey\u001b[0m\u001b[1;33m,\u001b[0m\u001b[0mdi\u001b[0m \u001b[1;32min\u001b[0m \u001b[0mjson\u001b[0m\u001b[1;33m.\u001b[0m\u001b[0mloads\u001b[0m\u001b[1;33m(\u001b[0m\u001b[0mjs_object\u001b[0m\u001b[1;33m)\u001b[0m\u001b[1;33m.\u001b[0m\u001b[0mitems\u001b[0m\u001b[1;33m(\u001b[0m\u001b[1;33m)\u001b[0m\u001b[1;33m:\u001b[0m    \u001b[1;31m# items on Py 3k\u001b[0m\u001b[1;33m\u001b[0m\u001b[1;33m\u001b[0m\u001b[0m\n\u001b[0m\u001b[0;32m      4\u001b[0m         \u001b[1;32mif\u001b[0m \u001b[0mkey\u001b[0m \u001b[1;32min\u001b[0m \u001b[0mindex_keys\u001b[0m\u001b[1;33m:\u001b[0m\u001b[1;33m\u001b[0m\u001b[1;33m\u001b[0m\u001b[0m\n\u001b[0;32m      5\u001b[0m             \u001b[1;32mfor\u001b[0m \u001b[0mk\u001b[0m\u001b[1;33m,\u001b[0m\u001b[0mv\u001b[0m \u001b[1;32min\u001b[0m \u001b[0mdi\u001b[0m\u001b[1;33m.\u001b[0m\u001b[0mitems\u001b[0m\u001b[1;33m(\u001b[0m\u001b[1;33m)\u001b[0m\u001b[1;33m:\u001b[0m\u001b[1;33m\u001b[0m\u001b[1;33m\u001b[0m\u001b[0m\n",
      "\u001b[1;32mD:\\anaconda3\\envs\\vr\\lib\\json\\__init__.py\u001b[0m in \u001b[0;36mloads\u001b[1;34m(s, encoding, cls, object_hook, parse_float, parse_int, parse_constant, object_pairs_hook, **kw)\u001b[0m\n\u001b[0;32m    346\u001b[0m             \u001b[0mparse_int\u001b[0m \u001b[1;32mis\u001b[0m \u001b[1;32mNone\u001b[0m \u001b[1;32mand\u001b[0m \u001b[0mparse_float\u001b[0m \u001b[1;32mis\u001b[0m \u001b[1;32mNone\u001b[0m \u001b[1;32mand\u001b[0m\u001b[1;33m\u001b[0m\u001b[1;33m\u001b[0m\u001b[0m\n\u001b[0;32m    347\u001b[0m             parse_constant is None and object_pairs_hook is None and not kw):\n\u001b[1;32m--> 348\u001b[1;33m         \u001b[1;32mreturn\u001b[0m \u001b[0m_default_decoder\u001b[0m\u001b[1;33m.\u001b[0m\u001b[0mdecode\u001b[0m\u001b[1;33m(\u001b[0m\u001b[0ms\u001b[0m\u001b[1;33m)\u001b[0m\u001b[1;33m\u001b[0m\u001b[1;33m\u001b[0m\u001b[0m\n\u001b[0m\u001b[0;32m    349\u001b[0m     \u001b[1;32mif\u001b[0m \u001b[0mcls\u001b[0m \u001b[1;32mis\u001b[0m \u001b[1;32mNone\u001b[0m\u001b[1;33m:\u001b[0m\u001b[1;33m\u001b[0m\u001b[1;33m\u001b[0m\u001b[0m\n\u001b[0;32m    350\u001b[0m         \u001b[0mcls\u001b[0m \u001b[1;33m=\u001b[0m \u001b[0mJSONDecoder\u001b[0m\u001b[1;33m\u001b[0m\u001b[1;33m\u001b[0m\u001b[0m\n",
      "\u001b[1;32mD:\\anaconda3\\envs\\vr\\lib\\json\\decoder.py\u001b[0m in \u001b[0;36mdecode\u001b[1;34m(self, s, _w)\u001b[0m\n\u001b[0;32m    335\u001b[0m \u001b[1;33m\u001b[0m\u001b[0m\n\u001b[0;32m    336\u001b[0m         \"\"\"\n\u001b[1;32m--> 337\u001b[1;33m         \u001b[0mobj\u001b[0m\u001b[1;33m,\u001b[0m \u001b[0mend\u001b[0m \u001b[1;33m=\u001b[0m \u001b[0mself\u001b[0m\u001b[1;33m.\u001b[0m\u001b[0mraw_decode\u001b[0m\u001b[1;33m(\u001b[0m\u001b[0ms\u001b[0m\u001b[1;33m,\u001b[0m \u001b[0midx\u001b[0m\u001b[1;33m=\u001b[0m\u001b[0m_w\u001b[0m\u001b[1;33m(\u001b[0m\u001b[0ms\u001b[0m\u001b[1;33m,\u001b[0m \u001b[1;36m0\u001b[0m\u001b[1;33m)\u001b[0m\u001b[1;33m.\u001b[0m\u001b[0mend\u001b[0m\u001b[1;33m(\u001b[0m\u001b[1;33m)\u001b[0m\u001b[1;33m)\u001b[0m\u001b[1;33m\u001b[0m\u001b[1;33m\u001b[0m\u001b[0m\n\u001b[0m\u001b[0;32m    338\u001b[0m         \u001b[0mend\u001b[0m \u001b[1;33m=\u001b[0m \u001b[0m_w\u001b[0m\u001b[1;33m(\u001b[0m\u001b[0ms\u001b[0m\u001b[1;33m,\u001b[0m \u001b[0mend\u001b[0m\u001b[1;33m)\u001b[0m\u001b[1;33m.\u001b[0m\u001b[0mend\u001b[0m\u001b[1;33m(\u001b[0m\u001b[1;33m)\u001b[0m\u001b[1;33m\u001b[0m\u001b[1;33m\u001b[0m\u001b[0m\n\u001b[0;32m    339\u001b[0m         \u001b[1;32mif\u001b[0m \u001b[0mend\u001b[0m \u001b[1;33m!=\u001b[0m \u001b[0mlen\u001b[0m\u001b[1;33m(\u001b[0m\u001b[0ms\u001b[0m\u001b[1;33m)\u001b[0m\u001b[1;33m:\u001b[0m\u001b[1;33m\u001b[0m\u001b[1;33m\u001b[0m\u001b[0m\n",
      "\u001b[1;32mD:\\anaconda3\\envs\\vr\\lib\\json\\decoder.py\u001b[0m in \u001b[0;36mraw_decode\u001b[1;34m(self, s, idx)\u001b[0m\n\u001b[0;32m    353\u001b[0m             \u001b[0mobj\u001b[0m\u001b[1;33m,\u001b[0m \u001b[0mend\u001b[0m \u001b[1;33m=\u001b[0m \u001b[0mself\u001b[0m\u001b[1;33m.\u001b[0m\u001b[0mscan_once\u001b[0m\u001b[1;33m(\u001b[0m\u001b[0ms\u001b[0m\u001b[1;33m,\u001b[0m \u001b[0midx\u001b[0m\u001b[1;33m)\u001b[0m\u001b[1;33m\u001b[0m\u001b[1;33m\u001b[0m\u001b[0m\n\u001b[0;32m    354\u001b[0m         \u001b[1;32mexcept\u001b[0m \u001b[0mStopIteration\u001b[0m \u001b[1;32mas\u001b[0m \u001b[0merr\u001b[0m\u001b[1;33m:\u001b[0m\u001b[1;33m\u001b[0m\u001b[1;33m\u001b[0m\u001b[0m\n\u001b[1;32m--> 355\u001b[1;33m             \u001b[1;32mraise\u001b[0m \u001b[0mJSONDecodeError\u001b[0m\u001b[1;33m(\u001b[0m\u001b[1;34m\"Expecting value\"\u001b[0m\u001b[1;33m,\u001b[0m \u001b[0ms\u001b[0m\u001b[1;33m,\u001b[0m \u001b[0merr\u001b[0m\u001b[1;33m.\u001b[0m\u001b[0mvalue\u001b[0m\u001b[1;33m)\u001b[0m \u001b[1;32mfrom\u001b[0m \u001b[1;32mNone\u001b[0m\u001b[1;33m\u001b[0m\u001b[1;33m\u001b[0m\u001b[0m\n\u001b[0m\u001b[0;32m    356\u001b[0m         \u001b[1;32mreturn\u001b[0m \u001b[0mobj\u001b[0m\u001b[1;33m,\u001b[0m \u001b[0mend\u001b[0m\u001b[1;33m\u001b[0m\u001b[1;33m\u001b[0m\u001b[0m\n",
      "\u001b[1;31mJSONDecodeError\u001b[0m: Expecting value: line 1 column 1 (char 0)"
     ]
    }
   ],
   "source": [
    "a = explore_js('./Data/flanalysis_BM_DG1.json', index_keys, col_key)"
   ]
  },
  {
   "cell_type": "code",
   "execution_count": null,
   "id": "91f25e69",
   "metadata": {},
   "outputs": [],
   "source": [
    "json.loads('./Data/flanalysis_BM_DG1.json',object_pairs_hook=pairs)  \n",
    "\n",
    "json.loads(j,object_pairs_hook=pairs)  \n",
    "\n",
    "analysis_df = pd.read_json().set_index('Gene_inhibition')\n"
   ]
  },
  {
   "cell_type": "code",
   "execution_count": 127,
   "id": "5f6f002c",
   "metadata": {},
   "outputs": [],
   "source": [
    "analysis_df.to_json(\"./Data/Ori_SG.json\", orient='index')"
   ]
  },
  {
   "cell_type": "code",
   "execution_count": 129,
   "id": "77373a47",
   "metadata": {},
   "outputs": [],
   "source": [
    "analysis_df = pd.read_json(\"./Data/Ori_SG.json\", orient='index')"
   ]
  },
  {
   "cell_type": "code",
   "execution_count": 136,
   "id": "f493cb08",
   "metadata": {},
   "outputs": [
    {
     "data": {
      "text/plain": [
       "Index(['coculture_media', 'E0_coculture_flux', 'S0_ac_coculture_flux',\n",
       "       'E0_monoculture_media', 'E0_monoculture_flux',\n",
       "       'S0_ac_monoculture_media', 'S0_ac_monoculture_flux'],\n",
       "      dtype='object')"
      ]
     },
     "execution_count": 136,
     "metadata": {},
     "output_type": "execute_result"
    }
   ],
   "source": [
    "analysis_df.columns"
   ]
  },
  {
   "cell_type": "code",
   "execution_count": 141,
   "id": "dd76d640",
   "metadata": {},
   "outputs": [],
   "source": [
    "analysis_df = analysis_df.reset_index()\n",
    "# set_index('Gene_inhibition')\n",
    "# .to_json(\"./Data/Ori_DG.json\", orient='index')"
   ]
  },
  {
   "cell_type": "code",
   "execution_count": 151,
   "id": "a7e86d79",
   "metadata": {
    "scrolled": true
   },
   "outputs": [],
   "source": [
    "gene_inhibition = ['.'.join(map(str, l)) for l in analysis_df.Gene_inhibition]\n",
    "\n",
    "analysis_df.Gene_inhibition =  ['.'.join(map(str, l)) for l in analysis_df.Gene_inhibition]\n",
    "\n",
    "analysis_df = analysis_df.set_index('Gene_inhibition')"
   ]
  },
  {
   "cell_type": "code",
   "execution_count": 131,
   "id": "e1674af7",
   "metadata": {},
   "outputs": [],
   "source": [
    "analysis_df = pd.read_json(\"./Data/flanalysis_BM_DG1.json\")\n"
   ]
  },
  {
   "cell_type": "code",
   "execution_count": null,
   "id": "01dcb587",
   "metadata": {},
   "outputs": [],
   "source": [
    "analysis_df.loc[genes, 'E0_coculture_flux']\n",
    "analysis_df = pd.read_json('./Data/flanalysis_BM_SG1.json').set_index('Gene_inhibition')\n",
    "\n"
   ]
  },
  {
   "cell_type": "code",
   "execution_count": 82,
   "id": "5232ddef",
   "metadata": {},
   "outputs": [],
   "source": [
    "def get_Normal_sorted_factor(after_sort_df):\n",
    "    cat_df = (after_sort_df.\n",
    "              reset_index(). # 1-n Index as index col\n",
    "              assign(Reactions = lambda x: \n",
    "                     pd.Categorical(x.Reactions, categories=x.Reactions, ordered = True)))\n",
    "    return(cat_df[['Normal', 'Reactions']], cat_df.drop(['Normal','index'], axis=1))\n",
    "\n",
    "# get_compare_df_long(compare_df)"
   ]
  },
  {
   "cell_type": "code",
   "execution_count": 86,
   "id": "0f83e9ec",
   "metadata": {},
   "outputs": [],
   "source": [
    "def get_plot_dfs(compare_df):\n",
    "    normal_df, genes_df = get_Normal_sorted_factor(\n",
    "        get_abs_df(compare_df))\n",
    "    genes_df = genes_df.set_index('Reactions').melt(ignore_index=False,\n",
    "            var_name='Genes').reset_index()\n",
    "    return normal_df, genes_df"
   ]
  },
  {
   "cell_type": "code",
   "execution_count": 87,
   "id": "2f85d0b4",
   "metadata": {},
   "outputs": [],
   "source": [
    "normal_df, genes_df = get_plot_dfs(compare_df)"
   ]
  },
  {
   "cell_type": "code",
   "execution_count": 97,
   "id": "ecbc4558",
   "metadata": {},
   "outputs": [
    {
     "data": {
      "text/html": [
       "<div>\n",
       "<style scoped>\n",
       "    .dataframe tbody tr th:only-of-type {\n",
       "        vertical-align: middle;\n",
       "    }\n",
       "\n",
       "    .dataframe tbody tr th {\n",
       "        vertical-align: top;\n",
       "    }\n",
       "\n",
       "    .dataframe thead th {\n",
       "        text-align: right;\n",
       "    }\n",
       "</style>\n",
       "<table border=\"1\" class=\"dataframe\">\n",
       "  <thead>\n",
       "    <tr style=\"text-align: right;\">\n",
       "      <th></th>\n",
       "      <th>folA</th>\n",
       "      <th>folP</th>\n",
       "      <th>Normal</th>\n",
       "    </tr>\n",
       "  </thead>\n",
       "  <tbody>\n",
       "    <tr>\n",
       "      <th>ATPS4rpp</th>\n",
       "      <td>7.488875</td>\n",
       "      <td>5.692362e+00</td>\n",
       "      <td>16.412796</td>\n",
       "    </tr>\n",
       "    <tr>\n",
       "      <th>CYTBO3_4pp</th>\n",
       "      <td>4.687602</td>\n",
       "      <td>3.502993e+00</td>\n",
       "      <td>10.360123</td>\n",
       "    </tr>\n",
       "    <tr>\n",
       "      <th>NADH16pp</th>\n",
       "      <td>3.929040</td>\n",
       "      <td>2.919161e+00</td>\n",
       "      <td>8.788958</td>\n",
       "    </tr>\n",
       "    <tr>\n",
       "      <th>H2Otpp</th>\n",
       "      <td>-3.251874</td>\n",
       "      <td>-1.751507e+00</td>\n",
       "      <td>-8.764198</td>\n",
       "    </tr>\n",
       "    <tr>\n",
       "      <th>EX_h2o_e</th>\n",
       "      <td>2.940251</td>\n",
       "      <td>1.459593e+00</td>\n",
       "      <td>7.992006</td>\n",
       "    </tr>\n",
       "    <tr>\n",
       "      <th>...</th>\n",
       "      <td>...</td>\n",
       "      <td>...</td>\n",
       "      <td>...</td>\n",
       "    </tr>\n",
       "    <tr>\n",
       "      <th>NADTRHD</th>\n",
       "      <td>0.431529</td>\n",
       "      <td>5.838282e-01</td>\n",
       "      <td>0.000000</td>\n",
       "    </tr>\n",
       "    <tr>\n",
       "      <th>RPE</th>\n",
       "      <td>-0.023834</td>\n",
       "      <td>-5.589000e-07</td>\n",
       "      <td>0.000000</td>\n",
       "    </tr>\n",
       "    <tr>\n",
       "      <th>GLYCLTt4pp</th>\n",
       "      <td>0.000083</td>\n",
       "      <td>0.000000e+00</td>\n",
       "      <td>0.000000</td>\n",
       "    </tr>\n",
       "    <tr>\n",
       "      <th>ASPO3</th>\n",
       "      <td>0.017759</td>\n",
       "      <td>0.000000e+00</td>\n",
       "      <td>0.000000</td>\n",
       "    </tr>\n",
       "    <tr>\n",
       "      <th>GLYCL</th>\n",
       "      <td>0.017449</td>\n",
       "      <td>2.403000e-07</td>\n",
       "      <td>0.000000</td>\n",
       "    </tr>\n",
       "  </tbody>\n",
       "</table>\n",
       "<p>435 rows × 3 columns</p>\n",
       "</div>"
      ],
      "text/plain": [
       "                folA          folP     Normal\n",
       "ATPS4rpp    7.488875  5.692362e+00  16.412796\n",
       "CYTBO3_4pp  4.687602  3.502993e+00  10.360123\n",
       "NADH16pp    3.929040  2.919161e+00   8.788958\n",
       "H2Otpp     -3.251874 -1.751507e+00  -8.764198\n",
       "EX_h2o_e    2.940251  1.459593e+00   7.992006\n",
       "...              ...           ...        ...\n",
       "NADTRHD     0.431529  5.838282e-01   0.000000\n",
       "RPE        -0.023834 -5.589000e-07   0.000000\n",
       "GLYCLTt4pp  0.000083  0.000000e+00   0.000000\n",
       "ASPO3       0.017759  0.000000e+00   0.000000\n",
       "GLYCL       0.017449  2.403000e-07   0.000000\n",
       "\n",
       "[435 rows x 3 columns]"
      ]
     },
     "execution_count": 97,
     "metadata": {},
     "output_type": "execute_result"
    }
   ],
   "source": [
    "compare_df"
   ]
  },
  {
   "cell_type": "code",
   "execution_count": 98,
   "id": "8fb8a678",
   "metadata": {},
   "outputs": [],
   "source": [
    "normal_df1, genes_df1 = get_plot_dfs(compare_df.iloc[:30,])"
   ]
  },
  {
   "cell_type": "code",
   "execution_count": 50,
   "id": "8d25a0e2",
   "metadata": {},
   "outputs": [],
   "source": [
    "df.Normal = df.Normal.abs()\n",
    "df.folA = df.folA.abs()"
   ]
  },
  {
   "cell_type": "code",
   "execution_count": 161,
   "id": "3980832b",
   "metadata": {},
   "outputs": [],
   "source": [
    "from plotnine import ggplot, geom_area, aes\n",
    "base = ggplot(df.iloc[:30,], aes(x='Reactions', y='Normal',group=1))+geom_area(fill = 'grey',alpha=0.5)\n"
   ]
  },
  {
   "cell_type": "code",
   "execution_count": 53,
   "id": "9dee234e",
   "metadata": {},
   "outputs": [],
   "source": [
    "from plotnine.ggplot import *"
   ]
  },
  {
   "cell_type": "code",
   "execution_count": 94,
   "id": "a47bbaac",
   "metadata": {},
   "outputs": [],
   "source": [
    "# p = (ggplot(genes_df, aes(x='Reactions', y='Genes',group=1))+\n",
    "#      geom_area()+\n",
    "#      facet_wrap('Genes'))"
   ]
  },
  {
   "cell_type": "code",
   "execution_count": 104,
   "id": "486eb737",
   "metadata": {},
   "outputs": [],
   "source": [
    "p = (ggplot(genes_df1, aes(x='Reactions', y='value'))+\n",
    "     geom_area()+\n",
    "     facet_wrap('Genes'))"
   ]
  },
  {
   "cell_type": "code",
   "execution_count": 164,
   "id": "f2d6e0ed",
   "metadata": {},
   "outputs": [
    {
     "data": {
      "image/png": "[encoded data removed]",
      "text/plain": [
       "<Figure size 640x480 with 2 Axes>"
      ]
     },
     "metadata": {},
     "output_type": "display_data"
    },
    {
     "data": {
      "text/plain": [
       "<ggplot: (-9223371927122688532)>"
      ]
     },
     "execution_count": 164,
     "metadata": {},
     "output_type": "execute_result"
    }
   ],
   "source": [
    "(base+\n",
    "     geom_area(mapping=aes(x='Reactions', y='value',group=1), data=genes_df1,\n",
    "               fill='red', alpha = 0.3, show_legend= True)+\n",
    "     facet_wrap('Genes')+\n",
    "     theme(axis_text_x=element_text(angle=60)\n",
    "))"
   ]
  },
  {
   "cell_type": "code",
   "execution_count": 117,
   "id": "26954f3a",
   "metadata": {},
   "outputs": [
    {
     "ename": "AttributeError",
     "evalue": "'ggplot' object has no attribute '__radd__'",
     "output_type": "error",
     "traceback": [
      "\u001b[1;31m---------------------------------------------------------------------------\u001b[0m",
      "\u001b[1;31mAttributeError\u001b[0m                            Traceback (most recent call last)",
      "\u001b[1;32mD:\\Temp\\ipykernel_7720\\72010290.py\u001b[0m in \u001b[0;36m<module>\u001b[1;34m\u001b[0m\n\u001b[0;32m      1\u001b[0m (base+ ggplot(genes_df1, aes(x='Reactions', y='value',group=1))+\n\u001b[0;32m      2\u001b[0m      \u001b[0mgeom_area\u001b[0m\u001b[1;33m(\u001b[0m\u001b[0mfill\u001b[0m\u001b[1;33m=\u001b[0m\u001b[1;34m'red'\u001b[0m\u001b[1;33m)\u001b[0m\u001b[1;33m+\u001b[0m\u001b[1;33m\u001b[0m\u001b[1;33m\u001b[0m\u001b[0m\n\u001b[1;32m----> 3\u001b[1;33m      \u001b[0mfacet_wrap\u001b[0m\u001b[1;33m(\u001b[0m\u001b[1;34m'Genes'\u001b[0m\u001b[1;33m)\u001b[0m\u001b[1;33m+\u001b[0m\u001b[1;33m\u001b[0m\u001b[1;33m\u001b[0m\u001b[0m\n\u001b[0m\u001b[0;32m      4\u001b[0m      theme(axis_text_x=element_text(angle=60)))\n",
      "\u001b[1;32mD:\\anaconda3\\envs\\vr\\lib\\site-packages\\plotnine\\ggplot.py\u001b[0m in \u001b[0;36m__add__\u001b[1;34m(self, other)\u001b[0m\n\u001b[0;32m    150\u001b[0m             \u001b[1;32mreturn\u001b[0m \u001b[0mdeepcopy\u001b[0m\u001b[1;33m(\u001b[0m\u001b[0mself\u001b[0m\u001b[1;33m)\u001b[0m\u001b[1;33m\u001b[0m\u001b[1;33m\u001b[0m\u001b[0m\n\u001b[0;32m    151\u001b[0m         \u001b[1;32melse\u001b[0m\u001b[1;33m:\u001b[0m\u001b[1;33m\u001b[0m\u001b[1;33m\u001b[0m\u001b[0m\n\u001b[1;32m--> 152\u001b[1;33m             \u001b[1;32mreturn\u001b[0m \u001b[0mother\u001b[0m\u001b[1;33m.\u001b[0m\u001b[0m__radd__\u001b[0m\u001b[1;33m(\u001b[0m\u001b[0mself\u001b[0m\u001b[1;33m)\u001b[0m\u001b[1;33m\u001b[0m\u001b[1;33m\u001b[0m\u001b[0m\n\u001b[0m\u001b[0;32m    153\u001b[0m \u001b[1;33m\u001b[0m\u001b[0m\n\u001b[0;32m    154\u001b[0m     \u001b[1;32mdef\u001b[0m \u001b[0m__rrshift__\u001b[0m\u001b[1;33m(\u001b[0m\u001b[0mself\u001b[0m\u001b[1;33m,\u001b[0m \u001b[0mother\u001b[0m\u001b[1;33m)\u001b[0m\u001b[1;33m:\u001b[0m\u001b[1;33m\u001b[0m\u001b[1;33m\u001b[0m\u001b[0m\n",
      "\u001b[1;31mAttributeError\u001b[0m: 'ggplot' object has no attribute '__radd__'"
     ]
    }
   ],
   "source": [
    "(ggplot(genes_df1, aes(x='Reactions', y='value',group=1))+\n",
    "     geom_area(fill='red')+\n",
    "     facet_wrap('Genes')+\n",
    "     theme(axis_text_x=element_text(angle=60)))"
   ]
  },
  {
   "cell_type": "code",
   "execution_count": null,
   "id": "252e08f1",
   "metadata": {},
   "outputs": [],
   "source": []
  },
  {
   "cell_type": "code",
   "execution_count": 58,
   "id": "76153362",
   "metadata": {},
   "outputs": [
    {
     "data": {
      "image/png": "[encoded data removed]",
      "text/plain": [
       "<Figure size 640x480 with 1 Axes>"
      ]
     },
     "metadata": {},
     "output_type": "display_data"
    },
    {
     "data": {
      "text/plain": [
       "<ggplot: (-9223371927121825492)>"
      ]
     },
     "execution_count": 58,
     "metadata": {},
     "output_type": "execute_result"
    }
   ],
   "source": [
    "(base+ geom_area(aes(x='Reactions', y='folA'), fill='red') + \n",
    "    theme(axis_text_x=element_text(angle=60)))　\n",
    " "
   ]
  },
  {
   "cell_type": "code",
   "execution_count": 56,
   "id": "0bc39db5",
   "metadata": {},
   "outputs": [],
   "source": [
    "from plotnine import *"
   ]
  },
  {
   "cell_type": "code",
   "execution_count": null,
   "id": "2cbd3dfe",
   "metadata": {},
   "outputs": [],
   "source": [
    "\n",
    "compare_df_long = compare_df_long.rename_axis('Reactions').reset_index()\n"
   ]
  },
  {
   "cell_type": "code",
   "execution_count": null,
   "id": "36a67806",
   "metadata": {},
   "outputs": [],
   "source": []
  },
  {
   "cell_type": "code",
   "execution_count": null,
   "id": "d7a5048b",
   "metadata": {},
   "outputs": [],
   "source": []
  },
  {
   "cell_type": "code",
   "execution_count": 60,
   "id": "63d67992",
   "metadata": {},
   "outputs": [],
   "source": [
    "# compare_df_long = compare_df_long.rename_axis('Reactions').reset_index()\n",
    "compare_df_long.value = compare_df_long.value.abs()"
   ]
  },
  {
   "cell_type": "code",
   "execution_count": null,
   "id": "eae1f56f",
   "metadata": {},
   "outputs": [],
   "source": [
    "compare_df_long.columns"
   ]
  },
  {
   "cell_type": "code",
   "execution_count": null,
   "id": "9e878a62",
   "metadata": {},
   "outputs": [],
   "source": [
    "import seaborn as sns\n",
    "g = sns.FacetGrid(compare_df_long, col='Genes')\n",
    "g.map(sns.lineplot,'Reactions', 'value')"
   ]
  },
  {
   "cell_type": "code",
   "execution_count": null,
   "id": "41510dd0",
   "metadata": {},
   "outputs": [],
   "source": []
  },
  {
   "cell_type": "code",
   "execution_count": null,
   "id": "9f46eb4f",
   "metadata": {},
   "outputs": [],
   "source": []
  },
  {
   "cell_type": "code",
   "execution_count": null,
   "id": "27069ab9",
   "metadata": {},
   "outputs": [],
   "source": [
    "Normal_df = compare_abs_df[['Normal']]\n",
    "\n",
    "Normal_df = Normal_df.rename_axis('Reactions').reset_index()"
   ]
  },
  {
   "cell_type": "code",
   "execution_count": null,
   "id": "07c37fec",
   "metadata": {},
   "outputs": [],
   "source": [
    "from plotnine import *\n",
    "ggplot(survs_df, aes(x='weight', y='hindfoot_length')) + geom_point()\n",
    "\n"
   ]
  },
  {
   "cell_type": "code",
   "execution_count": null,
   "id": "6537896a",
   "metadata": {},
   "outputs": [],
   "source": [
    "# n=50\n",
    "compare_df_long = compare_df.melt(ignore_index=False, var_name='Genes')\n",
    "compare_df_long = compare_df_long.rename_axis('Flux').reset_index()\n",
    "compare_df_long.value = compare_df_long.value.abs()"
   ]
  },
  {
   "cell_type": "code",
   "execution_count": null,
   "id": "fe07b7f3",
   "metadata": {},
   "outputs": [],
   "source": [
    "so.Plot(compare_df_long, 'Flux', 'value', color = 'Genes').add(so.Area(alpha=.5))\n"
   ]
  },
  {
   "cell_type": "code",
   "execution_count": null,
   "id": "812d482e",
   "metadata": {},
   "outputs": [],
   "source": [
    "import seaborn.objects as so\n",
    "so.Plot(compare_df_long, 'Flux', 'value', color = 'Genes').add(so.Area(alpha=.5))\n"
   ]
  },
  {
   "cell_type": "code",
   "execution_count": null,
   "id": "05caddb0",
   "metadata": {},
   "outputs": [],
   "source": [
    "Normal_df"
   ]
  },
  {
   "cell_type": "code",
   "execution_count": null,
   "id": "b67fad47",
   "metadata": {},
   "outputs": [],
   "source": [
    "so.Plot(Normal_df, 'Reactions', 'Normal').add(so.Area(alpha=.5))\n"
   ]
  },
  {
   "cell_type": "code",
   "execution_count": null,
   "id": "d7546b07",
   "metadata": {},
   "outputs": [],
   "source": [
    "compare_abs_df"
   ]
  },
  {
   "cell_type": "code",
   "execution_count": null,
   "id": "c18d5f00",
   "metadata": {},
   "outputs": [],
   "source": [
    "plt.fill_between(compare_abs_df.Reactions, compare_abs_df.Normal)"
   ]
  },
  {
   "cell_type": "code",
   "execution_count": null,
   "id": "2bbb891e",
   "metadata": {},
   "outputs": [],
   "source": [
    "fig, ax = plt.subplots(figsize=(8, 8))\n",
    "# Plot lines\n",
    "ax.plot(time, income, color=\"green\")\n",
    "ax.plot(time, expenses, color=\"red\")\n",
    "\n",
    "# Fill area when income > expenses with green\n",
    "ax.fill_between(\n",
    "    time, income, expenses, where=(income > expenses), \n",
    "    interpolate=True, color=\"green\", alpha=0.25, \n",
    "    label=\"Positive\"\n",
    ")\n",
    "\n",
    "# Fill area when income <= expenses with red\n",
    "ax.fill_between(\n",
    "    time, income, expenses, where=(income <= expenses), \n",
    "    interpolate=True, color=\"red\", alpha=0.25,\n",
    "    label=\"Negative\")"
   ]
  },
  {
   "cell_type": "code",
   "execution_count": null,
   "id": "086b6082",
   "metadata": {},
   "outputs": [],
   "source": [
    "\n",
    "\n",
    "\n"
   ]
  },
  {
   "cell_type": "code",
   "execution_count": null,
   "id": "cd997399",
   "metadata": {},
   "outputs": [],
   "source": [
    "import matplotlib.pyplot as plt\n",
    "plt.fill_between(compare_abs_df.Reactions, compare_abs_df.folA)"
   ]
  },
  {
   "cell_type": "code",
   "execution_count": null,
   "id": "ae0320d8",
   "metadata": {},
   "outputs": [],
   "source": [
    "geom_area(aes(x='Reactions', y='Normal'))"
   ]
  },
  {
   "cell_type": "code",
   "execution_count": null,
   "id": "f16a8e1a",
   "metadata": {},
   "outputs": [],
   "source": [
    "compare_abs_df['Normal'].plot()"
   ]
  },
  {
   "cell_type": "code",
   "execution_count": null,
   "id": "1978ac7e",
   "metadata": {},
   "outputs": [],
   "source": [
    "compare_abs_df = (pd.DataFrame({colname: abs(col) for colname, col in compare_df.items()}).\n",
    "                  rename_axis('Reactions').\n",
    "                  reset_index())"
   ]
  },
  {
   "cell_type": "code",
   "execution_count": null,
   "id": "afaf2d2e",
   "metadata": {},
   "outputs": [],
   "source": [
    "ggplot(Normal_df, aes(x='Reactions', y='Normal',group=1))+geom_path()"
   ]
  },
  {
   "cell_type": "code",
   "execution_count": null,
   "id": "06229408",
   "metadata": {},
   "outputs": [],
   "source": [
    "ggplot(compare_abs_df, aes(x='Reactions', y='Normal',group=1))+geom_line()"
   ]
  },
  {
   "cell_type": "code",
   "execution_count": null,
   "id": "91a102c8",
   "metadata": {},
   "outputs": [],
   "source": [
    "# get_row_grmax(desired_BM, genes=genes)\n",
    "desired_BM = get_desired_BM(Biomass_df, regex=regex)\n",
    "\n",
    "temp_df = get_row_grmax(desired_BM, genes=genes) # for flux only\n",
    "df = temp_df\n",
    "if genes != 'Normal':\n",
    "    v1_cols = df.filter(regex='v1').columns\n",
    "    for gene in convert_arg_to_list(genes):\n",
    "        rcts = list()\n",
    "        for rct in E0.genes.get_by_id(get_gene_id(E0, genes)).reactions:\n",
    "            rcts.append(rct.id)\n",
    "\n",
    "        for v1_col in (set(v1_cols) & set(rcts)): # associated with gene/ find from gene\n",
    "            original_col = v1_col.replace(\"_v1\", '')\n",
    "            df[f'{original_col}'] = df[f'{original_col}'] + df[f'{v1_col}']/alpha_table.loc[f'{gene}', 'E0']\n",
    "            df.drop(f'{v1_col}', axis=1)\n",
    "            v1_cols.drop(f'{v1_col}')"
   ]
  },
  {
   "cell_type": "code",
   "execution_count": null,
   "id": "8f6582e5",
   "metadata": {},
   "outputs": [],
   "source": [
    "if genes != 'Normal':\n",
    "    v1_cols = df.filter(regex='v1').columns\n",
    "    for gene in convert_arg_to_list(genes):\n",
    "        rcts = list()\n",
    "        for rct in E0.genes.get_by_id(get_gene_id(E0, genes)).reactions:\n",
    "            rcts.append(rct.id)\n",
    "\n",
    "        for v1_col in (set(v1_cols) and set(rcts)): # associated with gene/ find from gene\n",
    "            original_col = v1_col.replace(\"_v1\", '')\n",
    "            df[f'{original_col}'] = df[f'{original_col}'] + df[f'{v1_col}']/alpha_table.loc[f'{gene}', 'E0']\n",
    "            df.drop(f'{v1_col}', axis=1)\n",
    "            v1_cols.drop(f'{v1_col}')"
   ]
  },
  {
   "cell_type": "code",
   "execution_count": null,
   "id": "b36fc0f9",
   "metadata": {},
   "outputs": [],
   "source": [
    "from matplotlib import cm\n",
    "compare_df"
   ]
  },
  {
   "cell_type": "code",
   "execution_count": null,
   "id": "faf337f4",
   "metadata": {},
   "outputs": [],
   "source": [
    "from joypy import joyplot\n",
    "joyplot(compare_df, by = 'Genes', column = 'value', color = 'Orange', fade = True)"
   ]
  },
  {
   "cell_type": "code",
   "execution_count": null,
   "id": "9ff2f1b4",
   "metadata": {},
   "outputs": [],
   "source": [
    "compare_df"
   ]
  },
  {
   "cell_type": "code",
   "execution_count": null,
   "id": "1472b7f0",
   "metadata": {},
   "outputs": [],
   "source": []
  },
  {
   "cell_type": "code",
   "execution_count": null,
   "id": "af915d91",
   "metadata": {},
   "outputs": [],
   "source": [
    "%load_ext rpy2.ipython\n",
    "\n",
    "%R"
   ]
  },
  {
   "cell_type": "code",
   "execution_count": null,
   "id": "8d543873",
   "metadata": {},
   "outputs": [],
   "source": []
  },
  {
   "cell_type": "code",
   "execution_count": null,
   "id": "bfdd1710",
   "metadata": {},
   "outputs": [],
   "source": []
  },
  {
   "cell_type": "code",
   "execution_count": null,
   "id": "11ab7272",
   "metadata": {},
   "outputs": [],
   "source": []
  },
  {
   "cell_type": "code",
   "execution_count": null,
   "id": "d61d05e4",
   "metadata": {},
   "outputs": [],
   "source": []
  },
  {
   "cell_type": "code",
   "execution_count": null,
   "id": "35b4c2fe",
   "metadata": {},
   "outputs": [],
   "source": [
    "dfE"
   ]
  },
  {
   "cell_type": "code",
   "execution_count": null,
   "id": "6e7d0068",
   "metadata": {},
   "outputs": [],
   "source": []
  },
  {
   "cell_type": "code",
   "execution_count": null,
   "id": "d942cfb9",
   "metadata": {},
   "outputs": [],
   "source": []
  },
  {
   "cell_type": "code",
   "execution_count": null,
   "id": "b38fd2e3",
   "metadata": {},
   "outputs": [],
   "source": []
  },
  {
   "cell_type": "code",
   "execution_count": null,
   "id": "37234c52",
   "metadata": {},
   "outputs": [],
   "source": [
    "!pip install yapf"
   ]
  },
  {
   "cell_type": "code",
   "execution_count": null,
   "id": "c096c6be",
   "metadata": {},
   "outputs": [],
   "source": [
    "# desired_cycle = find_upneighbour(desired_BM)\n",
    "# dfE = remove_Zero_col(pd.read_json(dfE).\n",
    "#                       query(\"cycle in @desired_cycle\").\n",
    "#                       drop(['x','y','cycle'], axis=1))"
   ]
  },
  {
   "cell_type": "code",
   "execution_count": null,
   "id": "539b587c",
   "metadata": {},
   "outputs": [],
   "source": [
    "ggplot"
   ]
  },
  {
   "cell_type": "code",
   "execution_count": null,
   "id": "excited-walker",
   "metadata": {},
   "outputs": [],
   "source": [
    "from plotnine import (\n",
    "    ggplot,\n",
    "    aes,\n",
    "    geom_col,\n",
    "    geom_text,\n",
    "    position_dodge,\n",
    "    lims,\n",
    "    theme,\n",
    "    element_text,\n",
    "    element_blank,\n",
    "    element_rect,\n",
    "    element_line,\n",
    ")\n",
    "\n",
    "\n",
    "(ggplot(df, aes(x='variable', y='value', fill='category'))\n",
    " + geom_col()\n",
    ")\n",
    "\n",
    "\n"
   ]
  },
  {
   "cell_type": "code",
   "execution_count": null,
   "id": "advised-smile",
   "metadata": {},
   "outputs": [],
   "source": []
  },
  {
   "cell_type": "code",
   "execution_count": null,
   "id": "speaking-radio",
   "metadata": {},
   "outputs": [],
   "source": [
    "dfE.index = ['Normal']\n",
    "a = dfE.T.sort_values(by='b', key=abs)\n",
    "\n",
    "a.iloc[:,:10].hist()"
   ]
  },
  {
   "cell_type": "code",
   "execution_count": null,
   "id": "metropolitan-virus",
   "metadata": {},
   "outputs": [],
   "source": [
    "# -> merge df\n",
    "sorted_flux = dfE.to_dict('records')\n",
    "a"
   ]
  },
  {
   "cell_type": "code",
   "execution_count": null,
   "id": "productive-playing",
   "metadata": {},
   "outputs": [],
   "source": [
    "dict(sorted(a.items(), key=lambda item: item[1]))"
   ]
  },
  {
   "cell_type": "code",
   "execution_count": null,
   "id": "contrary-hanging",
   "metadata": {},
   "outputs": [],
   "source": [
    "import cobra\n",
    "S0 = cobra.io.read_sbml_model(\"./models/STM_v1_0_S0.xml\")\n"
   ]
  },
  {
   "cell_type": "code",
   "execution_count": null,
   "id": "discrete-bryan",
   "metadata": {},
   "outputs": [],
   "source": [
    "S0.reactions.BIOMASS_Ec_iAF1260_core_59p81M"
   ]
  },
  {
   "cell_type": "code",
   "execution_count": null,
   "id": "falling-hearts",
   "metadata": {},
   "outputs": [],
   "source": []
  },
  {
   "cell_type": "code",
   "execution_count": null,
   "id": "perceived-following",
   "metadata": {},
   "outputs": [],
   "source": []
  },
  {
   "cell_type": "code",
   "execution_count": null,
   "id": "worldwide-facing",
   "metadata": {},
   "outputs": [],
   "source": [
    "df.BIOMASS_Ec_iML1515_core_75p37M.plot()"
   ]
  },
  {
   "cell_type": "code",
   "execution_count": null,
   "id": "surface-trance",
   "metadata": {},
   "outputs": [],
   "source": [
    "dfS = remove_Zero_col(pd.read_json(\n",
    "    N2.loc['Normal', 'S0_ac_coculture_flux']))\n",
    "dfS"
   ]
  },
  {
   "cell_type": "code",
   "execution_count": null,
   "id": "upset-reliance",
   "metadata": {},
   "outputs": [],
   "source": [
    "print(dfS.columns[dfS.columns.filter(reg)])"
   ]
  },
  {
   "cell_type": "code",
   "execution_count": null,
   "id": "packed-battle",
   "metadata": {},
   "outputs": [],
   "source": [
    "dfS.filter(regex='B').columns"
   ]
  },
  {
   "cell_type": "code",
   "execution_count": null,
   "id": "dying-consequence",
   "metadata": {},
   "outputs": [],
   "source": []
  },
  {
   "cell_type": "code",
   "execution_count": null,
   "id": "biblical-passenger",
   "metadata": {},
   "outputs": [],
   "source": []
  },
  {
   "cell_type": "code",
   "execution_count": null,
   "id": "fancy-appreciation",
   "metadata": {},
   "outputs": [],
   "source": [
    "E_f = dfE.BIOMASS_Ec_iML1515_core_75p37M\n",
    "S_f = dfS.BIOMASS_iRR1083_metals"
   ]
  },
  {
   "cell_type": "code",
   "execution_count": null,
   "id": "together-therapist",
   "metadata": {},
   "outputs": [],
   "source": [
    "dfS = N2.loc['Normal', 'S0_ac_coculture_flux']\n"
   ]
  },
  {
   "cell_type": "code",
   "execution_count": null,
   "id": "guided-controversy",
   "metadata": {},
   "outputs": [],
   "source": [
    "# growth phase is when 2 start growing"
   ]
  },
  {
   "cell_type": "code",
   "execution_count": null,
   "id": "tender-animation",
   "metadata": {},
   "outputs": [],
   "source": []
  },
  {
   "cell_type": "code",
   "execution_count": null,
   "id": "executive-banking",
   "metadata": {},
   "outputs": [],
   "source": [
    "pd.concat([E_f, S_f], axis=1).plot()"
   ]
  },
  {
   "cell_type": "code",
   "execution_count": null,
   "id": "middle-rebound",
   "metadata": {},
   "outputs": [],
   "source": []
  },
  {
   "cell_type": "code",
   "execution_count": null,
   "id": "stupid-recommendation",
   "metadata": {},
   "outputs": [],
   "source": []
  },
  {
   "cell_type": "code",
   "execution_count": null,
   "id": "satellite-consideration",
   "metadata": {},
   "outputs": [],
   "source": []
  },
  {
   "cell_type": "code",
   "execution_count": null,
   "id": "located-rally",
   "metadata": {},
   "outputs": [],
   "source": []
  }
 ],
 "metadata": {
  "kernelspec": {
   "display_name": "vR",
   "language": "python",
   "name": "vr"
  },
  "language_info": {
   "codemirror_mode": {
    "name": "ipython",
    "version": 3
   },
   "file_extension": ".py",
   "mimetype": "text/x-python",
   "name": "python",
   "nbconvert_exporter": "python",
   "pygments_lexer": "ipython3",
   "version": "3.7.16"
  },
  "toc": {
   "base_numbering": 1,
   "nav_menu": {},
   "number_sections": true,
   "sideBar": true,
   "skip_h1_title": false,
   "title_cell": "Table of Contents",
   "title_sidebar": "Contents",
   "toc_cell": false,
   "toc_position": {},
   "toc_section_display": true,
   "toc_window_display": false
  },
  "varInspector": {
   "cols": {
    "lenName": 16,
    "lenType": 16,
    "lenVar": 40
   },
   "kernels_config": {
    "python": {
     "delete_cmd_postfix": "",
     "delete_cmd_prefix": "del ",
     "library": "var_list.py",
     "varRefreshCmd": "print(var_dic_list())"
    },
    "r": {
     "delete_cmd_postfix": ") ",
     "delete_cmd_prefix": "rm(",
     "library": "var_list.r",
     "varRefreshCmd": "cat(var_dic_list()) "
    }
   },
   "types_to_exclude": [
    "module",
    "function",
    "builtin_function_or_method",
    "instance",
    "_Feature"
   ],
   "window_display": false
  }
 },
 "nbformat": 4,
 "nbformat_minor": 5
}

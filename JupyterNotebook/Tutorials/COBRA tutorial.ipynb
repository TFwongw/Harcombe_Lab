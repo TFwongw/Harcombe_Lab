{
 "cells": [
  {
   "cell_type": "markdown",
   "id": "83fe4628",
   "metadata": {},
   "source": [
    "This noteboook introduced some useful functions in COBRA documnetation"
   ]
  },
  {
   "cell_type": "markdown",
   "id": "4f43c0f4",
   "metadata": {},
   "source": [
    "# changing objective \n"
   ]
  },
  {
   "cell_type": "code",
   "execution_count": 27,
   "id": "6e14e1aa",
   "metadata": {},
   "outputs": [],
   "source": [
    "%run Div_Setup.ipynb\n",
    "import re\n",
    "import cobra\n",
    "from optlang.symbolics import Zero"
   ]
  },
  {
   "cell_type": "markdown",
   "id": "7f804b82",
   "metadata": {},
   "source": [
    "## Conventional way"
   ]
  },
  {
   "cell_type": "code",
   "execution_count": 6,
   "id": "7fb92a0c",
   "metadata": {},
   "outputs": [
    {
     "name": "stdout",
     "output_type": "stream",
     "text": [
      "1.0*BIOMASS_Ec_iML1515_core_75p37M - 1.0*BIOMASS_Ec_iML1515_core_75p37M_reverse_35685 + 1.0*DHFR - 1.0*DHFR_reverse_65c32\n"
     ]
    }
   ],
   "source": [
    "# container error if same objective is present in the model already, need to set 0 first\n",
    "with E0:\n",
    "    E0.objective = Zero\n",
    "    E0.objective = ['DHFR', 'BIOMASS_Ec_iML1515_core_75p37M']\n",
    "    print(E0.objective.expression)"
   ]
  },
  {
   "cell_type": "markdown",
   "id": "ef137843",
   "metadata": {},
   "source": [
    "## cobra.Reaction as Variable in optlang-> add to objective\n",
    "Enable specification of weighting of specific flux"
   ]
  },
  {
   "cell_type": "code",
   "execution_count": 20,
   "id": "2f66e13d",
   "metadata": {},
   "outputs": [
    {
     "name": "stdout",
     "output_type": "stream",
     "text": [
      "2.0*DHFR\n"
     ]
    }
   ],
   "source": [
    "with E0: \n",
    "    E0.objective = 2*E0.problem.Variable('DHFR') # without backward\n",
    "    print(E0.objective.expression)"
   ]
  },
  {
   "cell_type": "markdown",
   "id": "3a6d1fa5",
   "metadata": {},
   "source": [
    "## change reaction coefficient"
   ]
  },
  {
   "cell_type": "code",
   "execution_count": 8,
   "id": "13cbc873",
   "metadata": {},
   "outputs": [
    {
     "name": "stdout",
     "output_type": "stream",
     "text": [
      "1.0*BIOMASS_Ec_iML1515_core_75p37M - 1.0*BIOMASS_Ec_iML1515_core_75p37M_reverse_35685 + 2.0*EX_gal_e - 2.0*EX_gal_e_reverse_d166c\n"
     ]
    }
   ],
   "source": [
    "with E0:\n",
    "    E0.reactions.EX_gal_e.objective_coefficient = 2\n",
    "    print(E0.objective.expression)"
   ]
  },
  {
   "cell_type": "markdown",
   "id": "a1f72c3b",
   "metadata": {},
   "source": [
    "## set_objective to append objective or replace"
   ]
  },
  {
   "cell_type": "code",
   "execution_count": 13,
   "id": "8afaae70",
   "metadata": {
    "scrolled": true
   },
   "outputs": [
    {
     "name": "stdout",
     "output_type": "stream",
     "text": [
      "Added objective: 1.0*BIOMASS_Ec_iML1515_core_75p37M - 1.0*BIOMASS_Ec_iML1515_core_75p37M_reverse_35685 + 2.0*EX_ac_e\n",
      "Replaced objective: 2.0*EX_ac_e\n"
     ]
    }
   ],
   "source": [
    "from cobra.util.solver import set_objective\n",
    "with E0:\n",
    "    set_objective(E0, 2*E0.problem.Variable('EX_ac_e'), additive=True) # add to original objective\n",
    "    print('Added objective:',E0.objective.expression)\n",
    "    set_objective(E0, 2*E0.problem.Variable('EX_ac_e'), additive=False) # replace\n",
    "    print('Replaced objective:', E0.objective.expression)"
   ]
  },
  {
   "cell_type": "code",
   "execution_count": 29,
   "id": "c2c46d2c",
   "metadata": {},
   "outputs": [
    {
     "name": "stdout",
     "output_type": "stream",
     "text": [
      "5.0*BIOMASS_Ec_iML1515_core_75p37M - 5.0*BIOMASS_Ec_iML1515_core_75p37M_reverse_35685 + 1.0*EX_ac_e - 1.0*EX_ac_e_reverse_0be96\n"
     ]
    }
   ],
   "source": [
    "with E0 as model:\n",
    "    model.objective = {model.reactions.EX_ac_e: 1,\n",
    "                       model.reactions.BIOMASS_Ec_iML1515_core_75p37M: 5}\n",
    "    print(E0.objective.expression)    "
   ]
  },
  {
   "cell_type": "markdown",
   "id": "36399f63",
   "metadata": {},
   "source": [
    "# Constraining sum of flux to be within lb,ub\n",
    "Adding variable in add_cons_vars not required-> repeat adding otherwise"
   ]
  },
  {
   "cell_type": "code",
   "execution_count": 12,
   "id": "b91ea52e",
   "metadata": {},
   "outputs": [
    {
     "name": "stdout",
     "output_type": "stream",
     "text": [
      "1000.0\n"
     ]
    }
   ],
   "source": [
    "with E0 as model:\n",
    "    sum_two = model.problem.Constraint(\n",
    "        model.reactions.FBA.flux_expression - model.reactions.EX_ac_e.flux_expression,\n",
    "        lb=2,\n",
    "        ub=2) # force to be 2\n",
    "    model.add_cons_vars(sum_two) \n",
    "    model.solver.update()\n",
    "    print(model.slim_optimize())"
   ]
  },
  {
   "cell_type": "code",
   "execution_count": null,
   "id": "5b67365a",
   "metadata": {},
   "outputs": [],
   "source": [
    "with E0 as model:\n",
    "    difference = model.problem.Variable('difference')\n",
    "    constraint = model.problem.Constraint(\n",
    "        model.reactions.EX_glc__D_e.flux_expression -\n",
    "        model.reactions.EX_nh4_e.flux_expression - difference,\n",
    "        lb=0,\n",
    "        ub=0)\n",
    "    model.add_cons_vars([constraint])\n",
    "    \n",
    "    model.solver.update()\n",
    "    print(model.slim_optimize())"
   ]
  },
  {
   "cell_type": "markdown",
   "id": "c54dbd70",
   "metadata": {},
   "source": [
    "# Test for flux_variability and container\n",
    "\n",
    "Modify flux analysis circumvent container error already exist\n",
    "\n",
    "(Only changed roaming script flux_variability function)"
   ]
  },
  {
   "cell_type": "code",
   "execution_count": 1,
   "id": "b4a00e77",
   "metadata": {},
   "outputs": [],
   "source": [
    "from cobra.flux_analysis import flux_variability_analysis\n",
    "flux_variability_analysis(E0, ['DHFR'])\n",
    "flux_variability_analysis(E0, ['DHFR', 'EX_gal_e'])"
   ]
  },
  {
   "cell_type": "markdown",
   "id": "4fea9b3d",
   "metadata": {
    "heading_collapsed": true
   },
   "source": [
    "# Gene decoding redundancy"
   ]
  },
  {
   "cell_type": "code",
   "execution_count": 51,
   "id": "6776d196",
   "metadata": {
    "hidden": true
   },
   "outputs": [],
   "source": [
    "def get_redundancy_dict(model, rxn_list):\n",
    "    def map_to_list(fun, elements, **kwargs):\n",
    "        return list(fun(x, **kwargs) for x in elements)\n",
    "\n",
    "    def map_to_list(fun, elements, **kwargs):\n",
    "        return list(fun(x, **kwargs) for x in elements)\n",
    "\n",
    "    remove_blanket = lambda x: map_to_list(str.split,\n",
    "                                        map(str.strip, re.sub(r'\\(|\\)','',x).split('and')),sep='or')\n",
    "    def get_gpr_dict(model, rxn):\n",
    "        gpr_dict = dict()\n",
    "        splitted_list = map_to_list(remove_blanket, get_component(model, rxn).gpr.to_string().split('or (')) \n",
    "        for g_set in splitted_list:\n",
    "            if len(g_set)==1:\n",
    "                gpr_dict['Direct'] = g_set[0]\n",
    "            else:\n",
    "                gpr_dict['Co'] = g_set\n",
    "        return {rxn: gpr_dict}\n",
    "\n",
    "    redundancy_dict = dict()\n",
    "    [redundancy_dict.update(get_gpr_dict(model, rxn)) for rxn in rxn_list]\n",
    "    return redundancy_dict"
   ]
  },
  {
   "cell_type": "code",
   "execution_count": 52,
   "id": "9f663b7c",
   "metadata": {
    "hidden": true
   },
   "outputs": [
    {
     "name": "stdout",
     "output_type": "stream",
     "text": [
      "['DHFR', 'DHPS2']\n"
     ]
    },
    {
     "data": {
      "text/plain": [
       "{'DHFR': {'Direct': ['b1606 ', ' b0048']}, 'DHPS2': {'Direct': ['b3177']}}"
      ]
     },
     "execution_count": 52,
     "metadata": {},
     "output_type": "execute_result"
    }
   ],
   "source": [
    "get_redundancy_dict(E0, rr)"
   ]
  }
 ],
 "metadata": {
  "kernelspec": {
   "display_name": "vR",
   "language": "python",
   "name": "vr"
  },
  "language_info": {
   "codemirror_mode": {
    "name": "ipython",
    "version": 3
   },
   "file_extension": ".py",
   "mimetype": "text/x-python",
   "name": "python",
   "nbconvert_exporter": "python",
   "pygments_lexer": "ipython3",
   "version": "3.11.5"
  },
  "toc": {
   "base_numbering": 1,
   "nav_menu": {},
   "number_sections": true,
   "sideBar": true,
   "skip_h1_title": false,
   "title_cell": "Table of Contents",
   "title_sidebar": "Contents",
   "toc_cell": false,
   "toc_position": {},
   "toc_section_display": true,
   "toc_window_display": false
  },
  "varInspector": {
   "cols": {
    "lenName": 16,
    "lenType": 16,
    "lenVar": 40
   },
   "kernels_config": {
    "python": {
     "delete_cmd_postfix": "",
     "delete_cmd_prefix": "del ",
     "library": "var_list.py",
     "varRefreshCmd": "print(var_dic_list())"
    },
    "r": {
     "delete_cmd_postfix": ") ",
     "delete_cmd_prefix": "rm(",
     "library": "var_list.r",
     "varRefreshCmd": "cat(var_dic_list()) "
    }
   },
   "types_to_exclude": [
    "module",
    "function",
    "builtin_function_or_method",
    "instance",
    "_Feature"
   ],
   "window_display": false
  }
 },
 "nbformat": 4,
 "nbformat_minor": 5
}

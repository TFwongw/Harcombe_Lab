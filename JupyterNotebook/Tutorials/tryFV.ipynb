{
 "cells": [
  {
   "cell_type": "markdown",
   "id": "b2f1f70c",
   "metadata": {},
   "source": [
    "\n",
    "# New heading"
   ]
  },
  {
   "cell_type": "code",
   "execution_count": 3,
   "id": "4c459f83",
   "metadata": {},
   "outputs": [],
   "source": [
    "import cobra\n",
    "from cobra.io import load_model\n",
    "import cometspy as c\n",
    "import os\n",
    "import pandas as pd\n",
    "import matplotlib.pyplot as plt\n",
    "import numpy as np\n",
    "import itertools\n",
    "\n",
    "S0 = cobra.io.read_sbml_model(\"./models/STM_v1_0_S0.xml\")\n",
    "E0 = cobra.io.read_sbml_model(\"./models/iML1515_E0.xml\")\n"
   ]
  },
  {
   "cell_type": "code",
   "execution_count": null,
   "id": "ce606be9",
   "metadata": {},
   "outputs": [],
   "source": [
    "E0.reactions.EX_met__L_e"
   ]
  },
  {
   "cell_type": "code",
   "execution_count": 169,
   "id": "eae638a3",
   "metadata": {},
   "outputs": [
    {
     "ename": "NameError",
     "evalue": "name 'S0' is not defined",
     "output_type": "error",
     "traceback": [
      "\u001b[1;31m---------------------------------------------------------------------------\u001b[0m",
      "\u001b[1;31mNameError\u001b[0m                                 Traceback (most recent call last)",
      "Cell \u001b[1;32mIn[169], line 21\u001b[0m\n\u001b[0;32m      2\u001b[0m \u001b[38;5;28;01mfrom\u001b[39;00m \u001b[38;5;21;01moptlang\u001b[39;00m\u001b[38;5;21;01m.\u001b[39;00m\u001b[38;5;21;01msymbolics\u001b[39;00m \u001b[38;5;28;01mimport\u001b[39;00m Zero \n\u001b[0;32m      4\u001b[0m ac_medium \u001b[38;5;241m=\u001b[39m {\u001b[38;5;124m'\u001b[39m\u001b[38;5;124mEX_ca2_e\u001b[39m\u001b[38;5;124m'\u001b[39m: \u001b[38;5;241m10\u001b[39m,\n\u001b[0;32m      5\u001b[0m  \u001b[38;5;124m'\u001b[39m\u001b[38;5;124mEX_cl_e\u001b[39m\u001b[38;5;124m'\u001b[39m: \u001b[38;5;241m10\u001b[39m,\n\u001b[0;32m      6\u001b[0m  \u001b[38;5;124m'\u001b[39m\u001b[38;5;124mEX_cobalt2_e\u001b[39m\u001b[38;5;124m'\u001b[39m: \u001b[38;5;241m10\u001b[39m,\n\u001b[1;32m   (...)\u001b[0m\n\u001b[0;32m     19\u001b[0m  \u001b[38;5;124m'\u001b[39m\u001b[38;5;124mEX_nh4_e\u001b[39m\u001b[38;5;124m'\u001b[39m: \u001b[38;5;241m10\u001b[39m,\n\u001b[0;32m     20\u001b[0m  \u001b[38;5;124m'\u001b[39m\u001b[38;5;124mEX_ac_e\u001b[39m\u001b[38;5;124m'\u001b[39m: \u001b[38;5;241m10\u001b[39m}\n\u001b[1;32m---> 21\u001b[0m \u001b[94mS0\u001b[39m\u001b[38;5;241m.\u001b[39mmedium \u001b[38;5;241m=\u001b[39m ac_medium \n\u001b[0;32m     23\u001b[0m \u001b[38;5;66;03m# with S0:\u001b[39;00m\n\u001b[0;32m     24\u001b[0m \u001b[38;5;66;03m#     a = flux_variability_analysis(S0,S0.reactions[:2])\u001b[39;00m\n\u001b[0;32m     25\u001b[0m \u001b[38;5;66;03m# flux_variability_analysis(S0,S0.reactions[0:10])\u001b[39;00m\n",
      "\u001b[1;31mNameError\u001b[0m: name 'S0' is not defined"
     ]
    }
   ],
   "source": [
    "from cobra.flux_analysis import flux_variability_analysis\n",
    "from optlang.symbolics import Zero \n",
    "\n",
    "ac_medium = {'EX_ca2_e': 10,\n",
    " 'EX_cl_e': 10,\n",
    " 'EX_cobalt2_e': 10,\n",
    " 'EX_cu2_e': 10,\n",
    " 'EX_fe2_e': 10,\n",
    " 'EX_fe3_e': 10,\n",
    " 'EX_k_e': 10,\n",
    " 'EX_mg2_e': 10,\n",
    " 'EX_mn2_e': 10,\n",
    " 'EX_mobd_e': 10,\n",
    " 'EX_ni2_e': 10,\n",
    " 'EX_o2_e': 10,\n",
    " 'EX_pi_e': 10,\n",
    " 'EX_so4_e': 10,\n",
    " 'EX_zn2_e': 10,\n",
    " 'EX_nh4_e': 10,\n",
    " 'EX_ac_e': 10}\n",
    "S0.medium = ac_medium \n",
    "\n",
    "# with S0:\n",
    "#     a = flux_variability_analysis(S0,S0.reactions[:2])\n",
    "# flux_variability_analysis(S0,S0.reactions[0:10])"
   ]
  },
  {
   "cell_type": "code",
   "execution_count": 3,
   "id": "12abe2ab",
   "metadata": {},
   "outputs": [
    {
     "ename": "NameError",
     "evalue": "name 'E0' is not defined",
     "output_type": "error",
     "traceback": [
      "\u001b[1;31m---------------------------------------------------------------------------\u001b[0m",
      "\u001b[1;31mNameError\u001b[0m                                 Traceback (most recent call last)",
      "Cell \u001b[1;32mIn[3], line 20\u001b[0m\n\u001b[0;32m     18\u001b[0m lactose_met_medium \u001b[38;5;241m=\u001b[39m lactose_medium\u001b[38;5;241m.\u001b[39mcopy()\n\u001b[0;32m     19\u001b[0m lactose_met_medium[\u001b[38;5;124m\"\u001b[39m\u001b[38;5;124mEX_met__L_e\u001b[39m\u001b[38;5;124m\"\u001b[39m] \u001b[38;5;241m=\u001b[39m \u001b[38;5;241m10\u001b[39m \n\u001b[1;32m---> 20\u001b[0m \u001b[94mE0\u001b[39m\u001b[38;5;241m.\u001b[39mmedium \u001b[38;5;241m=\u001b[39m lactose_met_medium \n\u001b[0;32m     23\u001b[0m \u001b[38;5;66;03m# with E0 as S0:\u001b[39;00m\n\u001b[0;32m     24\u001b[0m \u001b[38;5;66;03m#     a = flux_variability_analysis(S0,S0.reactions[:2])\u001b[39;00m\n",
      "\u001b[1;31mNameError\u001b[0m: name 'E0' is not defined"
     ]
    }
   ],
   "source": [
    "lactose_medium = {'EX_ca2_e': 10,\n",
    " 'EX_cl_e': 10,\n",
    " 'EX_cobalt2_e': 10,\n",
    " 'EX_cu2_e': 10,\n",
    " 'EX_fe2_e': 10,\n",
    " 'EX_fe3_e': 10,\n",
    " 'EX_k_e': 10,\n",
    " 'EX_mg2_e': 10,\n",
    " 'EX_mn2_e': 10,\n",
    " 'EX_mobd_e': 10,\n",
    " 'EX_ni2_e': 10,\n",
    " 'EX_o2_e': 10,\n",
    " 'EX_pi_e': 10,\n",
    " 'EX_so4_e': 10,\n",
    " 'EX_zn2_e': 10,\n",
    " 'EX_nh4_e': 10,\n",
    " 'EX_lcts_e': 10}\n",
    "lactose_met_medium = lactose_medium.copy()\n",
    "lactose_met_medium[\"EX_met__L_e\"] = 10 \n",
    "E0.medium = lactose_met_medium \n",
    "\n",
    "\n",
    "# with E0 as S0:\n",
    "#     a = flux_variability_analysis(S0,S0.reactions[:2])"
   ]
  },
  {
   "cell_type": "markdown",
   "id": "d3ab2ae6",
   "metadata": {},
   "source": [
    "# Change of flux variability script"
   ]
  },
  {
   "cell_type": "code",
   "execution_count": null,
   "id": "f80f821f",
   "metadata": {},
   "outputs": [],
   "source": [
    "Code to replace to avoid adding repeated variables  \n",
    "# unknown? will removal of variable and adding back change objective?"
   ]
  },
  {
   "cell_type": "markdown",
   "id": "88ddc3ab",
   "metadata": {},
   "source": [
    "model.add_cons_vars([fva_old_objective, fva_old_obj_constraint])\n",
    "\n",
    "model.add_cons_vars([flux_sum, flux_sum_constraint])\n",
    "\n",
    "\n",
    "-- Line 213\n",
    "\n",
    "model.solver.remove(model.solver.objective.variables)\n",
    "\n",
    "model.add_cons_vars([fva_old_obj_constraint])\n",
    "\n",
    "model.solver.update()\n",
    "\n",
    "-- line 234\n",
    "\n",
    "model.add_cons_vars([flux_sum_constraint])\n"
   ]
  },
  {
   "cell_type": "code",
   "execution_count": null,
   "id": "56cccbb2",
   "metadata": {},
   "outputs": [],
   "source": [
    "from cobra.flux_analysis import flux_variability_analysis\n",
    "flux_variability_analysis(E0, ['DHFR'])\n",
    "flux_variability_analysis(E0, ['DHFR', 'EX_gal_e'])"
   ]
  },
  {
   "cell_type": "markdown",
   "id": "9b54d6eb",
   "metadata": {
    "heading_collapsed": true
   },
   "source": [
    "# previous tests"
   ]
  },
  {
   "cell_type": "code",
   "execution_count": 21,
   "id": "bba37056",
   "metadata": {
    "hidden": true
   },
   "outputs": [],
   "source": [
    "\n",
    "import cobraa\n",
    "\n",
    "from optlang.symbolics import Zero\n",
    "model = cobra.io.read_sbml_model(\"./models/iML1515_E0.xml\")\n",
    "prob = model.problem\n",
    "fva_old_objective = prob.Variable(\n",
    "    \"fva_old_objective\",\n",
    "    lb=1 * model.solver.objective.value,\n",
    ")\n",
    "fva_old_obj_constraint = prob.Constraint(\n",
    "    model.solver.objective.expression - fva_old_objective,\n",
    "    lb=0,\n",
    "    ub=0,\n",
    "    name=\"fva_old_objective_constraint\",\n",
    ")\n",
    "# model.objective=Zero\n",
    "# set_objective(model, Zero, additive=False)\n",
    "# model.add_cons_vars([fva_old_objective, fva_old_obj_constraint])\n",
    "# model.objective=Zero\n",
    "# model.objective=Zero\n",
    "# model.objective=Zero\n",
    "# model.objective=Zero"
   ]
  },
  {
   "cell_type": "markdown",
   "id": "a991eb9d",
   "metadata": {
    "hidden": true
   },
   "source": [
    "Retest"
   ]
  },
  {
   "cell_type": "code",
   "execution_count": 22,
   "id": "c78b2312",
   "metadata": {
    "hidden": true
   },
   "outputs": [],
   "source": [
    "model.add_cons_vars([fva_old_objective, fva_old_obj_constraint])\n"
   ]
  },
  {
   "cell_type": "code",
   "execution_count": null,
   "id": "f8676e14",
   "metadata": {
    "hidden": true
   },
   "outputs": [],
   "source": []
  },
  {
   "cell_type": "code",
   "execution_count": 9,
   "id": "8d8185f7",
   "metadata": {
    "hidden": true
   },
   "outputs": [],
   "source": [
    "# fva_old_obj_constraint.problem\n",
    "fva_old_objective.problem"
   ]
  },
  {
   "cell_type": "code",
   "execution_count": 11,
   "id": "c13400b2",
   "metadata": {
    "hidden": true
   },
   "outputs": [],
   "source": [
    "from optlang import Variable"
   ]
  },
  {
   "cell_type": "code",
   "execution_count": 19,
   "id": "972f69a7",
   "metadata": {
    "hidden": true
   },
   "outputs": [],
   "source": [
    "model.problem.Variable('BIOMASS_Ec_iML1515_core_75p37M').problem = model"
   ]
  },
  {
   "cell_type": "code",
   "execution_count": 20,
   "id": "f9a85dba",
   "metadata": {
    "hidden": true
   },
   "outputs": [
    {
     "name": "stdout",
     "output_type": "stream",
     "text": [
      "None\n"
     ]
    }
   ],
   "source": [
    "print(model.problem.Variable('BIOMASS_Ec_iML1515_core_75p37M').problem)"
   ]
  },
  {
   "cell_type": "code",
   "execution_count": 5,
   "id": "f0bd9433",
   "metadata": {
    "hidden": true
   },
   "outputs": [
    {
     "data": {
      "text/plain": [
       "<optlang.container.Container at 0x17561486010>"
      ]
     },
     "execution_count": 5,
     "metadata": {},
     "output_type": "execute_result"
    }
   ],
   "source": [
    "model.solver.variables"
   ]
  },
  {
   "cell_type": "code",
   "execution_count": 3,
   "id": "720f9525",
   "metadata": {
    "hidden": true
   },
   "outputs": [],
   "source": [
    "model.solver.update()"
   ]
  },
  {
   "cell_type": "code",
   "execution_count": 1,
   "id": "554bc011",
   "metadata": {
    "hidden": true
   },
   "outputs": [
    {
     "name": "stdout",
     "output_type": "stream",
     "text": [
      "True\n"
     ]
    }
   ],
   "source": [
    "lactose_medium = {'EX_ca2_e': 10,\n",
    " 'EX_cl_e': 10,\n",
    " 'EX_cobalt2_e': 10,\n",
    " 'EX_cu2_e': 10,\n",
    " 'EX_fe2_e': 10,\n",
    " 'EX_fe3_e': 10,\n",
    " 'EX_k_e': 10,\n",
    " 'EX_mg2_e': 10,\n",
    " 'EX_mn2_e': 10,\n",
    " 'EX_mobd_e': 10,\n",
    " 'EX_ni2_e': 10,\n",
    " 'EX_o2_e': 10,\n",
    " 'EX_pi_e': 10,\n",
    " 'EX_so4_e': 10,\n",
    " 'EX_zn2_e': 10,\n",
    " 'EX_nh4_e': 10,\n",
    " 'EX_lcts_e': 10}\n",
    "lactose_met_medium = lactose_medium.copy()\n",
    "lactose_met_medium[\"EX_met__L_e\"] = 10 \n",
    "# E0.medium = lactose_met_medium\n",
    "\n",
    "import cobra\n",
    "from optlang.symbolics import Zero\n",
    "model = cobra.io.read_sbml_model(\"./models/iML1515_E0.xml\")\n",
    "model.medium = lactose_met_medium\n",
    "# model.objective = \n",
    "with model:\n",
    "    model.slim_optimize()\n",
    "    prob = model.problem\n",
    "    fva_old_objective = prob.Variable(\n",
    "            \"fva_old_objective\",\n",
    "            lb=model.solver.objective.value,\n",
    "        )\n",
    "    fva_old_obj_constraint = prob.Constraint(\n",
    "        model.solver.objective.expression - fva_old_objective,\n",
    "        lb=0,\n",
    "        ub=0,\n",
    "        name=\"fva_old_objective_constraint\",\n",
    "    )\n",
    "    \n",
    "# model.objective = Zero\n",
    "    model.solver.remove(model.solver.objective.variables)\n",
    "    model.add_cons_vars([fva_old_obj_constraint])\n",
    "    model.solver.update()\n",
    "    print('fva_old_objective' in model.solver.variables)\n",
    "    model.remove_cons_vars([fva_old_obj_constraint])\n",
    "    model.solver.remove(fva_old_objective)\n",
    "    model.solver.update()\n",
    "    \n",
    "    \n",
    "# model.solver.update()"
   ]
  },
  {
   "cell_type": "code",
   "execution_count": 5,
   "id": "f7e112e4",
   "metadata": {
    "hidden": true
   },
   "outputs": [
    {
     "data": {
      "text/plain": [
       "False"
      ]
     },
     "execution_count": 5,
     "metadata": {},
     "output_type": "execute_result"
    }
   ],
   "source": [
    "'fva_old_objective' in model.solver.variables"
   ]
  },
  {
   "cell_type": "code",
   "execution_count": 4,
   "id": "1191242b",
   "metadata": {
    "hidden": true
   },
   "outputs": [],
   "source": [
    "model.solver.update()"
   ]
  },
  {
   "cell_type": "code",
   "execution_count": 38,
   "id": "60b461df",
   "metadata": {
    "hidden": true
   },
   "outputs": [
    {
     "data": {
      "text/plain": [
       "True"
      ]
     },
     "execution_count": 38,
     "metadata": {},
     "output_type": "execute_result"
    }
   ],
   "source": [
    "'fva_old_objective' in model.solver.variables"
   ]
  },
  {
   "cell_type": "code",
   "execution_count": 17,
   "id": "67c1870f",
   "metadata": {
    "hidden": true
   },
   "outputs": [],
   "source": [
    "model.solver.remove()"
   ]
  },
  {
   "cell_type": "code",
   "execution_count": 1,
   "id": "6f10f259",
   "metadata": {
    "hidden": true
   },
   "outputs": [
    {
     "ename": "NameError",
     "evalue": "name 'model' is not defined",
     "output_type": "error",
     "traceback": [
      "\u001b[1;31m---------------------------------------------------------------------------\u001b[0m",
      "\u001b[1;31mNameError\u001b[0m                                 Traceback (most recent call last)",
      "Cell \u001b[1;32mIn[1], line 2\u001b[0m\n\u001b[0;32m      1\u001b[0m \u001b[38;5;66;03m# model.solver.add([fva_old_objective], sloppy=True)\u001b[39;00m\n\u001b[1;32m----> 2\u001b[0m \u001b[94mmodel\u001b[39m\u001b[38;5;241m.\u001b[39msolver\u001b[38;5;241m.\u001b[39madd([fva_old_obj_constraint])\n\u001b[0;32m      3\u001b[0m \u001b[38;5;66;03m# , \u001b[39;00m\n",
      "\u001b[1;31mNameError\u001b[0m: name 'model' is not defined"
     ]
    }
   ],
   "source": [
    "# model.solver.add([fva_old_objective], sloppy=True)\n",
    "model.solver.add([fva_old_obj_constraint])\n",
    "# , "
   ]
  },
  {
   "cell_type": "code",
   "execution_count": 28,
   "id": "b9a8b857",
   "metadata": {
    "hidden": true
   },
   "outputs": [
    {
     "data": {
      "text/plain": [
       "True"
      ]
     },
     "execution_count": 28,
     "metadata": {},
     "output_type": "execute_result"
    }
   ],
   "source": [
    "'BIOMASS_Ec_iML1515_core_75p37M' in model.solver.variables"
   ]
  },
  {
   "cell_type": "code",
   "execution_count": 26,
   "id": "e043580c",
   "metadata": {
    "hidden": true
   },
   "outputs": [],
   "source": [
    "processes= 2\n",
    "from cobra."
   ]
  },
  {
   "cell_type": "code",
   "execution_count": 24,
   "id": "5edc399e",
   "metadata": {
    "hidden": true
   },
   "outputs": [],
   "source": [
    "reaction_ids = ['DHFR']"
   ]
  },
  {
   "cell_type": "code",
   "execution_count": 27,
   "id": "cf74dabb",
   "metadata": {
    "hidden": true
   },
   "outputs": [
    {
     "ename": "NameError",
     "evalue": "name 'ProcessPool' is not defined",
     "output_type": "error",
     "traceback": [
      "\u001b[1;31m---------------------------------------------------------------------------\u001b[0m",
      "\u001b[1;31mNameError\u001b[0m                                 Traceback (most recent call last)",
      "Cell \u001b[1;32mIn[27], line 2\u001b[0m\n\u001b[0;32m      1\u001b[0m chunk_size \u001b[38;5;241m=\u001b[39m \u001b[38;5;28mlen\u001b[39m(reaction_ids) \u001b[38;5;241m/\u001b[39m\u001b[38;5;241m/\u001b[39m processes\n\u001b[1;32m----> 2\u001b[0m \u001b[38;5;28;01mwith\u001b[39;00m \u001b[94mProcessPool\u001b[39m(\n\u001b[0;32m      3\u001b[0m     processes,\n\u001b[0;32m      4\u001b[0m \u001b[38;5;66;03m#                     initializer=init_worker,\u001b[39;00m\n\u001b[0;32m      5\u001b[0m     initargs\u001b[38;5;241m=\u001b[39m(model, loopless, what[:\u001b[38;5;241m3\u001b[39m]),\n\u001b[0;32m      6\u001b[0m ) \u001b[38;5;28;01mas\u001b[39;00m pool:\n\u001b[0;32m      7\u001b[0m     \u001b[38;5;28;01mfor\u001b[39;00m rxn_id, value \u001b[38;5;129;01min\u001b[39;00m pool\u001b[38;5;241m.\u001b[39mimap_unordered(\n\u001b[0;32m      8\u001b[0m         fva_step, reaction_ids, chunksize\u001b[38;5;241m=\u001b[39mchunk_size\n\u001b[0;32m      9\u001b[0m     ):\n\u001b[0;32m     10\u001b[0m         fva_result\u001b[38;5;241m.\u001b[39mat[rxn_id, what] \u001b[38;5;241m=\u001b[39m value\n",
      "\u001b[1;31mNameError\u001b[0m: name 'ProcessPool' is not defined"
     ]
    }
   ],
   "source": [
    "                chunk_size = len(reaction_ids) // processes\n",
    "                with ProcessPool(\n",
    "                    processes,\n",
    "#                     initializer=init_worker,\n",
    "                    initargs=(model, loopless, what[:3]),\n",
    "                ) as pool:\n",
    "                    for rxn_id, value in pool.imap_unordered(\n",
    "                        fva_step, reaction_ids, chunksize=chunk_size\n",
    "                    ):\n",
    "                        fva_result.at[rxn_id, what] = value"
   ]
  },
  {
   "cell_type": "code",
   "execution_count": 17,
   "id": "f3daa968",
   "metadata": {
    "hidden": true
   },
   "outputs": [
    {
     "ename": "NameError",
     "evalue": "name 'init_worker' is not defined",
     "output_type": "error",
     "traceback": [
      "\u001b[1;31m---------------------------------------------------------------------------\u001b[0m",
      "\u001b[1;31mNameError\u001b[0m                                 Traceback (most recent call last)",
      "Cell \u001b[1;32mIn[17], line 9\u001b[0m\n\u001b[0;32m      2\u001b[0m \u001b[38;5;28;01mif\u001b[39;00m processes \u001b[38;5;241m>\u001b[39m \u001b[38;5;241m1\u001b[39m:\n\u001b[0;32m      3\u001b[0m     \u001b[38;5;66;03m# We create and destroy a new pool here in order to set the\u001b[39;00m\n\u001b[0;32m      4\u001b[0m     \u001b[38;5;66;03m# objective direction for all reactions. This creates a\u001b[39;00m\n\u001b[0;32m      5\u001b[0m     \u001b[38;5;66;03m# slight overhead but seems the most clean.\u001b[39;00m\n\u001b[0;32m      6\u001b[0m     chunk_size \u001b[38;5;241m=\u001b[39m \u001b[38;5;28mlen\u001b[39m(reaction_ids) \u001b[38;5;241m/\u001b[39m\u001b[38;5;241m/\u001b[39m processes\n\u001b[0;32m      7\u001b[0m     \u001b[38;5;28;01mwith\u001b[39;00m ProcessPool(\n\u001b[0;32m      8\u001b[0m         processes,\n\u001b[1;32m----> 9\u001b[0m         initializer\u001b[38;5;241m=\u001b[39m\u001b[94minit_worker\u001b[39m,\n\u001b[0;32m     10\u001b[0m         initargs\u001b[38;5;241m=\u001b[39m(model, loopless, what[:\u001b[38;5;241m3\u001b[39m]),\n\u001b[0;32m     11\u001b[0m     ) \u001b[38;5;28;01mas\u001b[39;00m pool:\n\u001b[0;32m     12\u001b[0m         \u001b[38;5;28;01mfor\u001b[39;00m rxn_id, value \u001b[38;5;129;01min\u001b[39;00m pool\u001b[38;5;241m.\u001b[39mimap_unordered(\n\u001b[0;32m     13\u001b[0m             fva_step, reaction_ids, chunksize\u001b[38;5;241m=\u001b[39mchunk_size\n\u001b[0;32m     14\u001b[0m         ):\n\u001b[0;32m     15\u001b[0m             fva_result\u001b[38;5;241m.\u001b[39mat[rxn_id, what] \u001b[38;5;241m=\u001b[39m value\n",
      "\u001b[1;31mNameError\u001b[0m: name 'init_worker' is not defined"
     ]
    }
   ],
   "source": [
    "for what in (\"minimum\", \"maximum\"):\n",
    "            if processes > 1:\n",
    "                # We create and destroy a new pool here in order to set the\n",
    "                # objective direction for all reactions. This creates a\n",
    "                # slight overhead but seems the most clean.\n",
    "                chunk_size = len(reaction_ids) // processes\n",
    "                with ProcessPool(\n",
    "                    processes,\n",
    "                    initializer=init_worker,\n",
    "                    initargs=(model, loopless, what[:3]),\n",
    "                ) as pool:\n",
    "                    for rxn_id, value in pool.imap_unordered(\n",
    "                        fva_step, reaction_ids, chunksize=chunk_size\n",
    "                    ):\n",
    "                        fva_result.at[rxn_id, what] = value\n",
    "            else:\n",
    "                init_worker(model, loopless, what[:3])\n",
    "                for rxn_id, value in map(fva_step, reaction_ids):\n",
    "                    fva_result.at[rxn_id, what] = value"
   ]
  },
  {
   "cell_type": "code",
   "execution_count": null,
   "id": "280a6802",
   "metadata": {
    "hidden": true
   },
   "outputs": [],
   "source": [
    "\n",
    "S0.flux_analysis.reaction"
   ]
  },
  {
   "cell_type": "code",
   "execution_count": null,
   "id": "8f7886f8",
   "metadata": {
    "hidden": true
   },
   "outputs": [],
   "source": [
    "model = S0.copy()\n",
    "with S0:\n",
    "    a = flux_variability_analysis(S0,S0.reactions[:2])"
   ]
  },
  {
   "cell_type": "code",
   "execution_count": null,
   "id": "e6177634",
   "metadata": {
    "hidden": true
   },
   "outputs": [],
   "source": []
  },
  {
   "cell_type": "code",
   "execution_count": null,
   "id": "e28c6797",
   "metadata": {
    "hidden": true
   },
   "outputs": [],
   "source": [
    "model.objective = Zero\n",
    "a = flux_variability_analysis(model,model.reactions[:2])"
   ]
  },
  {
   "cell_type": "code",
   "execution_count": null,
   "id": "a4a3a1f5",
   "metadata": {
    "hidden": true
   },
   "outputs": [],
   "source": []
  }
 ],
 "metadata": {
  "kernelspec": {
   "display_name": "vR",
   "language": "python",
   "name": "vr"
  },
  "language_info": {
   "codemirror_mode": {
    "name": "ipython",
    "version": 3
   },
   "file_extension": ".py",
   "mimetype": "text/x-python",
   "name": "python",
   "nbconvert_exporter": "python",
   "pygments_lexer": "ipython3",
   "version": "3.11.5"
  },
  "toc": {
   "base_numbering": 1,
   "nav_menu": {},
   "number_sections": true,
   "sideBar": true,
   "skip_h1_title": false,
   "title_cell": "Table of Contents",
   "title_sidebar": "Contents",
   "toc_cell": false,
   "toc_position": {},
   "toc_section_display": true,
   "toc_window_display": false
  },
  "varInspector": {
   "cols": {
    "lenName": 16,
    "lenType": 16,
    "lenVar": 40
   },
   "kernels_config": {
    "python": {
     "delete_cmd_postfix": "",
     "delete_cmd_prefix": "del ",
     "library": "var_list.py",
     "varRefreshCmd": "print(var_dic_list())"
    },
    "r": {
     "delete_cmd_postfix": ") ",
     "delete_cmd_prefix": "rm(",
     "library": "var_list.r",
     "varRefreshCmd": "cat(var_dic_list()) "
    }
   },
   "position": {
    "height": "424.833px",
    "left": "1123.33px",
    "right": "20px",
    "top": "120px",
    "width": "315.867px"
   },
   "types_to_exclude": [
    "module",
    "function",
    "builtin_function_or_method",
    "instance",
    "_Feature"
   ],
   "window_display": false
  }
 },
 "nbformat": 4,
 "nbformat_minor": 5
}
